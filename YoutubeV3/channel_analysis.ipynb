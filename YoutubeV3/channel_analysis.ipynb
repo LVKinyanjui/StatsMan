{
 "cells": [
  {
   "cell_type": "markdown",
   "metadata": {},
   "source": [
    "This is meant to analyse the statistics of a youtube channel to draw specific insights about it."
   ]
  },
  {
   "cell_type": "code",
   "execution_count": 1,
   "metadata": {},
   "outputs": [],
   "source": [
    "from youtube_api import YoutubeAPI\n",
    "from modules.async_functions import aget_video_stats"
   ]
  },
  {
   "cell_type": "code",
   "execution_count": 2,
   "metadata": {},
   "outputs": [],
   "source": [
    "api = YoutubeAPI(video_url=\"https://www.youtube.com/watch?v=FkREhcew93k\")"
   ]
  },
  {
   "cell_type": "code",
   "execution_count": 3,
   "metadata": {},
   "outputs": [
    {
     "data": {
      "text/plain": [
       "['FkREhcew93k',\n",
       " 'eVfpxTnDkYI',\n",
       " 'SVFGzlElC8w',\n",
       " '6VJ30VMoyNs',\n",
       " 'IJ8b0j_ZTok',\n",
       " 'uCAMiFcsvEU',\n",
       " '1MHSGivAJvI',\n",
       " '2LiTewGxvr0',\n",
       " 'j64acCeati4',\n",
       " 'yoyhwPCq5Fg',\n",
       " 'uTA3DOL8AfE',\n",
       " '9rJO3vptblU',\n",
       " '5ycev3hrR-U',\n",
       " 'MykDCoBujuU',\n",
       " 'YjRP7USZBqI',\n",
       " 'SXCfxZ7U-Cw',\n",
       " 'KmhJ-VTViss',\n",
       " 'FpZBGp5j-Ek',\n",
       " '7FiHlCMt1Ws',\n",
       " '0UItQIgz4w8',\n",
       " 'Exm6m2Z9sSU',\n",
       " '0gH-hSyWp9o',\n",
       " 'XfJmAubmB9g',\n",
       " 'LCb7cy8U0Vo',\n",
       " '2XOuAz5uH_Y',\n",
       " 'KjNqRQe1QFw',\n",
       " 'L5chAHDItx8',\n",
       " 'QgWGT-Hxpss',\n",
       " 'jgR5c6CcB_w',\n",
       " 'KOstiHw4LTY',\n",
       " 'u1Odq3s5tkw',\n",
       " 'QJ7zvGV8tbY',\n",
       " 'oGPhUurk3yE',\n",
       " 'xhNJfL9L_sg',\n",
       " 'dBslxTNE9cs',\n",
       " 'atg2ufpsst8',\n",
       " 'Y4WyLc-IvRw',\n",
       " 'QddjMBzyJUQ',\n",
       " 'Hqs24Gm0y_g',\n",
       " 'fgocUgMCPbg',\n",
       " 'mDhTq8_EHhs',\n",
       " 'a_1cV7hg5G8',\n",
       " 'IK1JQkBsLfE',\n",
       " 'WNxd2T10f1Y',\n",
       " 'dzVDyswpJCc',\n",
       " '7W8p-X09a7U',\n",
       " 'NtRkPxDtOwo',\n",
       " 'W3o4tddLB3I',\n",
       " 'JS8KLXpVyZU',\n",
       " 'JjcmHrF3yFI',\n",
       " 'dTgvHYxpc2Y',\n",
       " 'fyB04WgQYnc',\n",
       " 'HCZyxCCyMLc',\n",
       " 'kpxJXtgws1Q',\n",
       " 'qTg5IzS6PWY',\n",
       " 'suCdwBx7N-s',\n",
       " 'u4ryZ3oPCJY',\n",
       " 'S9Do2p4PwtE',\n",
       " 'wRtKpfKwjKY',\n",
       " 'LaL8TQ-PzYs',\n",
       " 'nrUboBuGaWo',\n",
       " 'sAzRc78TK0M',\n",
       " 'QAAIKLxu5rc',\n",
       " 'KP39tYVZkCM',\n",
       " 'G6l7IW1dgGY',\n",
       " 'JMkt5W-83Y4',\n",
       " '91uYTxdprTI',\n",
       " 'JQ116Gvzg-4',\n",
       " 'MfZNo0wJO8s',\n",
       " 'y2c_tJ-C8o0',\n",
       " 'WsMP47OkrJw',\n",
       " 'dBpXhygf9r8',\n",
       " 'REN63ncuHyY',\n",
       " 'AryHmknLagk',\n",
       " 'xxy7Xk67p94',\n",
       " 'STS2-IDMaa8',\n",
       " 'SsMStq3ErJA',\n",
       " 'XY_DmktIRIM',\n",
       " 'woKUEIJkwxI',\n",
       " 'Ln88zXmFSm0',\n",
       " 'xgSwxJjrZdM',\n",
       " 'jxi0ETwDvws',\n",
       " 'Zq-sGEwPLUQ',\n",
       " 'ucHE7REWvEo',\n",
       " 'BoJGIqyriCc',\n",
       " 'kPWsC7zfnnY',\n",
       " '0GQ4tdeMqy0',\n",
       " 'pgrGSnC3SKE',\n",
       " 'smOiMZngY7s',\n",
       " 'WrTbNA4D_EQ',\n",
       " 'vINkWUe874c',\n",
       " 'l9IQaJY4XUQ',\n",
       " 'w03s-oxh8sA',\n",
       " '2KFVPA8x3wQ',\n",
       " 'cUh339Z70hQ',\n",
       " 'xCGu5Z_vaps',\n",
       " 'nSKp2StlS6s',\n",
       " 'KqZkzfNn4yI',\n",
       " 'F1tg_nFi8B8',\n",
       " 'mQnF1BBBtXs',\n",
       " 'rj3pnZ51xI4',\n",
       " 'FKHWmKbOPsI',\n",
       " 'q3G4EPGH2r0',\n",
       " 'Mq1MD5qXI08',\n",
       " 'Wm2h0cbvsw8']"
      ]
     },
     "execution_count": 3,
     "metadata": {},
     "output_type": "execute_result"
    }
   ],
   "source": [
    "api.get_uploads_playlist_id()\n",
    "api.get_video_ids_from_playlist()"
   ]
  },
  {
   "cell_type": "code",
   "execution_count": 4,
   "metadata": {},
   "outputs": [],
   "source": [
    "data = await aget_video_stats(api.video_ids)"
   ]
  },
  {
   "cell_type": "code",
   "execution_count": 5,
   "metadata": {},
   "outputs": [],
   "source": [
    "import json\n",
    "\n",
    "with open(\"data/data.jsonl\", \"w\", encoding=\"utf-8\") as fp:\n",
    "    for record in data:\n",
    "        json.dump(record, fp)\n",
    "        fp.write(\"\\n\")"
   ]
  },
  {
   "cell_type": "markdown",
   "metadata": {},
   "source": [
    "### Exploratory Analysis"
   ]
  },
  {
   "cell_type": "code",
   "execution_count": 6,
   "metadata": {},
   "outputs": [],
   "source": [
    "import pandas as pd"
   ]
  },
  {
   "cell_type": "code",
   "execution_count": 7,
   "metadata": {},
   "outputs": [],
   "source": [
    "# import json\n",
    "\n",
    "# with open(\"data/data.jsonl\", encoding=\"utf-8\") as fp:\n",
    "#     data = [json.loads(record) for record in fp]"
   ]
  },
  {
   "cell_type": "code",
   "execution_count": 8,
   "metadata": {},
   "outputs": [],
   "source": [
    "df = pd.DataFrame(data)"
   ]
  },
  {
   "cell_type": "code",
   "execution_count": 9,
   "metadata": {},
   "outputs": [
    {
     "data": {
      "text/html": [
       "<div>\n",
       "<style scoped>\n",
       "    .dataframe tbody tr th:only-of-type {\n",
       "        vertical-align: middle;\n",
       "    }\n",
       "\n",
       "    .dataframe tbody tr th {\n",
       "        vertical-align: top;\n",
       "    }\n",
       "\n",
       "    .dataframe thead th {\n",
       "        text-align: right;\n",
       "    }\n",
       "</style>\n",
       "<table border=\"1\" class=\"dataframe\">\n",
       "  <thead>\n",
       "    <tr style=\"text-align: right;\">\n",
       "      <th></th>\n",
       "      <th>videoId</th>\n",
       "      <th>viewCount</th>\n",
       "      <th>likeCount</th>\n",
       "      <th>commentCount</th>\n",
       "      <th>duration</th>\n",
       "      <th>videoTitle</th>\n",
       "      <th>publishedAt</th>\n",
       "    </tr>\n",
       "  </thead>\n",
       "  <tbody>\n",
       "    <tr>\n",
       "      <th>0</th>\n",
       "      <td>FkREhcew93k</td>\n",
       "      <td>3282</td>\n",
       "      <td>433</td>\n",
       "      <td>57</td>\n",
       "      <td>PT12M52S</td>\n",
       "      <td>E is for EFF</td>\n",
       "      <td>2024-10-21T17:18:07Z</td>\n",
       "    </tr>\n",
       "    <tr>\n",
       "      <th>1</th>\n",
       "      <td>eVfpxTnDkYI</td>\n",
       "      <td>6512</td>\n",
       "      <td>716</td>\n",
       "      <td>172</td>\n",
       "      <td>PT16M9S</td>\n",
       "      <td>D is for DOS</td>\n",
       "      <td>2024-10-14T14:00:40Z</td>\n",
       "    </tr>\n",
       "  </tbody>\n",
       "</table>\n",
       "</div>"
      ],
      "text/plain": [
       "       videoId viewCount likeCount commentCount  duration    videoTitle  \\\n",
       "0  FkREhcew93k      3282       433           57  PT12M52S  E is for EFF   \n",
       "1  eVfpxTnDkYI      6512       716          172   PT16M9S  D is for DOS   \n",
       "\n",
       "            publishedAt  \n",
       "0  2024-10-21T17:18:07Z  \n",
       "1  2024-10-14T14:00:40Z  "
      ]
     },
     "execution_count": 9,
     "metadata": {},
     "output_type": "execute_result"
    }
   ],
   "source": [
    "df.head(2)"
   ]
  },
  {
   "cell_type": "code",
   "execution_count": 10,
   "metadata": {},
   "outputs": [
    {
     "data": {
      "text/plain": [
       "videoId         object\n",
       "viewCount       object\n",
       "likeCount       object\n",
       "commentCount    object\n",
       "duration        object\n",
       "videoTitle      object\n",
       "publishedAt     object\n",
       "dtype: object"
      ]
     },
     "execution_count": 10,
     "metadata": {},
     "output_type": "execute_result"
    }
   ],
   "source": [
    "df.dtypes"
   ]
  },
  {
   "cell_type": "code",
   "execution_count": 11,
   "metadata": {},
   "outputs": [],
   "source": [
    "df['publishedAt'] = pd.to_datetime(df.publishedAt)\n",
    "df['viewCount'] = pd.to_numeric(df.viewCount)\n",
    "df['likeCount'] = pd.to_numeric(df.likeCount)\n",
    "df['commentCount'] = pd.to_numeric(df.commentCount)"
   ]
  },
  {
   "cell_type": "code",
   "execution_count": 12,
   "metadata": {},
   "outputs": [
    {
     "data": {
      "text/plain": [
       "videoId                      object\n",
       "viewCount                     int64\n",
       "likeCount                     int64\n",
       "commentCount                  int64\n",
       "duration                     object\n",
       "videoTitle                   object\n",
       "publishedAt     datetime64[ns, UTC]\n",
       "dtype: object"
      ]
     },
     "execution_count": 12,
     "metadata": {},
     "output_type": "execute_result"
    }
   ],
   "source": [
    "df.dtypes"
   ]
  },
  {
   "cell_type": "markdown",
   "metadata": {},
   "source": [
    "### Visualization"
   ]
  },
  {
   "cell_type": "markdown",
   "metadata": {},
   "source": [
    "#### Seaborn"
   ]
  },
  {
   "cell_type": "code",
   "execution_count": 13,
   "metadata": {},
   "outputs": [],
   "source": [
    "import seaborn as sns\n",
    "import matplotlib.pyplot as plt"
   ]
  },
  {
   "cell_type": "code",
   "execution_count": 14,
   "metadata": {},
   "outputs": [],
   "source": [
    "df.set_index('publishedAt', inplace=True)"
   ]
  },
  {
   "cell_type": "code",
   "execution_count": 15,
   "metadata": {},
   "outputs": [
    {
     "data": {
      "image/png": "[encoded data removed]",
      "text/plain": [
       "<Figure size 640x480 with 1 Axes>"
      ]
     },
     "metadata": {},
     "output_type": "display_data"
    }
   ],
   "source": [
    "fig, ax = plt.subplots()\n",
    "sns.lineplot(data=df, ax=ax)\n",
    "plt.xticks(rotation=90)\n",
    "plt.show()"
   ]
  },
  {
   "cell_type": "markdown",
   "metadata": {},
   "source": [
    "#### Plotly"
   ]
  },
  {
   "cell_type": "code",
   "execution_count": 16,
   "metadata": {},
   "outputs": [],
   "source": [
    "import plotly.graph_objects as go"
   ]
  },
  {
   "cell_type": "code",
   "execution_count": 17,
   "metadata": {},
   "outputs": [
    {
     "data": {
      "text/html": [
       "<div>\n",
       "<style scoped>\n",
       "    .dataframe tbody tr th:only-of-type {\n",
       "        vertical-align: middle;\n",
       "    }\n",
       "\n",
       "    .dataframe tbody tr th {\n",
       "        vertical-align: top;\n",
       "    }\n",
       "\n",
       "    .dataframe thead th {\n",
       "        text-align: right;\n",
       "    }\n",
       "</style>\n",
       "<table border=\"1\" class=\"dataframe\">\n",
       "  <thead>\n",
       "    <tr style=\"text-align: right;\">\n",
       "      <th></th>\n",
       "      <th>videoId</th>\n",
       "      <th>viewCount</th>\n",
       "      <th>likeCount</th>\n",
       "      <th>commentCount</th>\n",
       "      <th>duration</th>\n",
       "      <th>videoTitle</th>\n",
       "    </tr>\n",
       "    <tr>\n",
       "      <th>publishedAt</th>\n",
       "      <th></th>\n",
       "      <th></th>\n",
       "      <th></th>\n",
       "      <th></th>\n",
       "      <th></th>\n",
       "      <th></th>\n",
       "    </tr>\n",
       "  </thead>\n",
       "  <tbody>\n",
       "    <tr>\n",
       "      <th>2024-10-21 17:18:07+00:00</th>\n",
       "      <td>FkREhcew93k</td>\n",
       "      <td>3282</td>\n",
       "      <td>433</td>\n",
       "      <td>57</td>\n",
       "      <td>PT12M52S</td>\n",
       "      <td>E is for EFF</td>\n",
       "    </tr>\n",
       "  </tbody>\n",
       "</table>\n",
       "</div>"
      ],
      "text/plain": [
       "                               videoId  viewCount  likeCount  commentCount  \\\n",
       "publishedAt                                                                  \n",
       "2024-10-21 17:18:07+00:00  FkREhcew93k       3282        433            57   \n",
       "\n",
       "                           duration    videoTitle  \n",
       "publishedAt                                        \n",
       "2024-10-21 17:18:07+00:00  PT12M52S  E is for EFF  "
      ]
     },
     "execution_count": 17,
     "metadata": {},
     "output_type": "execute_result"
    }
   ],
   "source": [
    "df.head(1)"
   ]
  },
  {
   "cell_type": "code",
   "execution_count": 18,
   "metadata": {},
   "outputs": [
    {
     "data": {
      "application/vnd.plotly.v1+json": {
       "config": {
        "plotlyServerURL": "https://plot.ly"
       },
       "data": [
        {
         "customdata": [
          [
           "E is for EFF",
           "FkREhcew93k"
          ],
          [
           "D is for DOS",
           "eVfpxTnDkYI"
          ],
          [
           "C is for CP/M",
           "SVFGzlElC8w"
          ],
          [
           "B is for BBC",
           "6VJ30VMoyNs"
          ],
          [
           "A is for ACK",
           "IJ8b0j_ZTok"
          ],
          [
           "Enter Stallman",
           "uCAMiFcsvEU"
          ],
          [
           "Text Encodings Revisited: Let's Read The Comments!",
           "1MHSGivAJvI"
          ],
          [
           "Chinese in the Event Log, UTF-16, and PIKE MATCHBOX",
           "2LiTewGxvr0"
          ],
          [
           "Cases, Code Points and Collations",
           "j64acCeati4"
          ],
          [
           "The Mötley Crüe Guide to Unicode Normalization",
           "yoyhwPCq5Fg"
          ],
          [
           "Code Pages and Kohuepts: The Chaos of 8 Bit Extended ASCII",
           "uTA3DOL8AfE"
          ],
          [
           "From NUL to DEL: Why 7 Bit ASCII IS Actually Really Clever",
           "9rJO3vptblU"
          ],
          [
           "How much does IJSVRIJ score in a Dutch game of Scrabble?",
           "5ycev3hrR-U"
          ],
          [
           "Learning JavaScript with WAT",
           "MykDCoBujuU"
          ],
          [
           "The Road to Rockstar 2.0",
           "YjRP7USZBqI"
          ],
          [
           "Are Feedback Loops the Key to Building Better Software?",
           "SXCfxZ7U-Cw"
          ],
          [
           "The Road to Rockstar 2.0",
           "KmhJ-VTViss"
          ],
          [
           "The Road to Rockstar 2.0",
           "FpZBGp5j-Ek"
          ],
          [
           "What If Wordle Had Cost A Dollar?",
           "7FiHlCMt1Ws"
          ],
          [
           "The Road to Rockstar 2.0",
           "0UItQIgz4w8"
          ],
          [
           "How can a crossword puzzle have two valid solutions?",
           "Exm6m2Z9sSU"
          ],
          [
           "Turns out REST APIs weren't the answer (and that's OK!)",
           "0gH-hSyWp9o"
          ],
          [
           "The Road to Rockstar 2.0",
           "XfJmAubmB9g"
          ],
          [
           "I Was Too Busy Making Videos To Make This Video",
           "LCb7cy8U0Vo"
          ],
          [
           "Spamhaus, GitHub Pages, and good error messages",
           "2XOuAz5uH_Y"
          ],
          [
           "Moore's Law, Amdahl's Law, Conway's Law - and why we need to stop having meetings`",
           "KjNqRQe1QFw"
          ],
          [
           "The Road to Rockstar 2.0",
           "L5chAHDItx8"
          ],
          [
           "The Road to Rockstar 2.0",
           "QgWGT-Hxpss"
          ],
          [
           "Corel Linux: the OS that could have changed the world?",
           "jgR5c6CcB_w"
          ],
          [
           "The Road to Rockstar 2.0",
           "KOstiHw4LTY"
          ],
          [
           "The Road to Rockstar 2.0",
           "u1Odq3s5tkw"
          ],
          [
           "The Road to Rockstar 2.0",
           "QJ7zvGV8tbY"
          ],
          [
           "The Road to Rockstar 2.0",
           "oGPhUurk3yE"
          ],
          [
           "Apollo, Soyuz, Postel's Law - and some really old-school HTML",
           "xhNJfL9L_sg"
          ],
          [
           "Why Does My Phone Think It's In Cairo?",
           "dBslxTNE9cs"
          ],
          [
           "What is Network Neutrality - And Why Does It Matter?",
           "atg2ufpsst8"
          ],
          [
           "There's a 1970s Tape Recorder in Interstellar Space",
           "Y4WyLc-IvRw"
          ],
          [
           "Why Emoji are More Complicated Than You Think",
           "QddjMBzyJUQ"
          ],
          [
           "Delving into the Landscape",
           "Hqs24Gm0y_g"
          ],
          [
           "Does Your UI Pass The \"Moron in a Hurry\" Test?",
           "fgocUgMCPbg"
          ],
          [
           "You Forgot To Say The Magic Word!",
           "mDhTq8_EHhs"
          ],
          [
           "The Evolution of Web Apps 1992-2024",
           "a_1cV7hg5G8"
          ],
          [
           "VS Code Extensions, TypeScript and Mocha",
           "IK1JQkBsLfE"
          ],
          [
           "Tips for Tech Presenters: Solving the \"Super Mario\" Problem",
           "WNxd2T10f1Y"
          ],
          [
           "The Road to Rockstar 2.0: C#, Blazor, WASM, and AOT compilation.",
           "dzVDyswpJCc"
          ],
          [
           "Hey Tech Nerds - Here's a Question: Fundamental Layers of Abstraction",
           "7W8p-X09a7U"
          ],
          [
           "Live from BuildStuff 2023",
           "NtRkPxDtOwo"
          ],
          [
           "Dylan & Mark Podcast Spike",
           "W3o4tddLB3I"
          ],
          [
           "Workshop prep for \"Modern Web Development with C# and .NET\"",
           "JS8KLXpVyZU"
          ],
          [
           "Workshop prep for \"Modern Web Development with C# and .NET\"",
           "JjcmHrF3yFI"
          ],
          [
           "Building the Guitaraoke web app, part 7",
           "dTgvHYxpc2Y"
          ],
          [
           "Building the Guitaraoke web app, part 6",
           "fyB04WgQYnc"
          ],
          [
           "Building the Guitaraoke web app, part 5",
           "HCZyxCCyMLc"
          ],
          [
           "Building the Guitaraoke web app, part 4",
           "kpxJXtgws1Q"
          ],
          [
           "Building the Guitaraoke web app, part 3",
           "qTg5IzS6PWY"
          ],
          [
           "Building the Guitaraoke web app, part 2",
           "suCdwBx7N-s"
          ],
          [
           "Building the Guitaraoke web app, part 1",
           "u4ryZ3oPCJY"
          ],
          [
           "re:bass",
           "S9Do2p4PwtE"
          ],
          [
           "Teams",
           "wRtKpfKwjKY"
          ],
          [
           "ONYX BOOX Note Air - an e-ink tablet running Android 10",
           "LaL8TQ-PzYs"
          ],
          [
           "Building a Rockstar interpreter in TypeScript, Day 1",
           "nrUboBuGaWo"
          ],
          [
           "Advent of Code 2020 -  Day 12,   Part 1... using Amstrad LOGO",
           "sAzRc78TK0M"
          ],
          [
           "Advent of Code Day 12: Part 1 in Amstrad LOGO",
           "QAAIKLxu5rc"
          ],
          [
           "Advent of Code 2020 - Day 11",
           "KP39tYVZkCM"
          ],
          [
           "Advent of Code 2020 - Day 9",
           "G6l7IW1dgGY"
          ],
          [
           "Advent of Code 2020 - Day 8",
           "JMkt5W-83Y4"
          ],
          [
           "Advent of Code 2020 - Day 6",
           "91uYTxdprTI"
          ],
          [
           "Advent of Code 2020 - Day 5",
           "JQ116Gvzg-4"
          ],
          [
           "Advent of Code 2020 - Day 4",
           "MfZNo0wJO8s"
          ],
          [
           "Advent of Code 2020 - Day 3",
           "y2c_tJ-C8o0"
          ],
          [
           "Advent of Code 2020 - Day 2",
           "WsMP47OkrJw"
          ],
          [
           "Advent of Code 2020 - Day 1",
           "dBpXhygf9r8"
          ],
          [
           "Hello Helpdesk",
           "REN63ncuHyY"
          ],
          [
           "Tech Sales",
           "AryHmknLagk"
          ],
          [
           "Meetup 2020",
           "xxy7Xk67p94"
          ],
          [
           "The Seven Microphone Showdown",
           "STS2-IDMaa8"
          ],
          [
           "Learn To Fly : Live in Lockdown",
           "SsMStq3ErJA"
          ],
          [
           "spleeter demo",
           "XY_DmktIRIM"
          ],
          [
           "HTML",
           "woKUEIJkwxI"
          ],
          [
           "Lost It On The Blockchain",
           "Ln88zXmFSm0"
          ],
          [
           "These Are My Own Devices",
           "xgSwxJjrZdM"
          ],
          [
           "Bug in the JavaScript",
           "jxi0ETwDvws"
          ],
          [
           "Dylan Beattie and the Linebreakers - You Give REST a Bad Name (Live at NDC Oslo 2019)",
           "Zq-sGEwPLUQ"
          ],
          [
           "Dylan Beattie and the Linebreakers - Enterprise Waterfall (Live at NDC Oslo 2019)",
           "ucHE7REWvEo"
          ],
          [
           "Dylan Beattie and the Linebreakers - Monads (Live at NDC Oslo 2019)",
           "BoJGIqyriCc"
          ],
          [
           "Dylan Beattie and the Linebreakers ft. Heather Downing - Feature Creep (live at NDC Oslo 2019",
           "kPWsC7zfnnY"
          ],
          [
           "Dylan Beattie and the Linebreakers ft Mark Rendle - MacLife (Live at NDC Oslo 2019)",
           "0GQ4tdeMqy0"
          ],
          [
           "Dylan Beattie and the Linebreakers - We're Gonna Build a Framework (live at NDC Oslo 2019)",
           "pgrGSnC3SKE"
          ],
          [
           "Dylan Beattie and the Linebreakers - HTML (Live at NDC Oslo 2019)",
           "smOiMZngY7s"
          ],
          [
           "Dylan Beattie and the Linebreakers - DMCA (live at NDC Oslo 2019)",
           "WrTbNA4D_EQ"
          ],
          [
           "Dylan Beattie and the LineBreakers - Bug in the JavaScript (Live at NDC Oslo 2019)",
           "vINkWUe874c"
          ],
          [
           "I Want My NDC - Dylan Beattie and the Linebreakers (Live at NDC Oslo 2019)",
           "l9IQaJY4XUQ"
          ],
          [
           "Two Minute Tutorial: Animated gear wheels in Microsoft Powerpoint",
           "w03s-oxh8sA"
          ],
          [
           "Def Leppard -  Animal (Drum Cover)",
           "2KFVPA8x3wQ"
          ],
          [
           "Back at Dotnext Moskva",
           "cUh339Z70hQ"
          ],
          [
           "Big Rewrite (American Pie parody)",
           "xCGu5Z_vaps"
          ],
          [
           "You Give REST a Bad Name",
           "nSKp2StlS6s"
          ],
          [
           "I Want My NDC",
           "KqZkzfNn4yI"
          ],
          [
           "Seven Nation Army   Live in Vilnius",
           "F1tg_nFi8B8"
          ],
          [
           "D M C A",
           "mQnF1BBBtXs"
          ],
          [
           "Full Stack (SkillsMatter)",
           "rj3pnZ51xI4"
          ],
          [
           "The Face of Things to Come",
           "FKHWmKbOPsI"
          ],
          [
           "Use Flatscreens",
           "q3G4EPGH2r0"
          ],
          [
           "Enterprise Waterfall",
           "Mq1MD5qXI08"
          ],
          [
           "We're Gonna Build a Framework",
           "Wm2h0cbvsw8"
          ]
         ],
         "hovertemplate": "<b>publishedAt</b>: %{x}<br><b>viewCount</b>: %{y:.2f}<br><b>videoTitle</b>: %{customdata[0]}<br><b>videoId</b>: %{customdata[1]}<extra></extra>",
         "mode": "lines+markers",
         "name": "viewCount",
         "type": "scatter",
         "x": [
          "2024-10-21T17:18:07+00:00",
          "2024-10-14T14:00:40+00:00",
          "2024-10-07T15:01:39+00:00",
          "2024-09-30T14:00:09+00:00",
          "2024-09-23T14:00:25+00:00",
          "2024-09-16T14:00:54+00:00",
          "2024-09-09T14:00:03+00:00",
          "2024-09-02T14:00:04+00:00",
          "2024-08-26T14:00:39+00:00",
          "2024-08-19T14:00:52+00:00",
          "2024-08-12T14:00:46+00:00",
          "2024-08-05T14:00:08+00:00",
          "2024-07-29T14:00:04+00:00",
          "2024-07-22T16:26:27+00:00",
          "2024-07-20T17:55:14+00:00",
          "2024-07-15T14:00:32+00:00",
          "2024-07-10T03:10:12+00:00",
          "2024-07-09T18:23:37+00:00",
          "2024-07-08T14:00:06+00:00",
          "2024-07-03T16:57:14+00:00",
          "2024-07-01T14:00:09+00:00",
          "2024-06-24T14:00:01+00:00",
          "2024-06-20T11:43:27+00:00",
          "2024-06-17T14:00:14+00:00",
          "2024-06-10T14:00:04+00:00",
          "2024-06-03T14:00:22+00:00",
          "2024-06-01T00:19:37+00:00",
          "2024-05-29T23:35:26+00:00",
          "2024-05-27T14:00:37+00:00",
          "2024-05-26T17:31:05+00:00",
          "2024-05-25T12:38:09+00:00",
          "2024-05-24T23:17:49+00:00",
          "2024-05-20T20:23:05+00:00",
          "2024-05-20T14:00:47+00:00",
          "2024-05-13T15:00:27+00:00",
          "2024-05-06T14:17:59+00:00",
          "2024-04-29T14:00:25+00:00",
          "2024-04-22T14:00:17+00:00",
          "2024-04-15T14:00:12+00:00",
          "2024-04-08T14:00:26+00:00",
          "2024-04-01T14:00:36+00:00",
          "2024-03-25T15:00:02+00:00",
          "2024-03-19T12:05:10+00:00",
          "2024-03-18T16:00:20+00:00",
          "2024-03-16T10:04:19+00:00",
          "2024-03-11T16:00:04+00:00",
          "2023-11-18T00:01:05+00:00",
          "2023-10-22T03:44:56+00:00",
          "2023-07-21T15:49:51+00:00",
          "2023-07-21T00:09:51+00:00",
          "2023-07-15T13:10:55+00:00",
          "2023-07-14T18:41:47+00:00",
          "2023-07-14T12:55:01+00:00",
          "2023-07-14T10:42:36+00:00",
          "2023-07-14T05:51:42+00:00",
          "2023-07-14T04:25:21+00:00",
          "2023-07-12T14:55:24+00:00",
          "2021-09-23T18:15:09+00:00",
          "2021-07-19T18:00:11+00:00",
          "2021-06-11T12:24:33+00:00",
          "2021-01-06T00:15:44+00:00",
          "2020-12-13T17:52:48+00:00",
          "2020-12-12T18:21:30+00:00",
          "2020-12-12T05:58:44+00:00",
          "2020-12-10T05:26:24+00:00",
          "2020-12-09T05:09:57+00:00",
          "2020-12-07T07:08:41+00:00",
          "2020-12-06T04:00:14+00:00",
          "2020-12-05T05:09:17+00:00",
          "2020-12-04T05:09:59+00:00",
          "2020-12-03T06:05:53+00:00",
          "2020-12-02T05:10:06+00:00",
          "2020-11-02T15:26:47+00:00",
          "2020-09-14T09:17:24+00:00",
          "2020-08-22T21:58:02+00:00",
          "2020-05-12T12:10:19+00:00",
          "2020-03-28T20:23:02+00:00",
          "2020-02-25T01:44:18+00:00",
          "2020-02-23T12:43:06+00:00",
          "2019-12-08T12:26:04+00:00",
          "2019-08-22T07:21:18+00:00",
          "2019-08-13T23:27:05+00:00",
          "2019-06-22T16:30:55+00:00",
          "2019-06-22T16:27:40+00:00",
          "2019-06-22T16:27:34+00:00",
          "2019-06-22T16:27:30+00:00",
          "2019-06-22T16:27:00+00:00",
          "2019-06-22T16:15:45+00:00",
          "2019-06-22T16:13:28+00:00",
          "2019-06-22T15:59:55+00:00",
          "2019-06-22T15:58:19+00:00",
          "2019-06-22T15:52:52+00:00",
          "2019-03-20T00:17:22+00:00",
          "2018-12-10T00:28:19+00:00",
          "2018-11-12T00:17:46+00:00",
          "2018-10-06T17:55:57+00:00",
          "2017-10-28T15:47:05+00:00",
          "2017-07-15T22:38:10+00:00",
          "2017-07-15T11:44:21+00:00",
          "2017-07-15T10:53:42+00:00",
          "2017-07-14T18:21:27+00:00",
          "2017-07-04T16:00:41+00:00",
          "2017-06-18T22:05:50+00:00",
          "2017-05-28T15:16:30+00:00",
          "2016-05-05T00:25:51+00:00"
         ],
         "y": [
          3282,
          6512,
          6944,
          6292,
          6422,
          3668,
          7244,
          7750,
          6640,
          9403,
          9584,
          26863,
          2931,
          6638,
          662,
          6061,
          298,
          313,
          6118,
          473,
          3155,
          160478,
          280,
          1519,
          2576,
          3821,
          269,
          235,
          5369,
          425,
          283,
          307,
          523,
          2742,
          3462,
          1777,
          1853,
          4386,
          2581,
          11804,
          5060,
          34161,
          671,
          4660,
          1411,
          1659,
          289,
          343,
          349,
          227,
          176,
          192,
          134,
          135,
          167,
          103,
          442,
          34276,
          18862,
          8740,
          2379,
          685,
          932,
          645,
          454,
          607,
          479,
          658,
          527,
          775,
          1530,
          5639,
          13709,
          11453,
          4233,
          3239,
          2369,
          3217,
          27929,
          18275,
          8871,
          148102,
          8778,
          4236,
          12851,
          17005,
          8174,
          7516,
          7685,
          3372,
          17352,
          2156,
          18804,
          1199,
          1258,
          111816,
          461972,
          17046,
          1898,
          179683,
          14170,
          1146,
          19467,
          80458,
          212083
         ]
        },
        {
         "mode": "lines",
         "name": "likeCount",
         "type": "scatter",
         "x": [
          "2024-10-21T17:18:07+00:00",
          "2024-10-14T14:00:40+00:00",
          "2024-10-07T15:01:39+00:00",
          "2024-09-30T14:00:09+00:00",
          "2024-09-23T14:00:25+00:00",
          "2024-09-16T14:00:54+00:00",
          "2024-09-09T14:00:03+00:00",
          "2024-09-02T14:00:04+00:00",
          "2024-08-26T14:00:39+00:00",
          "2024-08-19T14:00:52+00:00",
          "2024-08-12T14:00:46+00:00",
          "2024-08-05T14:00:08+00:00",
          "2024-07-29T14:00:04+00:00",
          "2024-07-22T16:26:27+00:00",
          "2024-07-20T17:55:14+00:00",
          "2024-07-15T14:00:32+00:00",
          "2024-07-10T03:10:12+00:00",
          "2024-07-09T18:23:37+00:00",
          "2024-07-08T14:00:06+00:00",
          "2024-07-03T16:57:14+00:00",
          "2024-07-01T14:00:09+00:00",
          "2024-06-24T14:00:01+00:00",
          "2024-06-20T11:43:27+00:00",
          "2024-06-17T14:00:14+00:00",
          "2024-06-10T14:00:04+00:00",
          "2024-06-03T14:00:22+00:00",
          "2024-06-01T00:19:37+00:00",
          "2024-05-29T23:35:26+00:00",
          "2024-05-27T14:00:37+00:00",
          "2024-05-26T17:31:05+00:00",
          "2024-05-25T12:38:09+00:00",
          "2024-05-24T23:17:49+00:00",
          "2024-05-20T20:23:05+00:00",
          "2024-05-20T14:00:47+00:00",
          "2024-05-13T15:00:27+00:00",
          "2024-05-06T14:17:59+00:00",
          "2024-04-29T14:00:25+00:00",
          "2024-04-22T14:00:17+00:00",
          "2024-04-15T14:00:12+00:00",
          "2024-04-08T14:00:26+00:00",
          "2024-04-01T14:00:36+00:00",
          "2024-03-25T15:00:02+00:00",
          "2024-03-19T12:05:10+00:00",
          "2024-03-18T16:00:20+00:00",
          "2024-03-16T10:04:19+00:00",
          "2024-03-11T16:00:04+00:00",
          "2023-11-18T00:01:05+00:00",
          "2023-10-22T03:44:56+00:00",
          "2023-07-21T15:49:51+00:00",
          "2023-07-21T00:09:51+00:00",
          "2023-07-15T13:10:55+00:00",
          "2023-07-14T18:41:47+00:00",
          "2023-07-14T12:55:01+00:00",
          "2023-07-14T10:42:36+00:00",
          "2023-07-14T05:51:42+00:00",
          "2023-07-14T04:25:21+00:00",
          "2023-07-12T14:55:24+00:00",
          "2021-09-23T18:15:09+00:00",
          "2021-07-19T18:00:11+00:00",
          "2021-06-11T12:24:33+00:00",
          "2021-01-06T00:15:44+00:00",
          "2020-12-13T17:52:48+00:00",
          "2020-12-12T18:21:30+00:00",
          "2020-12-12T05:58:44+00:00",
          "2020-12-10T05:26:24+00:00",
          "2020-12-09T05:09:57+00:00",
          "2020-12-07T07:08:41+00:00",
          "2020-12-06T04:00:14+00:00",
          "2020-12-05T05:09:17+00:00",
          "2020-12-04T05:09:59+00:00",
          "2020-12-03T06:05:53+00:00",
          "2020-12-02T05:10:06+00:00",
          "2020-11-02T15:26:47+00:00",
          "2020-09-14T09:17:24+00:00",
          "2020-08-22T21:58:02+00:00",
          "2020-05-12T12:10:19+00:00",
          "2020-03-28T20:23:02+00:00",
          "2020-02-25T01:44:18+00:00",
          "2020-02-23T12:43:06+00:00",
          "2019-12-08T12:26:04+00:00",
          "2019-08-22T07:21:18+00:00",
          "2019-08-13T23:27:05+00:00",
          "2019-06-22T16:30:55+00:00",
          "2019-06-22T16:27:40+00:00",
          "2019-06-22T16:27:34+00:00",
          "2019-06-22T16:27:30+00:00",
          "2019-06-22T16:27:00+00:00",
          "2019-06-22T16:15:45+00:00",
          "2019-06-22T16:13:28+00:00",
          "2019-06-22T15:59:55+00:00",
          "2019-06-22T15:58:19+00:00",
          "2019-06-22T15:52:52+00:00",
          "2019-03-20T00:17:22+00:00",
          "2018-12-10T00:28:19+00:00",
          "2018-11-12T00:17:46+00:00",
          "2018-10-06T17:55:57+00:00",
          "2017-10-28T15:47:05+00:00",
          "2017-07-15T22:38:10+00:00",
          "2017-07-15T11:44:21+00:00",
          "2017-07-15T10:53:42+00:00",
          "2017-07-14T18:21:27+00:00",
          "2017-07-04T16:00:41+00:00",
          "2017-06-18T22:05:50+00:00",
          "2017-05-28T15:16:30+00:00",
          "2016-05-05T00:25:51+00:00"
         ],
         "y": [
          433,
          716,
          779,
          752,
          657,
          302,
          663,
          966,
          861,
          1043,
          1192,
          2361,
          299,
          559,
          19,
          497,
          12,
          16,
          496,
          17,
          229,
          7908,
          10,
          129,
          346,
          388,
          10,
          6,
          428,
          18,
          12,
          16,
          17,
          353,
          311,
          184,
          221,
          482,
          218,
          990,
          633,
          3111,
          10,
          453,
          49,
          208,
          5,
          14,
          7,
          4,
          7,
          10,
          4,
          6,
          10,
          3,
          17,
          1682,
          594,
          162,
          58,
          19,
          11,
          15,
          20,
          18,
          11,
          17,
          20,
          17,
          38,
          113,
          321,
          308,
          140,
          62,
          76,
          48,
          810,
          385,
          236,
          4108,
          148,
          74,
          231,
          282,
          104,
          96,
          98,
          70,
          307,
          30,
          220,
          12,
          55,
          2960,
          11950,
          225,
          19,
          6817,
          171,
          27,
          636,
          2070,
          3489
         ]
        },
        {
         "mode": "lines",
         "name": "commentCount",
         "type": "scatter",
         "x": [
          "2024-10-21T17:18:07+00:00",
          "2024-10-14T14:00:40+00:00",
          "2024-10-07T15:01:39+00:00",
          "2024-09-30T14:00:09+00:00",
          "2024-09-23T14:00:25+00:00",
          "2024-09-16T14:00:54+00:00",
          "2024-09-09T14:00:03+00:00",
          "2024-09-02T14:00:04+00:00",
          "2024-08-26T14:00:39+00:00",
          "2024-08-19T14:00:52+00:00",
          "2024-08-12T14:00:46+00:00",
          "2024-08-05T14:00:08+00:00",
          "2024-07-29T14:00:04+00:00",
          "2024-07-22T16:26:27+00:00",
          "2024-07-20T17:55:14+00:00",
          "2024-07-15T14:00:32+00:00",
          "2024-07-10T03:10:12+00:00",
          "2024-07-09T18:23:37+00:00",
          "2024-07-08T14:00:06+00:00",
          "2024-07-03T16:57:14+00:00",
          "2024-07-01T14:00:09+00:00",
          "2024-06-24T14:00:01+00:00",
          "2024-06-20T11:43:27+00:00",
          "2024-06-17T14:00:14+00:00",
          "2024-06-10T14:00:04+00:00",
          "2024-06-03T14:00:22+00:00",
          "2024-06-01T00:19:37+00:00",
          "2024-05-29T23:35:26+00:00",
          "2024-05-27T14:00:37+00:00",
          "2024-05-26T17:31:05+00:00",
          "2024-05-25T12:38:09+00:00",
          "2024-05-24T23:17:49+00:00",
          "2024-05-20T20:23:05+00:00",
          "2024-05-20T14:00:47+00:00",
          "2024-05-13T15:00:27+00:00",
          "2024-05-06T14:17:59+00:00",
          "2024-04-29T14:00:25+00:00",
          "2024-04-22T14:00:17+00:00",
          "2024-04-15T14:00:12+00:00",
          "2024-04-08T14:00:26+00:00",
          "2024-04-01T14:00:36+00:00",
          "2024-03-25T15:00:02+00:00",
          "2024-03-19T12:05:10+00:00",
          "2024-03-18T16:00:20+00:00",
          "2024-03-16T10:04:19+00:00",
          "2024-03-11T16:00:04+00:00",
          "2023-11-18T00:01:05+00:00",
          "2023-10-22T03:44:56+00:00",
          "2023-07-21T15:49:51+00:00",
          "2023-07-21T00:09:51+00:00",
          "2023-07-15T13:10:55+00:00",
          "2023-07-14T18:41:47+00:00",
          "2023-07-14T12:55:01+00:00",
          "2023-07-14T10:42:36+00:00",
          "2023-07-14T05:51:42+00:00",
          "2023-07-14T04:25:21+00:00",
          "2023-07-12T14:55:24+00:00",
          "2021-09-23T18:15:09+00:00",
          "2021-07-19T18:00:11+00:00",
          "2021-06-11T12:24:33+00:00",
          "2021-01-06T00:15:44+00:00",
          "2020-12-13T17:52:48+00:00",
          "2020-12-12T18:21:30+00:00",
          "2020-12-12T05:58:44+00:00",
          "2020-12-10T05:26:24+00:00",
          "2020-12-09T05:09:57+00:00",
          "2020-12-07T07:08:41+00:00",
          "2020-12-06T04:00:14+00:00",
          "2020-12-05T05:09:17+00:00",
          "2020-12-04T05:09:59+00:00",
          "2020-12-03T06:05:53+00:00",
          "2020-12-02T05:10:06+00:00",
          "2020-11-02T15:26:47+00:00",
          "2020-09-14T09:17:24+00:00",
          "2020-08-22T21:58:02+00:00",
          "2020-05-12T12:10:19+00:00",
          "2020-03-28T20:23:02+00:00",
          "2020-02-25T01:44:18+00:00",
          "2020-02-23T12:43:06+00:00",
          "2019-12-08T12:26:04+00:00",
          "2019-08-22T07:21:18+00:00",
          "2019-08-13T23:27:05+00:00",
          "2019-06-22T16:30:55+00:00",
          "2019-06-22T16:27:40+00:00",
          "2019-06-22T16:27:34+00:00",
          "2019-06-22T16:27:30+00:00",
          "2019-06-22T16:27:00+00:00",
          "2019-06-22T16:15:45+00:00",
          "2019-06-22T16:13:28+00:00",
          "2019-06-22T15:59:55+00:00",
          "2019-06-22T15:58:19+00:00",
          "2019-06-22T15:52:52+00:00",
          "2019-03-20T00:17:22+00:00",
          "2018-12-10T00:28:19+00:00",
          "2018-11-12T00:17:46+00:00",
          "2018-10-06T17:55:57+00:00",
          "2017-10-28T15:47:05+00:00",
          "2017-07-15T22:38:10+00:00",
          "2017-07-15T11:44:21+00:00",
          "2017-07-15T10:53:42+00:00",
          "2017-07-14T18:21:27+00:00",
          "2017-07-04T16:00:41+00:00",
          "2017-06-18T22:05:50+00:00",
          "2017-05-28T15:16:30+00:00",
          "2016-05-05T00:25:51+00:00"
         ],
         "y": [
          57,
          172,
          117,
          84,
          121,
          39,
          256,
          150,
          198,
          125,
          162,
          379,
          46,
          63,
          2,
          47,
          0,
          0,
          47,
          1,
          27,
          785,
          0,
          19,
          40,
          34,
          0,
          3,
          41,
          0,
          0,
          0,
          1,
          28,
          52,
          37,
          20,
          46,
          23,
          100,
          35,
          174,
          0,
          9,
          4,
          14,
          0,
          0,
          1,
          1,
          0,
          0,
          0,
          1,
          0,
          0,
          2,
          76,
          37,
          17,
          2,
          2,
          1,
          0,
          0,
          1,
          1,
          1,
          4,
          3,
          2,
          0,
          12,
          12,
          10,
          7,
          5,
          3,
          37,
          27,
          14,
          193,
          7,
          2,
          2,
          10,
          2,
          12,
          6,
          3,
          13,
          1,
          7,
          5,
          2,
          122,
          192,
          2,
          0,
          367,
          5,
          6,
          25,
          40,
          142
         ]
        }
       ],
       "layout": {
        "template": {
         "data": {
          "bar": [
           {
            "error_x": {
             "color": "#2a3f5f"
            },
            "error_y": {
             "color": "#2a3f5f"
            },
            "marker": {
             "line": {
              "color": "#E5ECF6",
              "width": 0.5
             },
             "pattern": {
              "fillmode": "overlay",
              "size": 10,
              "solidity": 0.2
             }
            },
            "type": "bar"
           }
          ],
          "barpolar": [
           {
            "marker": {
             "line": {
              "color": "#E5ECF6",
              "width": 0.5
             },
             "pattern": {
              "fillmode": "overlay",
              "size": 10,
              "solidity": 0.2
             }
            },
            "type": "barpolar"
           }
          ],
          "carpet": [
           {
            "aaxis": {
             "endlinecolor": "#2a3f5f",
             "gridcolor": "white",
             "linecolor": "white",
             "minorgridcolor": "white",
             "startlinecolor": "#2a3f5f"
            },
            "baxis": {
             "endlinecolor": "#2a3f5f",
             "gridcolor": "white",
             "linecolor": "white",
             "minorgridcolor": "white",
             "startlinecolor": "#2a3f5f"
            },
            "type": "carpet"
           }
          ],
          "choropleth": [
           {
            "colorbar": {
             "outlinewidth": 0,
             "ticks": ""
            },
            "type": "choropleth"
           }
          ],
          "contour": [
           {
            "colorbar": {
             "outlinewidth": 0,
             "ticks": ""
            },
            "colorscale": [
             [
              0,
              "#0d0887"
             ],
             [
              0.1111111111111111,
              "#46039f"
             ],
             [
              0.2222222222222222,
              "#7201a8"
             ],
             [
              0.3333333333333333,
              "#9c179e"
             ],
             [
              0.4444444444444444,
              "#bd3786"
             ],
             [
              0.5555555555555556,
              "#d8576b"
             ],
             [
              0.6666666666666666,
              "#ed7953"
             ],
             [
              0.7777777777777778,
              "#fb9f3a"
             ],
             [
              0.8888888888888888,
              "#fdca26"
             ],
             [
              1,
              "#f0f921"
             ]
            ],
            "type": "contour"
           }
          ],
          "contourcarpet": [
           {
            "colorbar": {
             "outlinewidth": 0,
             "ticks": ""
            },
            "type": "contourcarpet"
           }
          ],
          "heatmap": [
           {
            "colorbar": {
             "outlinewidth": 0,
             "ticks": ""
            },
            "colorscale": [
             [
              0,
              "#0d0887"
             ],
             [
              0.1111111111111111,
              "#46039f"
             ],
             [
              0.2222222222222222,
              "#7201a8"
             ],
             [
              0.3333333333333333,
              "#9c179e"
             ],
             [
              0.4444444444444444,
              "#bd3786"
             ],
             [
              0.5555555555555556,
              "#d8576b"
             ],
             [
              0.6666666666666666,
              "#ed7953"
             ],
             [
              0.7777777777777778,
              "#fb9f3a"
             ],
             [
              0.8888888888888888,
              "#fdca26"
             ],
             [
              1,
              "#f0f921"
             ]
            ],
            "type": "heatmap"
           }
          ],
          "heatmapgl": [
           {
            "colorbar": {
             "outlinewidth": 0,
             "ticks": ""
            },
            "colorscale": [
             [
              0,
              "#0d0887"
             ],
             [
              0.1111111111111111,
              "#46039f"
             ],
             [
              0.2222222222222222,
              "#7201a8"
             ],
             [
              0.3333333333333333,
              "#9c179e"
             ],
             [
              0.4444444444444444,
              "#bd3786"
             ],
             [
              0.5555555555555556,
              "#d8576b"
             ],
             [
              0.6666666666666666,
              "#ed7953"
             ],
             [
              0.7777777777777778,
              "#fb9f3a"
             ],
             [
              0.8888888888888888,
              "#fdca26"
             ],
             [
              1,
              "#f0f921"
             ]
            ],
            "type": "heatmapgl"
           }
          ],
          "histogram": [
           {
            "marker": {
             "pattern": {
              "fillmode": "overlay",
              "size": 10,
              "solidity": 0.2
             }
            },
            "type": "histogram"
           }
          ],
          "histogram2d": [
           {
            "colorbar": {
             "outlinewidth": 0,
             "ticks": ""
            },
            "colorscale": [
             [
              0,
              "#0d0887"
             ],
             [
              0.1111111111111111,
              "#46039f"
             ],
             [
              0.2222222222222222,
              "#7201a8"
             ],
             [
              0.3333333333333333,
              "#9c179e"
             ],
             [
              0.4444444444444444,
              "#bd3786"
             ],
             [
              0.5555555555555556,
              "#d8576b"
             ],
             [
              0.6666666666666666,
              "#ed7953"
             ],
             [
              0.7777777777777778,
              "#fb9f3a"
             ],
             [
              0.8888888888888888,
              "#fdca26"
             ],
             [
              1,
              "#f0f921"
             ]
            ],
            "type": "histogram2d"
           }
          ],
          "histogram2dcontour": [
           {
            "colorbar": {
             "outlinewidth": 0,
             "ticks": ""
            },
            "colorscale": [
             [
              0,
              "#0d0887"
             ],
             [
              0.1111111111111111,
              "#46039f"
             ],
             [
              0.2222222222222222,
              "#7201a8"
             ],
             [
              0.3333333333333333,
              "#9c179e"
             ],
             [
              0.4444444444444444,
              "#bd3786"
             ],
             [
              0.5555555555555556,
              "#d8576b"
             ],
             [
              0.6666666666666666,
              "#ed7953"
             ],
             [
              0.7777777777777778,
              "#fb9f3a"
             ],
             [
              0.8888888888888888,
              "#fdca26"
             ],
             [
              1,
              "#f0f921"
             ]
            ],
            "type": "histogram2dcontour"
           }
          ],
          "mesh3d": [
           {
            "colorbar": {
             "outlinewidth": 0,
             "ticks": ""
            },
            "type": "mesh3d"
           }
          ],
          "parcoords": [
           {
            "line": {
             "colorbar": {
              "outlinewidth": 0,
              "ticks": ""
             }
            },
            "type": "parcoords"
           }
          ],
          "pie": [
           {
            "automargin": true,
            "type": "pie"
           }
          ],
          "scatter": [
           {
            "fillpattern": {
             "fillmode": "overlay",
             "size": 10,
             "solidity": 0.2
            },
            "type": "scatter"
           }
          ],
          "scatter3d": [
           {
            "line": {
             "colorbar": {
              "outlinewidth": 0,
              "ticks": ""
             }
            },
            "marker": {
             "colorbar": {
              "outlinewidth": 0,
              "ticks": ""
             }
            },
            "type": "scatter3d"
           }
          ],
          "scattercarpet": [
           {
            "marker": {
             "colorbar": {
              "outlinewidth": 0,
              "ticks": ""
             }
            },
            "type": "scattercarpet"
           }
          ],
          "scattergeo": [
           {
            "marker": {
             "colorbar": {
              "outlinewidth": 0,
              "ticks": ""
             }
            },
            "type": "scattergeo"
           }
          ],
          "scattergl": [
           {
            "marker": {
             "colorbar": {
              "outlinewidth": 0,
              "ticks": ""
             }
            },
            "type": "scattergl"
           }
          ],
          "scattermapbox": [
           {
            "marker": {
             "colorbar": {
              "outlinewidth": 0,
              "ticks": ""
             }
            },
            "type": "scattermapbox"
           }
          ],
          "scatterpolar": [
           {
            "marker": {
             "colorbar": {
              "outlinewidth": 0,
              "ticks": ""
             }
            },
            "type": "scatterpolar"
           }
          ],
          "scatterpolargl": [
           {
            "marker": {
             "colorbar": {
              "outlinewidth": 0,
              "ticks": ""
             }
            },
            "type": "scatterpolargl"
           }
          ],
          "scatterternary": [
           {
            "marker": {
             "colorbar": {
              "outlinewidth": 0,
              "ticks": ""
             }
            },
            "type": "scatterternary"
           }
          ],
          "surface": [
           {
            "colorbar": {
             "outlinewidth": 0,
             "ticks": ""
            },
            "colorscale": [
             [
              0,
              "#0d0887"
             ],
             [
              0.1111111111111111,
              "#46039f"
             ],
             [
              0.2222222222222222,
              "#7201a8"
             ],
             [
              0.3333333333333333,
              "#9c179e"
             ],
             [
              0.4444444444444444,
              "#bd3786"
             ],
             [
              0.5555555555555556,
              "#d8576b"
             ],
             [
              0.6666666666666666,
              "#ed7953"
             ],
             [
              0.7777777777777778,
              "#fb9f3a"
             ],
             [
              0.8888888888888888,
              "#fdca26"
             ],
             [
              1,
              "#f0f921"
             ]
            ],
            "type": "surface"
           }
          ],
          "table": [
           {
            "cells": {
             "fill": {
              "color": "#EBF0F8"
             },
             "line": {
              "color": "white"
             }
            },
            "header": {
             "fill": {
              "color": "#C8D4E3"
             },
             "line": {
              "color": "white"
             }
            },
            "type": "table"
           }
          ]
         },
         "layout": {
          "annotationdefaults": {
           "arrowcolor": "#2a3f5f",
           "arrowhead": 0,
           "arrowwidth": 1
          },
          "autotypenumbers": "strict",
          "coloraxis": {
           "colorbar": {
            "outlinewidth": 0,
            "ticks": ""
           }
          },
          "colorscale": {
           "diverging": [
            [
             0,
             "#8e0152"
            ],
            [
             0.1,
             "#c51b7d"
            ],
            [
             0.2,
             "#de77ae"
            ],
            [
             0.3,
             "#f1b6da"
            ],
            [
             0.4,
             "#fde0ef"
            ],
            [
             0.5,
             "#f7f7f7"
            ],
            [
             0.6,
             "#e6f5d0"
            ],
            [
             0.7,
             "#b8e186"
            ],
            [
             0.8,
             "#7fbc41"
            ],
            [
             0.9,
             "#4d9221"
            ],
            [
             1,
             "#276419"
            ]
           ],
           "sequential": [
            [
             0,
             "#0d0887"
            ],
            [
             0.1111111111111111,
             "#46039f"
            ],
            [
             0.2222222222222222,
             "#7201a8"
            ],
            [
             0.3333333333333333,
             "#9c179e"
            ],
            [
             0.4444444444444444,
             "#bd3786"
            ],
            [
             0.5555555555555556,
             "#d8576b"
            ],
            [
             0.6666666666666666,
             "#ed7953"
            ],
            [
             0.7777777777777778,
             "#fb9f3a"
            ],
            [
             0.8888888888888888,
             "#fdca26"
            ],
            [
             1,
             "#f0f921"
            ]
           ],
           "sequentialminus": [
            [
             0,
             "#0d0887"
            ],
            [
             0.1111111111111111,
             "#46039f"
            ],
            [
             0.2222222222222222,
             "#7201a8"
            ],
            [
             0.3333333333333333,
             "#9c179e"
            ],
            [
             0.4444444444444444,
             "#bd3786"
            ],
            [
             0.5555555555555556,
             "#d8576b"
            ],
            [
             0.6666666666666666,
             "#ed7953"
            ],
            [
             0.7777777777777778,
             "#fb9f3a"
            ],
            [
             0.8888888888888888,
             "#fdca26"
            ],
            [
             1,
             "#f0f921"
            ]
           ]
          },
          "colorway": [
           "#636efa",
           "#EF553B",
           "#00cc96",
           "#ab63fa",
           "#FFA15A",
           "#19d3f3",
           "#FF6692",
           "#B6E880",
           "#FF97FF",
           "#FECB52"
          ],
          "font": {
           "color": "#2a3f5f"
          },
          "geo": {
           "bgcolor": "white",
           "lakecolor": "white",
           "landcolor": "#E5ECF6",
           "showlakes": true,
           "showland": true,
           "subunitcolor": "white"
          },
          "hoverlabel": {
           "align": "left"
          },
          "hovermode": "closest",
          "mapbox": {
           "style": "light"
          },
          "paper_bgcolor": "white",
          "plot_bgcolor": "#E5ECF6",
          "polar": {
           "angularaxis": {
            "gridcolor": "white",
            "linecolor": "white",
            "ticks": ""
           },
           "bgcolor": "#E5ECF6",
           "radialaxis": {
            "gridcolor": "white",
            "linecolor": "white",
            "ticks": ""
           }
          },
          "scene": {
           "xaxis": {
            "backgroundcolor": "#E5ECF6",
            "gridcolor": "white",
            "gridwidth": 2,
            "linecolor": "white",
            "showbackground": true,
            "ticks": "",
            "zerolinecolor": "white"
           },
           "yaxis": {
            "backgroundcolor": "#E5ECF6",
            "gridcolor": "white",
            "gridwidth": 2,
            "linecolor": "white",
            "showbackground": true,
            "ticks": "",
            "zerolinecolor": "white"
           },
           "zaxis": {
            "backgroundcolor": "#E5ECF6",
            "gridcolor": "white",
            "gridwidth": 2,
            "linecolor": "white",
            "showbackground": true,
            "ticks": "",
            "zerolinecolor": "white"
           }
          },
          "shapedefaults": {
           "line": {
            "color": "#2a3f5f"
           }
          },
          "ternary": {
           "aaxis": {
            "gridcolor": "white",
            "linecolor": "white",
            "ticks": ""
           },
           "baxis": {
            "gridcolor": "white",
            "linecolor": "white",
            "ticks": ""
           },
           "bgcolor": "#E5ECF6",
           "caxis": {
            "gridcolor": "white",
            "linecolor": "white",
            "ticks": ""
           }
          },
          "title": {
           "x": 0.05
          },
          "xaxis": {
           "automargin": true,
           "gridcolor": "white",
           "linecolor": "white",
           "ticks": "",
           "title": {
            "standoff": 15
           },
           "zerolinecolor": "white",
           "zerolinewidth": 2
          },
          "yaxis": {
           "automargin": true,
           "gridcolor": "white",
           "linecolor": "white",
           "ticks": "",
           "title": {
            "standoff": 15
           },
           "zerolinecolor": "white",
           "zerolinewidth": 2
          }
         }
        }
       }
      }
     },
     "metadata": {},
     "output_type": "display_data"
    }
   ],
   "source": [
    "fig = go.Figure()\n",
    "fig.add_trace(go.Scatter(x=df.index, y=df['viewCount'],\n",
    "                         mode=\"lines+markers\",\n",
    "                         name=\"viewCount\",\n",
    "                         customdata=df[['videoTitle', 'videoId']],\n",
    "                         hovertemplate=\n",
    "                        '<b>publishedAt</b>: %{x}<br>' +\n",
    "                        '<b>viewCount</b>: %{y:.2f}<br>' +\n",
    "                        '<b>videoTitle</b>: %{customdata[0]}<br>' +\n",
    "                        '<b>videoId</b>: %{customdata[1]}' +\n",
    "                        '<extra></extra>',))\n",
    "fig.add_trace(go.Scatter(x=df.index, y=df['likeCount'],\n",
    "                             mode=\"lines\",\n",
    "                             name=\"likeCount\"))\n",
    "fig.add_trace(go.Scatter(x=df.index, y=df['commentCount'],\n",
    "                         mode=\"lines\",\n",
    "                         name=\"commentCount\"))\n"
   ]
  },
  {
   "cell_type": "code",
   "execution_count": null,
   "metadata": {},
   "outputs": [],
   "source": []
  }
 ],
 "metadata": {
  "kernelspec": {
   "display_name": "venv",
   "language": "python",
   "name": "python3"
  },
  "language_info": {
   "codemirror_mode": {
    "name": "ipython",
    "version": 3
   },
   "file_extension": ".py",
   "mimetype": "text/x-python",
   "name": "python",
   "nbconvert_exporter": "python",
   "pygments_lexer": "ipython3",
   "version": "3.10.12"
  }
 },
 "nbformat": 4,
 "nbformat_minor": 2
}
