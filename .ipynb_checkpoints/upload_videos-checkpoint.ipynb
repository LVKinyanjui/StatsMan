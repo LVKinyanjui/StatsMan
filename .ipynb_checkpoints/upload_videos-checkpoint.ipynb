{
 "cells": [
  {
   "cell_type": "code",
   "execution_count": 2,
   "id": "4558bf8d-25f7-4f30-a444-f477213b6367",
   "metadata": {
    "tags": []
   },
   "outputs": [],
   "source": [
    "import os\n",
    "import googleapiclient.discovery\n",
    "import googleapiclient.errors\n",
    "from googleapiclient.http import MediaFileUpload\n",
    "from google_auth_oauthlib.flow import InstalledAppFlow"
   ]
  },
  {
   "cell_type": "code",
   "execution_count": null,
   "id": "918a5b6a-da36-4829-848f-e4ddcf991d48",
   "metadata": {},
   "outputs": [],
   "source": [
    "# Replace with your API key\n",
    "API_KEY = os.getenv('YOUTUBE_API_KEY')\n",
    "\n",
    "# Replace with the path to the video you want to upload\n",
    "VIDEO_PATH = 'f:/Jupyter/Manim/venv/media/videos/scene/480p15/DifferentRotations.mp4'"
   ]
  },
  {
   "cell_type": "code",
   "execution_count": null,
   "id": "c75a7e49-9417-452e-9078-b679492a50ea",
   "metadata": {},
   "outputs": [],
   "source": [
    "# Scope for YouTube Data API\n",
    "SCOPES = [\"https://www.googleapis.com/auth/youtube.upload\"]\n",
    "\n",
    "def get_authenticated_service():\n",
    "    flow = InstalledAppFlow.from_client_config({\"installed\": {\n",
    "        \"client_id\": \"\",\n",
    "        \"client_secret\": \"\",\n",
    "        \"redirect_uris\": [\"urn:ietf:wg:oauth:2.0:oob\", \"http://localhost\"]\n",
    "    }}, SCOPES)\n",
    "    credentials = flow.run_console()\n",
    "    return googleapiclient.discovery.build(\"youtube\", \"v3\", credentials=credentials)\n",
    "\n",
    "def upload_video(youtube, video_path):\n",
    "    # Prepare the video resource\n",
    "    media = MediaFileUpload(video_path)\n",
    "\n",
    "    # Set the video details\n",
    "    body = {\n",
    "        \"snippet\": {\n",
    "            \"title\": \"Your Video Title\",\n",
    "            \"description\": \"Your Video Description\",\n",
    "            \"tags\": [\"tag1\", \"tag2\", \"tag3\"],\n",
    "            \"categoryId\": \"22\"  # Replace with the appropriate category ID for your content\n",
    "        },\n",
    "        \"status\": {\n",
    "            \"privacyStatus\": \"private\"  # Change to \"public\" if you want to make the video public\n",
    "        }\n",
    "    }\n",
    "\n",
    "    try:\n",
    "        # Execute the API request to upload the video\n",
    "        youtube.videos().insert(part=\"snippet,status\", body=body, media_body=media).execute()\n",
    "        print(\"Video uploaded successfully.\")\n",
    "    except googleapiclient.errors.HttpError as e:\n",
    "        print(f\"An error occurred: {e}\")\n",
    "        return None\n",
    "\n",
    "if __name__ == \"__main__\":\n",
    "    # Initialize the YouTube API client\n",
    "    youtube = googleapiclient.discovery.build(\"youtube\", \"v3\", developerKey=API_KEY)\n",
    "\n",
    "    # Authenticate and get the authorized service\n",
    "    # Uncomment the next line if running the script for the first time\n",
    "    # youtube = get_authenticated_service()\n",
    "\n",
    "    # Upload the video\n",
    "    upload_video(youtube, VIDEO_PATH)"
   ]
  }
 ],
 "metadata": {
  "kernelspec": {
   "display_name": "Python 3 (ipykernel)",
   "language": "python",
   "name": "python3"
  },
  "language_info": {
   "codemirror_mode": {
    "name": "ipython",
    "version": 3
   },
   "file_extension": ".py",
   "mimetype": "text/x-python",
   "name": "python",
   "nbconvert_exporter": "python",
   "pygments_lexer": "ipython3",
   "version": "3.10.4"
  }
 },
 "nbformat": 4,
 "nbformat_minor": 5
}
