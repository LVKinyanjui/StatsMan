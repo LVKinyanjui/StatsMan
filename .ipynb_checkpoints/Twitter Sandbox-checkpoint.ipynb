{
 "cells": [
  {
   "cell_type": "markdown",
   "id": "14d94fc8-cef0-42fa-a37c-86a312187061",
   "metadata": {},
   "source": [
    "## Making my first request"
   ]
  },
  {
   "cell_type": "code",
   "execution_count": 1,
   "id": "8c82facd-fece-4fd0-9aff-95e84005c980",
   "metadata": {
    "tags": []
   },
   "outputs": [],
   "source": [
    "import tweepy\n",
    "import os"
   ]
  },
  {
   "cell_type": "code",
   "execution_count": null,
   "id": "43e84c1c-7dfa-4f8c-878d-a0b4ae5e808f",
   "metadata": {},
   "outputs": [],
   "source": [
    "# Custom search term\n",
    "search_term = 'NBA'"
   ]
  },
  {
   "cell_type": "code",
   "execution_count": null,
   "id": "207bc1a3-ce52-4831-85b6-2b2ec1163410",
   "metadata": {},
   "outputs": [],
   "source": [
    "# Cedentials\n",
    "consumer_key = os.getenv('TWITTER_API_KEY')\n",
    "consumer_secret = os.getenv('TWITTER_API_KEY_SECRET')\n",
    "access_token = os.getenv('TWITTER_ACCESS_TOKEN')\n",
    "access_token_secret = os.getenv('TWITTER_ACCESS_TOKEN_SECRET')"
   ]
  },
  {
   "cell_type": "code",
   "execution_count": null,
   "id": "3f984170-9c26-4b26-9caa-940678c3c06b",
   "metadata": {},
   "outputs": [],
   "source": [
    "# Set up authentication\n",
    "auth = tweepy.OAuthHandler(consumer_key, consumer_secret)\n",
    "auth.set_access_token(access_token, access_token_secret)\n",
    "\n",
    "# Create API object\n",
    "api = tweepy.API(auth)\n",
    "\n",
    "# Perform the search\n",
    "tweets = api.search(q=search_term, tweet_mode='extended', lang='en')\n",
    "\n",
    "# Save results"
   ]
  },
  {
   "cell_type": "code",
   "execution_count": null,
   "id": "d3f1c585-49ea-414f-a141-170364593c5c",
   "metadata": {},
   "outputs": [],
   "source": [
    "filename = f\"./data/{search_term}.csv\"\n",
    "with open(filename, \"w\", encoding='utf-8') as file:\n",
    "    file.write('text' + '\\n')\n",
    "    for tweet in tweets:\n",
    "        file.write(video + \"\\n\")"
   ]
  }
 ],
 "metadata": {
  "kernelspec": {
   "display_name": "Python 3 (ipykernel)",
   "language": "python",
   "name": "python3"
  },
  "language_info": {
   "codemirror_mode": {
    "name": "ipython",
    "version": 3
   },
   "file_extension": ".py",
   "mimetype": "text/x-python",
   "name": "python",
   "nbconvert_exporter": "python",
   "pygments_lexer": "ipython3",
   "version": "3.10.4"
  }
 },
 "nbformat": 4,
 "nbformat_minor": 5
}
