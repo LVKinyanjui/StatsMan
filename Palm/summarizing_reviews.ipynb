{
 "cells": [
  {
   "cell_type": "code",
   "execution_count": 53,
   "metadata": {},
   "outputs": [],
   "source": [
    "import os\n",
    "import json\n",
    "from json import JSONDecodeError\n",
    "import pandas as pd\n",
    "import google.generativeai as palm"
   ]
  },
  {
   "cell_type": "markdown",
   "metadata": {},
   "source": [
    "### Credentials"
   ]
  },
  {
   "cell_type": "code",
   "execution_count": 3,
   "metadata": {},
   "outputs": [],
   "source": [
    "api_key = os.getenv(\"PALM_API_KEY\")\n",
    "palm.configure(api_key=api_key)"
   ]
  },
  {
   "cell_type": "markdown",
   "metadata": {},
   "source": [
    "### Importing Data\n",
    "We will be going through a list of reviews and extracting meaningful information from them."
   ]
  },
  {
   "cell_type": "code",
   "execution_count": 27,
   "metadata": {},
   "outputs": [],
   "source": [
    "data = pd.read_csv(\"data/amazon_reviws_Watches.csv\")"
   ]
  },
  {
   "cell_type": "code",
   "execution_count": 6,
   "metadata": {},
   "outputs": [
    {
     "data": {
      "text/html": [
       "<div>\n",
       "<style scoped>\n",
       "    .dataframe tbody tr th:only-of-type {\n",
       "        vertical-align: middle;\n",
       "    }\n",
       "\n",
       "    .dataframe tbody tr th {\n",
       "        vertical-align: top;\n",
       "    }\n",
       "\n",
       "    .dataframe thead th {\n",
       "        text-align: right;\n",
       "    }\n",
       "</style>\n",
       "<table border=\"1\" class=\"dataframe\">\n",
       "  <thead>\n",
       "    <tr style=\"text-align: right;\">\n",
       "      <th></th>\n",
       "      <th>text</th>\n",
       "    </tr>\n",
       "  </thead>\n",
       "  <tbody>\n",
       "    <tr>\n",
       "      <th>0</th>\n",
       "      <td>Joe Orlow\\nExcellent\\nReviewed in the United S...</td>\n",
       "    </tr>\n",
       "    <tr>\n",
       "      <th>1</th>\n",
       "      <td>Tin Can Sailor\\nVINE VOICE\\nExcellent watch\\nR...</td>\n",
       "    </tr>\n",
       "  </tbody>\n",
       "</table>\n",
       "</div>"
      ],
      "text/plain": [
       "                                                text\n",
       "0  Joe Orlow\\nExcellent\\nReviewed in the United S...\n",
       "1  Tin Can Sailor\\nVINE VOICE\\nExcellent watch\\nR..."
      ]
     },
     "execution_count": 6,
     "metadata": {},
     "output_type": "execute_result"
    }
   ],
   "source": [
    "data.head(2)"
   ]
  },
  {
   "cell_type": "code",
   "execution_count": 46,
   "metadata": {},
   "outputs": [
    {
     "data": {
      "text/plain": [
       "'Tin Can Sailor\\nVINE VOICE\\nExcellent watch\\nReviewed in the United States on September 15, 2023\\nColor: Green Slip-ThruVerified Purchase\\nI am a tinkerer, and my wife knows I love watches. I told her that I loved them when we met 24 years ago, and when in doubt about gifts, she defaults to a watch. I have Rolexes, Movados, Patek Philippe, a Breitling, an Omega, and (the last gift, for my 60th birthday), a Chopard. She also bought me a Seiko a few years ago. The reason for the background isn\\'t to brag on my watch collection... In fact, when I told her I liked watches, I meant that I like to wear them, but a Seiko or Timex is more my speed. So, I wore the Seiko when doing yard work, rebuilding engines, tinkering under the hood of my antique cars. My son was helping me one day in the garage and he said, \"Dad, why are you wearing a $2500 watch while banging around under the hood of your truck?\" I almost fell over. My last Seiko was about $100... I had no idea it was anywhere near that expensive!\\n\\nSo, I immediately went on Amazon and bought this little jewel. I wear it routinely when tinkering. I also wear it to work in an office setting, while swimming, and I even went scuba diving with it instead of my trusty Rolex Submariner (my first gift from my wife). The Timex is rated to 50 meters, and we went down to about 35 meters (120 ft) and it was just fine. I could read it easily at that depth as well and it didn\\'t get any condensation or water inside the case. The watchband is made of a canvas like material, and I was able to rinse off the saltwater after the dive.\\n\\nGIven the abuse I have heaped on the watch, I can assure you it will not let you down whether wearing it to work, banging around on an antique truck, or even exploring a reef off of St Maarten!\\nRead more\\n12 people found this helpful\\nHelpful\\nReport'"
      ]
     },
     "execution_count": 46,
     "metadata": {},
     "output_type": "execute_result"
    }
   ],
   "source": [
    "review = data.text[1]\n",
    "review"
   ]
  },
  {
   "cell_type": "markdown",
   "metadata": {},
   "source": [
    "### Execution"
   ]
  },
  {
   "cell_type": "markdown",
   "metadata": {},
   "source": [
    "#### Prompts and Context"
   ]
  },
  {
   "cell_type": "code",
   "execution_count": 47,
   "metadata": {},
   "outputs": [],
   "source": [
    "context = \"\"\"\n",
    "Imagine you are going through a review that has been left on an ecommerce site\n",
    "\"\"\""
   ]
  },
  {
   "cell_type": "code",
   "execution_count": 48,
   "metadata": {},
   "outputs": [],
   "source": [
    "prompt = f\"\"\"\n",
    "Your task will be to extract the person's name and their topic of inquiry \\\n",
    "you will place this in a json object with the key's customer_name and topic \\\n",
    "Respond only with the json object requested\\\n",
    "\n",
    "The review is provided below\n",
    "```\n",
    "{review}\n",
    "```\n",
    "\"\"\""
   ]
  },
  {
   "cell_type": "markdown",
   "metadata": {},
   "source": [
    "#### API Call"
   ]
  },
  {
   "cell_type": "code",
   "execution_count": 49,
   "metadata": {},
   "outputs": [],
   "source": [
    "completion = palm.chat(context=context, messages=prompt)\n"
   ]
  },
  {
   "cell_type": "code",
   "execution_count": 50,
   "metadata": {},
   "outputs": [],
   "source": [
    "\n",
    "response = completion.last"
   ]
  },
  {
   "cell_type": "markdown",
   "metadata": {},
   "source": [
    "#### Formating the Response"
   ]
  },
  {
   "cell_type": "code",
   "execution_count": 26,
   "metadata": {},
   "outputs": [
    {
     "name": "stdout",
     "output_type": "stream",
     "text": [
      "{'customer_name': 'Joe Orlow', 'topic': 'Timex Scout 40 watch review'}\n"
     ]
    }
   ],
   "source": [
    "\n",
    "# Remove the '\\n' characters and extra spaces\n",
    "response = response.replace('\\n', '').strip()\n",
    "\n",
    "# Convert the JSON string into a Python dictionary\n",
    "response_json = json.loads(response)\n",
    "\n",
    "# Now, you can use the 'data' dictionary in your Python code\n",
    "print(response_json)\n"
   ]
  },
  {
   "cell_type": "markdown",
   "metadata": {},
   "source": [
    "#### Appending Fields\n",
    "Once we have extracted the meaningful information using the LLM, we then attach it to each review. As we are using a dataframe we will introduce new columns for that."
   ]
  },
  {
   "cell_type": "code",
   "execution_count": 32,
   "metadata": {},
   "outputs": [
    {
     "data": {
      "text/plain": [
       "['customer_name', 'topic']"
      ]
     },
     "execution_count": 32,
     "metadata": {},
     "output_type": "execute_result"
    }
   ],
   "source": [
    "list(response_json.keys())"
   ]
  },
  {
   "cell_type": "markdown",
   "metadata": {},
   "source": [
    "### Putting it All Together\n",
    "We will now repeat this for the entire dataframe."
   ]
  },
  {
   "cell_type": "markdown",
   "metadata": {},
   "source": [
    "#### Helper Functions"
   ]
  },
  {
   "cell_type": "code",
   "execution_count": 105,
   "metadata": {},
   "outputs": [],
   "source": [
    "import json\n",
    "from tqdm import tqdm"
   ]
  },
  {
   "cell_type": "code",
   "execution_count": 95,
   "metadata": {},
   "outputs": [],
   "source": [
    "def string_to_json(response):\n",
    "    # Remove the '\\n' characters and extra spaces\n",
    "    response = response.replace('\\n', '').strip()\n",
    "    # Convert the JSON string into a Python dictionary\n",
    "    json_content = json.loads(response)\n",
    "\n",
    "    # Parse the JSON content into a dictionary\n",
    "    try:\n",
    "        data = json.loads(json_content)\n",
    "        print(data)\n",
    "    except JSONDecodeError as e:\n",
    "        print(f\"Error parsing JSON: {e}\")"
   ]
  },
  {
   "cell_type": "markdown",
   "metadata": {},
   "source": [
    "#### Full Process"
   ]
  },
  {
   "cell_type": "code",
   "execution_count": 104,
   "metadata": {},
   "outputs": [
    {
     "name": "stderr",
     "output_type": "stream",
     "text": [
      "4it [00:11,  2.82s/it]\n"
     ]
    },
    {
     "data": {
      "text/plain": [
       "['Sure, here is the JSON object you requested:\\n\\n```json\\n{\\n  \"customer_name\": \"Joe Orlow\",\\n  \"topic\": \"Timex Scout 40 watch\"\\n}\\n```',\n",
       " 'The customer\\'s name is Tin Can Sailor. The topic of inquiry is the durability of the watch.\\n\\nThe JSON object is:\\n\\n```\\n{\\n  \"customer_name\": \"Tin Can Sailor\",\\n  \"topic\": \"durability\"\\n}\\n```',\n",
       " '```\\n{\\n  \"customer_name\": \"mz johansen\",\\n  \"topic\": \"Timex watch\"\\n}\\n```',\n",
       " '```\\n{\\n  \"customer_name\": \"Cameron E\",\\n  \"topic\": \"Easy to read and use, simple style\"\\n}\\n```']"
      ]
     },
     "execution_count": 104,
     "metadata": {},
     "output_type": "execute_result"
    }
   ],
   "source": [
    "new_fields = []\n",
    "for index, review in tqdm(data.text.iteritems()):\n",
    "\n",
    "    prompt = f\"\"\"\n",
    "    Your task will be to extract the person's name and their topic of inquiry \\\n",
    "    you will place this in a json object with the key's customer_name and topic \\\n",
    "    If you do not find the information asked for, do the following \\\n",
    "        - Return a dictionary with customer_name and topic keys \\\n",
    "        - Indicate None as the value for the key with missing information\n",
    "\n",
    "    The review is provided below\n",
    "    ```\n",
    "    {review}\n",
    "    ```\n",
    "\n",
    "    Remember, respond only with the json object requested, nothing more\\\n",
    "    \"\"\"\n",
    "\n",
    "    # print(prompt)\n",
    "\n",
    "    completion = palm.chat(context=context, messages=prompt)\n",
    "\n",
    "    response = completion.last\n",
    "    new_fields.append(response)\n",
    "new_fields"
   ]
  },
  {
   "cell_type": "code",
   "execution_count": 100,
   "metadata": {},
   "outputs": [],
   "source": [
    "data['llm_response'] = new_fields"
   ]
  },
  {
   "cell_type": "code",
   "execution_count": 101,
   "metadata": {},
   "outputs": [
    {
     "data": {
      "text/html": [
       "<div>\n",
       "<style scoped>\n",
       "    .dataframe tbody tr th:only-of-type {\n",
       "        vertical-align: middle;\n",
       "    }\n",
       "\n",
       "    .dataframe tbody tr th {\n",
       "        vertical-align: top;\n",
       "    }\n",
       "\n",
       "    .dataframe thead th {\n",
       "        text-align: right;\n",
       "    }\n",
       "</style>\n",
       "<table border=\"1\" class=\"dataframe\">\n",
       "  <thead>\n",
       "    <tr style=\"text-align: right;\">\n",
       "      <th></th>\n",
       "      <th>text</th>\n",
       "      <th>llm_response</th>\n",
       "    </tr>\n",
       "  </thead>\n",
       "  <tbody>\n",
       "    <tr>\n",
       "      <th>0</th>\n",
       "      <td>Joe Orlow\\nExcellent\\nReviewed in the United S...</td>\n",
       "      <td>Sure, here is the JSON object you requested:\\n...</td>\n",
       "    </tr>\n",
       "    <tr>\n",
       "      <th>1</th>\n",
       "      <td>Tin Can Sailor\\nVINE VOICE\\nExcellent watch\\nR...</td>\n",
       "      <td>```\\n{\\n  \"customer_name\": \"Tin Can Sailor\",\\n...</td>\n",
       "    </tr>\n",
       "    <tr>\n",
       "      <th>2</th>\n",
       "      <td>mz johansen\\nVINE VOICE\\nAnother Excellent Tim...</td>\n",
       "      <td>```\\n{\\n  \"customer_name\": \"mz johansen\",\\n  \"...</td>\n",
       "    </tr>\n",
       "    <tr>\n",
       "      <th>3</th>\n",
       "      <td>Cameron E\\nVINE VOICE\\nEasy to read and use, s...</td>\n",
       "      <td>```\\n{\\n  \"customer_name\": \"Cameron E\",\\n  \"to...</td>\n",
       "    </tr>\n",
       "  </tbody>\n",
       "</table>\n",
       "</div>"
      ],
      "text/plain": [
       "                                                text  \\\n",
       "0  Joe Orlow\\nExcellent\\nReviewed in the United S...   \n",
       "1  Tin Can Sailor\\nVINE VOICE\\nExcellent watch\\nR...   \n",
       "2  mz johansen\\nVINE VOICE\\nAnother Excellent Tim...   \n",
       "3  Cameron E\\nVINE VOICE\\nEasy to read and use, s...   \n",
       "\n",
       "                                        llm_response  \n",
       "0  Sure, here is the JSON object you requested:\\n...  \n",
       "1  ```\\n{\\n  \"customer_name\": \"Tin Can Sailor\",\\n...  \n",
       "2  ```\\n{\\n  \"customer_name\": \"mz johansen\",\\n  \"...  \n",
       "3  ```\\n{\\n  \"customer_name\": \"Cameron E\",\\n  \"to...  "
      ]
     },
     "execution_count": 101,
     "metadata": {},
     "output_type": "execute_result"
    }
   ],
   "source": [
    "data"
   ]
  },
  {
   "cell_type": "code",
   "execution_count": null,
   "metadata": {},
   "outputs": [],
   "source": []
  }
 ],
 "metadata": {
  "kernelspec": {
   "display_name": "Python 3",
   "language": "python",
   "name": "python3"
  },
  "language_info": {
   "codemirror_mode": {
    "name": "ipython",
    "version": 3
   },
   "file_extension": ".py",
   "mimetype": "text/x-python",
   "name": "python",
   "nbconvert_exporter": "python",
   "pygments_lexer": "ipython3",
   "version": "3.10.4"
  }
 },
 "nbformat": 4,
 "nbformat_minor": 2
}
