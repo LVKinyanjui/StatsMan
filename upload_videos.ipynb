{
 "cells": [
  {
   "cell_type": "code",
   "execution_count": null,
   "id": "4558bf8d-25f7-4f30-a444-f477213b6367",
   "metadata": {
    "tags": []
   },
   "outputs": [],
   "source": [
    "import os\n",
    "import googleapiclient.discovery\n",
    "import googleapiclient.errors\n",
    "from googleapiclient.http import MediaFileUpload\n",
    "from google_auth_oauthlib.flow import InstalledAppFlow"
   ]
  },
  {
   "cell_type": "code",
   "execution_count": null,
   "id": "9792f5c7-6016-4bbe-b06f-422cdaa78bfa",
   "metadata": {
    "tags": []
   },
   "outputs": [],
   "source": [
    "# Replace with your API key\n",
    "API_KEY = os.getenv('YOUTUBE_API_KEY')\n",
    "JSON_SECRETS_PATH = './secrets/oauth_secret.json'\n",
    "\n",
    "# Replace with the path to the video you want to upload\n",
    "VIDEO_PATH = 'f:/Jupyter/Manim/venv/media/videos/scene/480p15/DifferentRotations.mp4'\n",
    "\n",
    "# Scope for YouTube Data API\n",
    "SCOPES = [\"https://www.googleapis.com/auth/youtube.upload\"]"
   ]
  },
  {
   "cell_type": "code",
   "execution_count": null,
   "id": "7ac9e031-9caf-4439-9038-bf29c61a7259",
   "metadata": {
    "tags": []
   },
   "outputs": [],
   "source": [
    "def get_authenticated_service():\n",
    "    credentials_file = 'credentials.pickle'\n",
    "\n",
    "    # Check if credentials already exist\n",
    "    if os.path.exists(credentials_file):\n",
    "        with open(credentials_file, 'rb') as token:\n",
    "            credentials = pickle.load(token)\n",
    "    else:\n",
    "        flow = InstalledAppFlow.from_client_secrets_file(JSON_SECRETS_PATH, SCOPES)\n",
    "        credentials = flow.run_local_server()\n",
    "\n",
    "        # Save the credentials for future use\n",
    "        with open(credentials_file, 'wb') as token:\n",
    "            pickle.dump(credentials, token)\n",
    "\n",
    "    return googleapiclient.discovery.build(\"youtube\", \"v3\", credentials=credentials)\n",
    "\n",
    "def upload_video(youtube, video_path):\n",
    "    # Prepare the video resource\n",
    "    media = MediaFileUpload(video_path)\n",
    "\n",
    "    # Set the video details\n",
    "    body = {\n",
    "        \"snippet\": {\n",
    "            \"title\": \"Your Video Title\",\n",
    "            \"description\": \"Your Video Description\",\n",
    "            \"tags\": [\"tag1\", \"tag2\", \"tag3\"],\n",
    "            \"categoryId\": \"22\"  # Replace with the appropriate category ID for your content\n",
    "        },\n",
    "        \"status\": {\n",
    "            \"privacyStatus\": \"private\"  # Change to \"public\" if you want to make the video public\n",
    "        }\n",
    "    }\n",
    "\n",
    "    try:\n",
    "        # Execute the API request to upload the video\n",
    "        youtube.videos().insert(part=\"snippet,status\", body=body, media_body=media).execute()\n",
    "        print(\"Video uploaded successfully.\")\n",
    "    except googleapiclient.errors.HttpError as e:\n",
    "        print(f\"An error occurred: {e}\")\n",
    "        return None"
   ]
  },
  {
   "cell_type": "code",
   "execution_count": null,
   "id": "7495e04d-8d39-4eb1-9d60-0bf094727741",
   "metadata": {
    "tags": []
   },
   "outputs": [],
   "source": [
    "if __name__ == \"__main__\":\n",
    "    # Initialize the YouTube API client\n",
    "    youtube = googleapiclient.discovery.build(\"youtube\", \"v3\", developerKey=API_KEY)\n",
    "\n",
    "    # Authenticate and get the authorized service\n",
    "    # Uncomment the next line if running the script for the first time\n",
    "    youtube = get_authenticated_service()\n",
    "\n",
    "    # Upload the video\n",
    "    upload_video(youtube, VIDEO_PATH)"
   ]
  },
  {
   "cell_type": "code",
   "execution_count": null,
   "id": "8bc1a075-6f37-43b0-a431-880800f33853",
   "metadata": {},
   "outputs": [],
   "source": []
  }
 ],
 "metadata": {
  "kernelspec": {
   "display_name": "Python 3 (ipykernel)",
   "language": "python",
   "name": "python3"
  },
  "language_info": {
   "codemirror_mode": {
    "name": "ipython",
    "version": 3
   },
   "file_extension": ".py",
   "mimetype": "text/x-python",
   "name": "python",
   "nbconvert_exporter": "python",
   "pygments_lexer": "ipython3",
   "version": "3.10.4"
  }
 },
 "nbformat": 4,
 "nbformat_minor": 5
}
