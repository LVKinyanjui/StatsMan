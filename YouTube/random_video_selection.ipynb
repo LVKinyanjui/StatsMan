{
 "cells": [
  {
   "cell_type": "markdown",
   "id": "85b0a5a9-212a-4cc4-aa00-aa8a514e7182",
   "metadata": {},
   "source": [
    "This is meant to pick a random video id and play it (mediated by selenium)."
   ]
  },
  {
   "cell_type": "code",
   "execution_count": 1,
   "id": "0ec238df-4376-4491-86d1-0c1e43a252de",
   "metadata": {
    "tags": []
   },
   "outputs": [],
   "source": [
    "import random\n",
    "import time\n",
    "import pandas as pd"
   ]
  },
  {
   "cell_type": "code",
   "execution_count": 2,
   "id": "bba37cc5-a555-4df2-b2fa-16385233eaa6",
   "metadata": {
    "tags": []
   },
   "outputs": [],
   "source": [
    "from selenium import webdriver"
   ]
  },
  {
   "cell_type": "code",
   "execution_count": 3,
   "id": "d8b4496a-5dd6-4200-9438-ae417a3e3023",
   "metadata": {
    "tags": []
   },
   "outputs": [],
   "source": [
    "path = \"f:/Jupyter/APIs/YouTube/data/Find a Job in Germany.csv\"\n",
    "while True:\n",
    "    try:\n",
    "        df = pd.read_csv(path)\n",
    "        break\n",
    "    except FileNotFoundError: \n",
    "        path = input(\"Please enter custom path to your file:\")"
   ]
  },
  {
   "cell_type": "code",
   "execution_count": 4,
   "id": "d1acaafa-071c-4c2d-8bc9-6df9a1ca0e4c",
   "metadata": {
    "tags": []
   },
   "outputs": [],
   "source": [
    "rand_id = random.choice(df.id)"
   ]
  },
  {
   "cell_type": "code",
   "execution_count": 5,
   "id": "ac4b6efa-e7d5-47de-be41-6ef7ab274655",
   "metadata": {
    "tags": []
   },
   "outputs": [],
   "source": [
    "url = f\"https://www.youtube.com/watch?v={rand_id}\""
   ]
  },
  {
   "cell_type": "markdown",
   "id": "b5af0793-cdfb-4ac9-b2f6-64106f5e5f1f",
   "metadata": {},
   "source": [
    "## Navigate to Site"
   ]
  },
  {
   "cell_type": "code",
   "execution_count": null,
   "id": "61a5d830-68a6-4057-8544-768575287088",
   "metadata": {
    "tags": []
   },
   "outputs": [],
   "source": [
    "try:\n",
    "    driver = webdriver.Chrome()\n",
    "    driver.get(url)\n",
    "    time.sleep(10)\n",
    "except WebDriverException :\n",
    "    print(\"Slight hiccup 😁\")\n",
    "    time.sleep(10)\n",
    "    pass"
   ]
  },
  {
   "cell_type": "code",
   "execution_count": null,
   "id": "b8c1e9a6-28bb-4234-96cb-e21a41d9b5e1",
   "metadata": {
    "tags": []
   },
   "outputs": [],
   "source": [
    "time.sleep(2400)\n",
    "driver.quit()"
   ]
  },
  {
   "cell_type": "code",
   "execution_count": null,
   "id": "08e98c72-97cd-4d9c-be15-26b8128234f2",
   "metadata": {},
   "outputs": [],
   "source": []
  }
 ],
 "metadata": {
  "kernelspec": {
   "display_name": "Python 3 (ipykernel)",
   "language": "python",
   "name": "python3"
  },
  "language_info": {
   "codemirror_mode": {
    "name": "ipython",
    "version": 3
   },
   "file_extension": ".py",
   "mimetype": "text/x-python",
   "name": "python",
   "nbconvert_exporter": "python",
   "pygments_lexer": "ipython3",
   "version": "3.10.4"
  }
 },
 "nbformat": 4,
 "nbformat_minor": 5
}
