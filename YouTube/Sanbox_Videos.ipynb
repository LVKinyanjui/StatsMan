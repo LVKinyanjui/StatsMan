{
 "cells": [
  {
   "cell_type": "code",
   "execution_count": 2,
   "id": "8c9a56b0-44d3-42da-80d4-8af46a321930",
   "metadata": {
    "tags": []
   },
   "outputs": [],
   "source": [
    "import os\n",
    "from googleapiclient.discovery import build"
   ]
  },
  {
   "cell_type": "code",
   "execution_count": 8,
   "id": "042ba955-fb03-4910-9206-8ee753fe3b10",
   "metadata": {
    "tags": []
   },
   "outputs": [],
   "source": [
    "from custom import extract_key_from_json"
   ]
  },
  {
   "cell_type": "code",
   "execution_count": 4,
   "id": "1e7b082d-ab95-4ef1-b5c7-d6576df09c54",
   "metadata": {
    "tags": []
   },
   "outputs": [
    {
     "name": "stdin",
     "output_type": "stream",
     "text": [
      "Enter any video ID from the channel of interest:  jZT8APrzvc4\n"
     ]
    }
   ],
   "source": [
    "VIDEO_ID = input(\"Enter any video ID from the channel of interest: \")\n",
    "API_KEY = os.getenv('YOUTUBE_API_KEY')"
   ]
  },
  {
   "cell_type": "code",
   "execution_count": 5,
   "id": "96345b37-b507-4d20-b183-35db8fc51b0c",
   "metadata": {
    "tags": []
   },
   "outputs": [],
   "source": [
    "# Create a YouTube API client\n",
    "youtube = build(\"youtube\", \"v3\", developerKey=API_KEY)"
   ]
  },
  {
   "cell_type": "code",
   "execution_count": 31,
   "id": "7fd26f3f-a350-4885-add1-977b18270cc6",
   "metadata": {
    "tags": []
   },
   "outputs": [],
   "source": [
    "response = youtube.videos().list(\n",
    "                part=\"snippet, contentDetails, status, statistics\",\n",
    "                id=VIDEO_ID\n",
    "            ).execute()"
   ]
  },
  {
   "cell_type": "markdown",
   "id": "ec59bcda-42a1-4fec-a253-e62e5c0f8205",
   "metadata": {},
   "source": [
    "## Unpacking the Response"
   ]
  },
  {
   "cell_type": "markdown",
   "id": "b4dc43b5-badc-4846-9b48-f02a93fac0ab",
   "metadata": {},
   "source": [
    "### Snippet\n",
    "\n",
    "The JSON response from the API with part=`snippet`, contains a key `tags`, which seems to contains a list of keywords associated with the video (I assume like those used for SEO). "
   ]
  },
  {
   "cell_type": "code",
   "execution_count": 24,
   "id": "ae883c53-c3a7-4d15-bcd9-22cb0288c794",
   "metadata": {
    "tags": []
   },
   "outputs": [],
   "source": [
    "video_tags = extract_key_from_json(response, \"tags\")[0]\n",
    "\n",
    "# Title could be used to customize filenames\n",
    "video_title = extract_key_from_json(response, \"title\")\n",
    "\n",
    "description = extract_key_from_json(response, \"description\")"
   ]
  },
  {
   "cell_type": "markdown",
   "id": "a7234dc0-1209-4208-9fb9-92cb681c857c",
   "metadata": {},
   "source": [
    "### ContentDetails"
   ]
  },
  {
   "cell_type": "code",
   "execution_count": 28,
   "id": "8acb396c-afdb-4a71-9f06-0c89cab7c7f0",
   "metadata": {
    "tags": []
   },
   "outputs": [],
   "source": [
    "duration = extract_key_from_json(response, \"duration\")"
   ]
  },
  {
   "cell_type": "code",
   "execution_count": 30,
   "id": "aeb54d52-96f6-484d-9795-d24c92fa2a5f",
   "metadata": {
    "tags": []
   },
   "outputs": [
    {
     "data": {
      "text/plain": [
       "[{}]"
      ]
     },
     "execution_count": 30,
     "metadata": {},
     "output_type": "execute_result"
    }
   ],
   "source": [
    "extract_key_from_json(response, \"contentRating\")"
   ]
  },
  {
   "cell_type": "markdown",
   "id": "66dec3ec-e604-4089-bd58-f54634def32e",
   "metadata": {},
   "source": [
    "### Statistics"
   ]
  },
  {
   "cell_type": "code",
   "execution_count": 34,
   "id": "1eb145dd-76bf-4fab-be81-1a44371da535",
   "metadata": {
    "tags": []
   },
   "outputs": [],
   "source": [
    "views = extract_key_from_json(response, \"viewCount\")"
   ]
  },
  {
   "cell_type": "code",
   "execution_count": 35,
   "id": "ee853bc9-1f6b-4bd7-975b-a90de3d768a8",
   "metadata": {
    "tags": []
   },
   "outputs": [],
   "source": [
    "likes = extract_key_from_json(response, \"likeCount\")"
   ]
  },
  {
   "cell_type": "code",
   "execution_count": 37,
   "id": "5ed18037-4d3d-4585-bab7-97264f05c16a",
   "metadata": {
    "tags": []
   },
   "outputs": [
    {
     "data": {
      "text/plain": [
       "[]"
      ]
     },
     "execution_count": 37,
     "metadata": {},
     "output_type": "execute_result"
    }
   ],
   "source": [
    "extract_key_from_json(response, \"dislikeCount\")"
   ]
  }
 ],
 "metadata": {
  "kernelspec": {
   "display_name": "Python 3 (ipykernel)",
   "language": "python",
   "name": "python3"
  },
  "language_info": {
   "codemirror_mode": {
    "name": "ipython",
    "version": 3
   },
   "file_extension": ".py",
   "mimetype": "text/x-python",
   "name": "python",
   "nbconvert_exporter": "python",
   "pygments_lexer": "ipython3",
   "version": "3.10.4"
  }
 },
 "nbformat": 4,
 "nbformat_minor": 5
}
