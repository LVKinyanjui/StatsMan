{
 "cells": [
  {
   "cell_type": "code",
   "execution_count": null,
   "id": "4558bf8d-25f7-4f30-a444-f477213b6367",
   "metadata": {
    "tags": []
   },
   "outputs": [],
   "source": [
    "import os\n",
    "import googleapiclient.discovery\n",
    "import googleapiclient.errors\n",
    "from googleapiclient.http import MediaFileUpload\n",
    "from google_auth_oauthlib.flow import InstalledAppFlow"
   ]
  },
  {
   "cell_type": "code",
   "execution_count": null,
   "id": "9792f5c7-6016-4bbe-b06f-422cdaa78bfa",
   "metadata": {
    "tags": []
   },
   "outputs": [],
   "source": [
    "# Replace with your API key\n",
    "API_KEY = os.getenv('YOUTUBE_API_KEY')\n",
    "JSON_SECRETS_PATH = './secrets/oauth_secret.json'\n",
    "\n",
    "# Replace with the path to the video you want to upload\n",
    "VIDEO_PATH = 'f:/Jupyter/Manim/venv/media/videos/scene/480p15/DifferentRotations.mp4'\n",
    "\n",
    "# Scope for YouTube Data API\n",
    "SCOPES = [\"https://www.googleapis.com/auth/youtube.upload\"]"
   ]
  },
  {
   "cell_type": "code",
   "execution_count": null,
   "id": "7ac9e031-9caf-4439-9038-bf29c61a7259",
   "metadata": {
    "tags": []
   },
   "outputs": [],
   "source": [
    "def get_authenticated_service():\n",
    "    credentials_file = 'credentials.pickle'\n",
    "\n",
    "    # Check if credentials already exist\n",
    "    if os.path.exists(credentials_file):\n",
    "        with open(credentials_file, 'rb') as token:\n",
    "            credentials = pickle.load(token)\n",
    "    else:\n",
    "        flow = InstalledAppFlow.from_client_secrets_file(JSON_SECRETS_PATH, SCOPES)\n",
    "        credentials = flow.run_local_server()\n",
    "\n",
    "        # Save the credentials for future use\n",
    "        with open(credentials_file, 'wb') as token:\n",
    "            pickle.dump(credentials, token)\n",
    "\n",
    "    return googleapiclient.discovery.build(\"youtube\", \"v3\", credentials=credentials)\n",
    "\n",
    "def upload_video(youtube, video_path):\n",
    "    # Prepare the video resource\n",
    "    media = MediaFileUpload(video_path)\n",
    "\n",
    "    # Set the video details\n",
    "    body = {\n",
    "        \"snippet\": {\n",
    "            \"title\": \"Your Video Title\",\n",
    "            \"description\": \"Your Video Description\",\n",
    "            \"tags\": [\"tag1\", \"tag2\", \"tag3\"],\n",
    "            \"categoryId\": \"22\"  # Replace with the appropriate category ID for your content\n",
    "        },\n",
    "        \"status\": {\n",
    "            \"privacyStatus\": \"private\"  # Change to \"public\" if you want to make the video public\n",
    "        }\n",
    "    }\n",
    "\n",
    "    try:\n",
    "        # Execute the API request to upload the video\n",
    "        youtube.videos().insert(part=\"snippet,status\", body=body, media_body=media).execute()\n",
    "        print(\"Video uploaded successfully.\")\n",
    "    except googleapiclient.errors.HttpError as e:\n",
    "        print(f\"An error occurred: {e}\")\n",
    "        return None"
   ]
  },
  {
   "cell_type": "code",
   "execution_count": null,
   "id": "7495e04d-8d39-4eb1-9d60-0bf094727741",
   "metadata": {
    "tags": []
   },
   "outputs": [],
   "source": [
    "if __name__ == \"__main__\":\n",
    "    # Initialize the YouTube API client\n",
    "    youtube = googleapiclient.discovery.build(\"youtube\", \"v3\", developerKey=API_KEY)\n",
    "\n",
    "    # Authenticate and get the authorized service\n",
    "    # Uncomment the next line if running the script for the first time\n",
    "    youtube = get_authenticated_service()\n",
    "\n",
    "    # Upload the video\n",
    "    upload_video(youtube, VIDEO_PATH)"
   ]
  },
  {
   "cell_type": "markdown",
   "id": "a0ddc3fc-2fdb-4a8b-a374-17930244e994",
   "metadata": {},
   "source": [
    "<h1 align=center> Afresh </h1>"
   ]
  },
  {
   "cell_type": "markdown",
   "id": "697db0f4-e0b1-4f3f-b130-00fcf0868e41",
   "metadata": {},
   "source": [
    "## Notes\n",
    "On further perusing of the API reference I found out that\n",
    "\n",
    "- The video resource can be used for managing videos on youtube.\n",
    "    1. `insert` - Uploads a video to YouTube and optionally sets the video's metadata.\n",
    "    2. `delete` - Deletes a YouTube video\n",
    "    \n",
    "Based on this we can attempt something basic\n"
   ]
  },
  {
   "cell_type": "code",
   "execution_count": 2,
   "id": "45096e08-22a4-48dd-9d1e-2f4fb8d244b1",
   "metadata": {
    "tags": []
   },
   "outputs": [],
   "source": [
    "import os\n",
    "from googleapiclient.discovery import build"
   ]
  },
  {
   "cell_type": "code",
   "execution_count": 3,
   "id": "ef404343-110f-405b-84fd-5444d4dc41df",
   "metadata": {
    "tags": []
   },
   "outputs": [],
   "source": [
    "from custom import extract_key_from_json"
   ]
  },
  {
   "cell_type": "code",
   "execution_count": 4,
   "id": "3a373943-2623-44a4-8796-fd179f663bd6",
   "metadata": {
    "tags": []
   },
   "outputs": [
    {
     "name": "stdin",
     "output_type": "stream",
     "text": [
      "Enter any video ID from the channel of interest:  gU-8U7Z-E64\n"
     ]
    }
   ],
   "source": [
    "VIDEO_ID = input(\"Enter any video ID from the channel of interest: \")\n",
    "API_KEY = os.getenv('YOUTUBE_API_KEY')"
   ]
  },
  {
   "cell_type": "code",
   "execution_count": 5,
   "id": "2a336766-c206-407b-8085-104e55381817",
   "metadata": {
    "tags": []
   },
   "outputs": [],
   "source": [
    "# Create a YouTube API client\n",
    "youtube = build(\"youtube\", \"v3\", developerKey=API_KEY)"
   ]
  },
  {
   "cell_type": "code",
   "execution_count": 6,
   "id": "8bc1a075-6f37-43b0-a431-880800f33853",
   "metadata": {},
   "outputs": [],
   "source": [
    "response = youtube.videos().list(\n",
    "                part=\"status\",\n",
    "                id=VIDEO_ID\n",
    "            ).execute()"
   ]
  },
  {
   "cell_type": "markdown",
   "id": "177d8e55-fcd6-4fac-871a-075a86aaa8f9",
   "metadata": {},
   "source": [
    "## Monitoring\n",
    "We will need to monitor how the video is doing if we are going to automate this. We will require metrics for that. These are to be found in the JSON response as `status.<some_attribute>`"
   ]
  },
  {
   "cell_type": "code",
   "execution_count": 7,
   "id": "79759a34-bf19-45bd-ace7-40afc886eef2",
   "metadata": {
    "tags": []
   },
   "outputs": [
    {
     "data": {
      "text/plain": [
       "['processed']"
      ]
     },
     "execution_count": 7,
     "metadata": {},
     "output_type": "execute_result"
    }
   ],
   "source": [
    "extract_key_from_json(response, \"uploadStatus\")"
   ]
  },
  {
   "cell_type": "code",
   "execution_count": null,
   "id": "2822c738-ecf4-4f9b-8f18-18be37b66825",
   "metadata": {},
   "outputs": [],
   "source": []
  }
 ],
 "metadata": {
  "kernelspec": {
   "display_name": "Python 3 (ipykernel)",
   "language": "python",
   "name": "python3"
  },
  "language_info": {
   "codemirror_mode": {
    "name": "ipython",
    "version": 3
   },
   "file_extension": ".py",
   "mimetype": "text/x-python",
   "name": "python",
   "nbconvert_exporter": "python",
   "pygments_lexer": "ipython3",
   "version": "3.10.4"
  }
 },
 "nbformat": 4,
 "nbformat_minor": 5
}
