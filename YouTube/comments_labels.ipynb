{
 "cells": [
  {
   "cell_type": "code",
   "execution_count": 1,
   "id": "70ef1c7a-b573-40f4-a503-2c9fa4a23467",
   "metadata": {
    "tags": []
   },
   "outputs": [],
   "source": [
    "import os\n",
    "from googleapiclient.discovery import build\n",
    "from custom import extract_key_from_json, clean_string"
   ]
  },
  {
   "cell_type": "markdown",
   "id": "e6fa9df3-7fa2-4011-a5a7-585672c7e4a3",
   "metadata": {},
   "source": [
    "## Functions"
   ]
  },
  {
   "cell_type": "code",
   "execution_count": 9,
   "id": "f200f95d-75a5-4cb0-a908-d8e97f1f5958",
   "metadata": {
    "tags": []
   },
   "outputs": [],
   "source": [
    "def get_commentThreads (video_id, max_results=100):\n",
    "    \n",
    "    #Looping over pages\n",
    "    comments = []\n",
    "    next_page_token = None\n",
    "    \n",
    "    while 1:\n",
    "        res = youtube.commentThreads().list(part = 'snippet', \n",
    "                                            videoId = video_id,\n",
    "                                            pageToken = next_page_token,\n",
    "                                            maxResults = max_results\n",
    "                                           ).execute()\n",
    "        comments += res['items']\n",
    "        next_page_token = res.get('nextPageToken')\n",
    "        \n",
    "        # If token is none then we have reached the end so break\n",
    "        if  next_page_token == None:\n",
    "            break\n",
    "            \n",
    "    return comments"
   ]
  },
  {
   "cell_type": "code",
   "execution_count": 2,
   "id": "22e1d7b8-763c-403f-821a-a69092f710a2",
   "metadata": {
    "tags": []
   },
   "outputs": [
    {
     "name": "stdin",
     "output_type": "stream",
     "text": [
      "Enter any video ID from the channel of interest:  7AduPn5qK8I\n"
     ]
    }
   ],
   "source": [
    "VIDEO_ID = input(\"Enter any video ID from the channel of interest: \")\n",
    "API_KEY = os.getenv('YOUTUBE_API_KEY')\n",
    "CHANNEL_USERNAME = \"@RockstarAcademy\""
   ]
  },
  {
   "cell_type": "markdown",
   "id": "19b628a9-422f-4e1e-a8be-322c9f803a90",
   "metadata": {},
   "source": [
    "## Video Title"
   ]
  },
  {
   "cell_type": "code",
   "execution_count": 3,
   "id": "65be7930-ea25-458b-9c5a-fbc4ac163291",
   "metadata": {
    "tags": []
   },
   "outputs": [],
   "source": [
    "# Create a YouTube API client\n",
    "youtube = build(\"youtube\", \"v3\", developerKey=API_KEY)"
   ]
  },
  {
   "cell_type": "code",
   "execution_count": null,
   "id": "65c462e5-b910-41e9-a6b2-d46e9678302d",
   "metadata": {
    "tags": []
   },
   "outputs": [],
   "source": [
    "response = youtube.videos().list(\n",
    "    part=\"snippet\", \n",
    "    id=VIDEO_ID\n",
    ").execute()\n",
    "\n",
    "response"
   ]
  },
  {
   "cell_type": "code",
   "execution_count": 8,
   "id": "b8aba416-c861-4c8c-b2e2-930ef8c71bb0",
   "metadata": {
    "tags": []
   },
   "outputs": [],
   "source": [
    "video_title = extract_key_from_json(response, \"title\")[0]\n",
    "video_title = clean_string(video_title)"
   ]
  },
  {
   "cell_type": "markdown",
   "id": "80ddae53-e5ff-4f46-b49a-817a85659d4f",
   "metadata": {},
   "source": [
    "## Video Comments"
   ]
  },
  {
   "cell_type": "code",
   "execution_count": 14,
   "id": "797747bc-85cf-4f23-ae26-b4e6d98a9165",
   "metadata": {
    "tags": []
   },
   "outputs": [],
   "source": [
    "response = get_commentThreads(VIDEO_ID, 5)"
   ]
  },
  {
   "cell_type": "code",
   "execution_count": 15,
   "id": "32861c28-5bcf-4c3d-adc2-e34ea69e45d8",
   "metadata": {
    "tags": []
   },
   "outputs": [],
   "source": [
    "comments = extract_key_from_json(response, 'textOriginal')"
   ]
  },
  {
   "cell_type": "markdown",
   "id": "a658fb54-4c50-4204-9048-18cc8a949727",
   "metadata": {},
   "source": [
    "## Export"
   ]
  },
  {
   "cell_type": "code",
   "execution_count": 21,
   "id": "aaeddf64-1e0e-4c83-933f-43f43ef6b188",
   "metadata": {
    "tags": []
   },
   "outputs": [],
   "source": [
    "import pandas as pd"
   ]
  },
  {
   "cell_type": "code",
   "execution_count": 27,
   "id": "4dffb10d-383e-4564-89bf-ad68522aa6ca",
   "metadata": {
    "tags": []
   },
   "outputs": [],
   "source": [
    "def save(video_title, comments):\n",
    "    path = \"./data/\" + video_title + \".csv\"\n",
    "\n",
    "    df = pd.DataFrame()\n",
    "    df['text'] = comments\n",
    "    df.to_csv(path, index=False, encoding=\"utf-8\")"
   ]
  },
  {
   "cell_type": "code",
   "execution_count": 28,
   "id": "bdf2d84e-f105-4de9-99c6-8061982dbbd4",
   "metadata": {
    "tags": []
   },
   "outputs": [],
   "source": [
    "save(video_title, comments)"
   ]
  },
  {
   "cell_type": "code",
   "execution_count": null,
   "id": "543352d1-db4b-42a8-b40a-cb9d28d323bc",
   "metadata": {},
   "outputs": [],
   "source": []
  }
 ],
 "metadata": {
  "kernelspec": {
   "display_name": "Python 3 (ipykernel)",
   "language": "python",
   "name": "python3"
  },
  "language_info": {
   "codemirror_mode": {
    "name": "ipython",
    "version": 3
   },
   "file_extension": ".py",
   "mimetype": "text/x-python",
   "name": "python",
   "nbconvert_exporter": "python",
   "pygments_lexer": "ipython3",
   "version": "3.10.4"
  }
 },
 "nbformat": 4,
 "nbformat_minor": 5
}
