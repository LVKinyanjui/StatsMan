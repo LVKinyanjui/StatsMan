{
 "cells": [
  {
   "cell_type": "code",
   "execution_count": 8,
   "id": "904632a4-8864-4c31-85d3-be4c92f3d1a7",
   "metadata": {
    "tags": []
   },
   "outputs": [],
   "source": [
    "import pandas as pd\n",
    "import re"
   ]
  },
  {
   "cell_type": "code",
   "execution_count": 2,
   "id": "45a9d920-ce36-4e76-a0a7-b81004391ae0",
   "metadata": {
    "tags": []
   },
   "outputs": [],
   "source": [
    "df = pd.read_csv(\"./data/Fireship.csv\")"
   ]
  },
  {
   "cell_type": "code",
   "execution_count": 3,
   "id": "a5dbb9c1-5678-451e-b29e-f7123f1db7e9",
   "metadata": {
    "tags": []
   },
   "outputs": [
    {
     "data": {
      "text/plain": [
       "(576, 6)"
      ]
     },
     "execution_count": 3,
     "metadata": {},
     "output_type": "execute_result"
    }
   ],
   "source": [
    "df.shape"
   ]
  },
  {
   "cell_type": "code",
   "execution_count": 5,
   "id": "7f23a3e8-7b9a-4296-b570-6aa30f033d28",
   "metadata": {
    "tags": []
   },
   "outputs": [
    {
     "name": "stdout",
     "output_type": "stream",
     "text": [
      "<class 'pandas.core.frame.DataFrame'>\n",
      "RangeIndex: 576 entries, 0 to 575\n",
      "Data columns (total 6 columns):\n",
      " #   Column         Non-Null Count  Dtype \n",
      "---  ------         --------------  ----- \n",
      " 0   title          576 non-null    object\n",
      " 1   id             576 non-null    object\n",
      " 2   viewCount      576 non-null    int64 \n",
      " 3   likeCount      576 non-null    int64 \n",
      " 4   favoriteCount  576 non-null    int64 \n",
      " 5   commentCount   576 non-null    int64 \n",
      "dtypes: int64(4), object(2)\n",
      "memory usage: 27.1+ KB\n"
     ]
    }
   ],
   "source": [
    "df.info()"
   ]
  },
  {
   "cell_type": "code",
   "execution_count": 7,
   "id": "d8359b55-ea24-4b02-b633-fe032e1d8b3d",
   "metadata": {
    "tags": []
   },
   "outputs": [
    {
     "data": {
      "text/plain": [
       "0      \"World-changing\" LK-99 Superconductor explaine...\n",
       "1                 The shocking decline of Stack Overflow\n",
       "2                              PostgreSQL in 100 Seconds\n",
       "3          Twitter rebrands to X in latest 5D chess move\n",
       "4           Is AI really getting dumber? Llama2 vs GPT-4\n",
       "                             ...                        \n",
       "571    Angular Firebase CRUD App with NoSQL Database ...\n",
       "572             Angular Router Guards for Firebase Users\n",
       "573    Anonymous Authentication with Angular and Fire...\n",
       "574             OAuth with Angular and Firebase Tutorial\n",
       "575    Angular 4 Development and Production Environme...\n",
       "Name: title, Length: 576, dtype: object"
      ]
     },
     "execution_count": 7,
     "metadata": {},
     "output_type": "execute_result"
    }
   ],
   "source": [
    "df.title"
   ]
  },
  {
   "cell_type": "code",
   "execution_count": 31,
   "id": "971950f3-cff2-4b7a-a70f-e2363d55e962",
   "metadata": {
    "tags": []
   },
   "outputs": [],
   "source": [
    "pattern = r'ai'"
   ]
  },
  {
   "cell_type": "code",
   "execution_count": 32,
   "id": "6f693ad0-e6ff-481d-b315-82fcf9056ba4",
   "metadata": {
    "tags": []
   },
   "outputs": [],
   "source": [
    "df_ = df.title.apply(lambda x: re.search(pattern, x))"
   ]
  },
  {
   "cell_type": "code",
   "execution_count": 33,
   "id": "517e0d5f-fc41-4655-8eed-2ca658a4fb26",
   "metadata": {
    "tags": []
   },
   "outputs": [
    {
     "data": {
      "text/plain": [
       "46"
      ]
     },
     "execution_count": 33,
     "metadata": {},
     "output_type": "execute_result"
    }
   ],
   "source": [
    "# No of matches\n",
    "len([row for row in df_ if row is not None])"
   ]
  },
  {
   "cell_type": "code",
   "execution_count": null,
   "id": "9faa9860-809c-438d-a860-08e11a0135e5",
   "metadata": {},
   "outputs": [],
   "source": []
  }
 ],
 "metadata": {
  "kernelspec": {
   "display_name": "Python 3 (ipykernel)",
   "language": "python",
   "name": "python3"
  },
  "language_info": {
   "codemirror_mode": {
    "name": "ipython",
    "version": 3
   },
   "file_extension": ".py",
   "mimetype": "text/x-python",
   "name": "python",
   "nbconvert_exporter": "python",
   "pygments_lexer": "ipython3",
   "version": "3.10.4"
  }
 },
 "nbformat": 4,
 "nbformat_minor": 5
}
