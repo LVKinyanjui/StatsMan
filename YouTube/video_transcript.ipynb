{
 "cells": [
  {
   "cell_type": "code",
   "execution_count": 50,
   "id": "8c9a56b0-44d3-42da-80d4-8af46a321930",
   "metadata": {
    "tags": []
   },
   "outputs": [],
   "source": [
    "import os\n",
    "from googleapiclient.discovery import build"
   ]
  },
  {
   "cell_type": "code",
   "execution_count": 51,
   "id": "042ba955-fb03-4910-9206-8ee753fe3b10",
   "metadata": {
    "tags": []
   },
   "outputs": [],
   "source": [
    "from custom import extract_key_from_json"
   ]
  },
  {
   "cell_type": "code",
   "execution_count": 52,
   "id": "1e7b082d-ab95-4ef1-b5c7-d6576df09c54",
   "metadata": {
    "tags": []
   },
   "outputs": [
    {
     "name": "stdin",
     "output_type": "stream",
     "text": [
      "Enter any video ID from the channel of interest:  gU-8U7Z-E64\n"
     ]
    }
   ],
   "source": [
    "VIDEO_ID = input(\"Enter any video ID from the channel of interest: \")\n",
    "API_KEY = os.getenv('YOUTUBE_API_KEY')"
   ]
  },
  {
   "cell_type": "markdown",
   "id": "be024799-c326-4329-8d8e-d9ceebca6067",
   "metadata": {},
   "source": [
    "# Captions\n",
    "This is its own separate object from which we get all information about the video transcript"
   ]
  },
  {
   "cell_type": "code",
   "execution_count": 48,
   "id": "5b9455d7-fe24-4d21-8c26-7e53079bbc28",
   "metadata": {
    "tags": []
   },
   "outputs": [],
   "source": [
    "# Get the caption id\n",
    "response = youtube.captions().list(\n",
    "    part=\"id\",\n",
    "    videoId=VIDEO_ID\n",
    ").execute()\n",
    "\n",
    "caption_id = extract_key_from_json(response, \"id\")[0]"
   ]
  },
  {
   "cell_type": "code",
   "execution_count": 49,
   "id": "848d6360-d630-440a-9b4b-f6a6a1ab0096",
   "metadata": {
    "tags": []
   },
   "outputs": [
    {
     "data": {
      "text/plain": [
       "'AUieDaajz0_TXZkGyiGako7o96u5SEE8KUT1jtXC1-PZIs3IUBY'"
      ]
     },
     "execution_count": 49,
     "metadata": {},
     "output_type": "execute_result"
    }
   ],
   "source": [
    "# Request authorization to download the captions\n",
    "caption_id"
   ]
  },
  {
   "cell_type": "code",
   "execution_count": 1,
   "id": "6860e755-19ed-45f3-9f2d-f3edd6377283",
   "metadata": {
    "tags": []
   },
   "outputs": [
    {
     "ename": "AttributeError",
     "evalue": "'InstalledAppFlow' object has no attribute 'run_console'",
     "output_type": "error",
     "traceback": [
      "\u001b[1;31m---------------------------------------------------------------------------\u001b[0m",
      "\u001b[1;31mAttributeError\u001b[0m                            Traceback (most recent call last)",
      "Input \u001b[1;32mIn [1]\u001b[0m, in \u001b[0;36m<module>\u001b[1;34m\u001b[0m\n\u001b[0;32m     51\u001b[0m         status, complete \u001b[38;5;241m=\u001b[39m download\u001b[38;5;241m.\u001b[39mnext_chunk()\n\u001b[0;32m     54\u001b[0m \u001b[38;5;28;01mif\u001b[39;00m \u001b[38;5;18m__name__\u001b[39m \u001b[38;5;241m==\u001b[39m \u001b[38;5;124m\"\u001b[39m\u001b[38;5;124m__main__\u001b[39m\u001b[38;5;124m\"\u001b[39m:\n\u001b[1;32m---> 55\u001b[0m     \u001b[43mmain\u001b[49m\u001b[43m(\u001b[49m\u001b[43m)\u001b[49m\n",
      "Input \u001b[1;32mIn [1]\u001b[0m, in \u001b[0;36mmain\u001b[1;34m()\u001b[0m\n\u001b[0;32m     32\u001b[0m \u001b[38;5;66;03m# client_secrets_file = \"YOUR_CLIENT_SECRET_FILE.json\"\u001b[39;00m\n\u001b[0;32m     33\u001b[0m \n\u001b[0;32m     34\u001b[0m \u001b[38;5;66;03m# Get credentials and create an API client\u001b[39;00m\n\u001b[0;32m     35\u001b[0m flow \u001b[38;5;241m=\u001b[39m google_auth_oauthlib\u001b[38;5;241m.\u001b[39mflow\u001b[38;5;241m.\u001b[39mInstalledAppFlow\u001b[38;5;241m.\u001b[39mfrom_client_secrets_file(\n\u001b[0;32m     36\u001b[0m     client_secrets_file, scopes)\n\u001b[1;32m---> 37\u001b[0m credentials \u001b[38;5;241m=\u001b[39m \u001b[43mflow\u001b[49m\u001b[38;5;241;43m.\u001b[39;49m\u001b[43mrun_console\u001b[49m()\n\u001b[0;32m     38\u001b[0m youtube \u001b[38;5;241m=\u001b[39m googleapiclient\u001b[38;5;241m.\u001b[39mdiscovery\u001b[38;5;241m.\u001b[39mbuild(\n\u001b[0;32m     39\u001b[0m     api_service_name, api_version, credentials\u001b[38;5;241m=\u001b[39mcredentials)\n\u001b[0;32m     41\u001b[0m request \u001b[38;5;241m=\u001b[39m youtube\u001b[38;5;241m.\u001b[39mcaptions()\u001b[38;5;241m.\u001b[39mdownload(\n\u001b[0;32m     42\u001b[0m     \u001b[38;5;28mid\u001b[39m\u001b[38;5;241m=\u001b[39m\u001b[38;5;124m\"\u001b[39m\u001b[38;5;124mAUieDaajz0_TXZkGyiGako7o96u5SEE8KUT1jtXC1-PZIs3IUBY\u001b[39m\u001b[38;5;124m\"\u001b[39m\n\u001b[0;32m     43\u001b[0m )\n",
      "\u001b[1;31mAttributeError\u001b[0m: 'InstalledAppFlow' object has no attribute 'run_console'"
     ]
    }
   ],
   "source": [
    "# -*- coding: utf-8 -*-\n",
    "\n",
    "# Sample Python code for youtube.captions.download\n",
    "# NOTE: This sample code downloads a file and can't be executed via this\n",
    "#       interface. To test this sample, you must run it locally using your\n",
    "#       own API credentials.\n",
    "\n",
    "# See instructions for running these code samples locally:\n",
    "# https://developers.google.com/explorer-help/code-samples#python\n",
    "\n",
    "import io\n",
    "import os\n",
    "os.chdir(\"f:/Jupyter/Tiny Scripts\")\n",
    "client_secrets_file = \"./secrets/oauth_secret.json\"\n",
    "YOUR_FILE = \"f:/Jupyter/Tiny Scripts/data/\"\n",
    "\n",
    "import google_auth_oauthlib.flow\n",
    "import googleapiclient.discovery\n",
    "import googleapiclient.errors\n",
    "\n",
    "from googleapiclient.http import MediaIoBaseDownload\n",
    "\n",
    "scopes = [\"https://www.googleapis.com/auth/youtube.force-ssl\"]\n",
    "\n",
    "def main():\n",
    "    # Disable OAuthlib's HTTPS verification when running locally.\n",
    "    # *DO NOT* leave this option enabled in production.\n",
    "    os.environ[\"OAUTHLIB_INSECURE_TRANSPORT\"] = \"1\"\n",
    "\n",
    "    api_service_name = \"youtube\"\n",
    "    api_version = \"v3\"\n",
    "    # client_secrets_file = \"YOUR_CLIENT_SECRET_FILE.json\"\n",
    "\n",
    "    # Get credentials and create an API client\n",
    "    flow = google_auth_oauthlib.flow.InstalledAppFlow.from_client_secrets_file(\n",
    "        client_secrets_file, scopes)\n",
    "    credentials = flow.run_console()\n",
    "    youtube = googleapiclient.discovery.build(\n",
    "        api_service_name, api_version, credentials=credentials)\n",
    "\n",
    "    request = youtube.captions().download(\n",
    "        id=\"AUieDaajz0_TXZkGyiGako7o96u5SEE8KUT1jtXC1-PZIs3IUBY\"\n",
    "    )\n",
    "    # TODO: For this request to work, you must replace \"YOUR_FILE\"\n",
    "    #       with the location where the downloaded content should be written.\n",
    "    fh = io.FileIO(YOUR_FILE, \"wb\")\n",
    "\n",
    "    download = MediaIoBaseDownload(fh, request)\n",
    "    complete = False\n",
    "    while not complete:\n",
    "        status, complete = download.next_chunk()\n",
    "\n",
    "\n",
    "if __name__ == \"__main__\":\n",
    "    main()"
   ]
  },
  {
   "cell_type": "markdown",
   "id": "5455c5e1-332a-41f1-9927-c253301a7d4e",
   "metadata": {},
   "source": [
    "## Notes\n",
    "Our authorization process is not working. We keep getting an Error 400: mismatched url."
   ]
  },
  {
   "cell_type": "code",
   "execution_count": null,
   "id": "57e492e7-9198-498d-b72e-227498557b00",
   "metadata": {},
   "outputs": [],
   "source": []
  }
 ],
 "metadata": {
  "kernelspec": {
   "display_name": "Python 3 (ipykernel)",
   "language": "python",
   "name": "python3"
  },
  "language_info": {
   "codemirror_mode": {
    "name": "ipython",
    "version": 3
   },
   "file_extension": ".py",
   "mimetype": "text/x-python",
   "name": "python",
   "nbconvert_exporter": "python",
   "pygments_lexer": "ipython3",
   "version": "3.10.4"
  }
 },
 "nbformat": 4,
 "nbformat_minor": 5
}
