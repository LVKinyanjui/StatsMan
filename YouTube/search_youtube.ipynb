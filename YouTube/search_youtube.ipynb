{
 "cells": [
  {
   "cell_type": "markdown",
   "metadata": {},
   "source": [
    "In this notebook we will be searching for data on a given topic to find summary statistics about that topic. The hope is to be able to do large scale data collection for analysis of a given social topic such as economic developments."
   ]
  },
  {
   "cell_type": "code",
   "execution_count": 19,
   "metadata": {},
   "outputs": [],
   "source": [
    "import pandas as pd\n",
    "from pyautogui import prompt\n",
    "from googleapiclient.discovery import build"
   ]
  },
  {
   "cell_type": "code",
   "execution_count": 5,
   "metadata": {},
   "outputs": [],
   "source": [
    "import os\n",
    "API_KEY = os.getenv(\"YOUTUBE_API_KEY\")"
   ]
  },
  {
   "cell_type": "code",
   "execution_count": 6,
   "metadata": {},
   "outputs": [],
   "source": [
    "youtube = build('youtube', 'v3', developerKey=API_KEY)"
   ]
  },
  {
   "cell_type": "code",
   "execution_count": 23,
   "metadata": {},
   "outputs": [
    {
     "data": {
      "text/plain": [
       "'russia collapse'"
      ]
     },
     "execution_count": 23,
     "metadata": {},
     "output_type": "execute_result"
    }
   ],
   "source": [
    "# search_query = input(\"Enter Search Terms:\")\n",
    "search_query = prompt(text=\"Enter your desired search term\", title=\"Youtube Search\", default=\"recession\")\n",
    "search_query"
   ]
  },
  {
   "cell_type": "code",
   "execution_count": 24,
   "metadata": {},
   "outputs": [],
   "source": [
    "# Call the search.list method to retrieve search results\n",
    "search_response = youtube.search().list(\n",
    "    q=search_query,\n",
    "    type='video',\n",
    "    part='id,snippet',\n",
    "    maxResults=10  # You can adjust the number of results you want\n",
    ").execute()"
   ]
  },
  {
   "cell_type": "code",
   "execution_count": 26,
   "metadata": {},
   "outputs": [
    {
     "name": "stdout",
     "output_type": "stream",
     "text": [
      "Video Title: Why Russia Isn&#39;t Actually Collapsing, Video ID: 0T7Itt9mqtA, Publish Date: 2023-08-26T18:46:23Z\n",
      "Video Title: Russia&#39;s Geographic Problem: Collapse is inevitable | Every Century | Soviet Union 2.0, Video ID: W0seZ9gyLLU, Publish Date: 2023-06-23T20:34:50Z\n",
      "Video Title: Why Russia Will Collapse, Video ID: rYgIIhMoNAs, Publish Date: 2023-08-07T08:32:44Z\n",
      "Video Title: What Will Happen if Russia Collapses, Video ID: E95c7k9ph5A, Publish Date: 2023-05-24T21:00:05Z\n",
      "Video Title: Ukraine: is Russia Collapsing?, Video ID: E_9NOMn4YZE, Publish Date: 2023-08-06T17:34:27Z\n",
      "Video Title: Russian Federation ‘on the brink of collapse’ as its borders are ‘undefended’ from China, Video ID: FytCfqUtERU, Publish Date: 2023-08-18T13:00:11Z\n",
      "Video Title: Why Russia&#39;s Collapse is Inevitable: TLDR Interview Garry Kasparov, Video ID: n9vq6BozrxE, Publish Date: 2023-07-18T08:00:23Z\n",
      "Video Title: Why the Russian Army Collapsed in 1917 (WW1 Documentary), Video ID: dCXV_J8LxyE, Publish Date: 2023-09-09T13:30:28Z\n",
      "Video Title: How War in Ukraine Will Cause Russia To Collapse, Video ID: seMozQKU538, Publish Date: 2022-10-16T19:15:01Z\n",
      "Video Title: The end of a superpower - The collapse of the Soviet Union | DW Documentary, Video ID: JsPHKDuP-Hk, Publish Date: 2022-03-03T20:00:04Z\n"
     ]
    }
   ],
   "source": [
    "# Extract and print the video titles, IDs, and publish dates\n",
    "contents = []\n",
    "for search_result in search_response.get('items', []):\n",
    "    video_id = search_result['id']['videoId']\n",
    "    video_title = search_result['snippet']['title']\n",
    "    publish_date = search_result['snippet']['publishedAt']\n",
    "    \n",
    "    contents.append(\n",
    "        {\n",
    "            \"publish_date\": publish_date,\n",
    "            \"video_id\": video_id,\n",
    "            \"video_title\": video_title\n",
    "        }\n",
    "    )\n",
    "\n",
    "    print(f'Video Title: {video_title}, Video ID: {video_id}, Publish Date: {publish_date}')\n",
    "    "
   ]
  },
  {
   "cell_type": "code",
   "execution_count": 27,
   "metadata": {},
   "outputs": [
    {
     "data": {
      "text/html": [
       "<div>\n",
       "<style scoped>\n",
       "    .dataframe tbody tr th:only-of-type {\n",
       "        vertical-align: middle;\n",
       "    }\n",
       "\n",
       "    .dataframe tbody tr th {\n",
       "        vertical-align: top;\n",
       "    }\n",
       "\n",
       "    .dataframe thead th {\n",
       "        text-align: right;\n",
       "    }\n",
       "</style>\n",
       "<table border=\"1\" class=\"dataframe\">\n",
       "  <thead>\n",
       "    <tr style=\"text-align: right;\">\n",
       "      <th></th>\n",
       "      <th>publish_date</th>\n",
       "      <th>video_id</th>\n",
       "      <th>video_title</th>\n",
       "    </tr>\n",
       "  </thead>\n",
       "  <tbody>\n",
       "    <tr>\n",
       "      <th>0</th>\n",
       "      <td>2023-08-26T18:46:23Z</td>\n",
       "      <td>0T7Itt9mqtA</td>\n",
       "      <td>Why Russia Isn&amp;#39;t Actually Collapsing</td>\n",
       "    </tr>\n",
       "    <tr>\n",
       "      <th>1</th>\n",
       "      <td>2023-06-23T20:34:50Z</td>\n",
       "      <td>W0seZ9gyLLU</td>\n",
       "      <td>Russia&amp;#39;s Geographic Problem: Collapse is i...</td>\n",
       "    </tr>\n",
       "    <tr>\n",
       "      <th>2</th>\n",
       "      <td>2023-08-07T08:32:44Z</td>\n",
       "      <td>rYgIIhMoNAs</td>\n",
       "      <td>Why Russia Will Collapse</td>\n",
       "    </tr>\n",
       "    <tr>\n",
       "      <th>3</th>\n",
       "      <td>2023-05-24T21:00:05Z</td>\n",
       "      <td>E95c7k9ph5A</td>\n",
       "      <td>What Will Happen if Russia Collapses</td>\n",
       "    </tr>\n",
       "    <tr>\n",
       "      <th>4</th>\n",
       "      <td>2023-08-06T17:34:27Z</td>\n",
       "      <td>E_9NOMn4YZE</td>\n",
       "      <td>Ukraine: is Russia Collapsing?</td>\n",
       "    </tr>\n",
       "  </tbody>\n",
       "</table>\n",
       "</div>"
      ],
      "text/plain": [
       "           publish_date     video_id  \\\n",
       "0  2023-08-26T18:46:23Z  0T7Itt9mqtA   \n",
       "1  2023-06-23T20:34:50Z  W0seZ9gyLLU   \n",
       "2  2023-08-07T08:32:44Z  rYgIIhMoNAs   \n",
       "3  2023-05-24T21:00:05Z  E95c7k9ph5A   \n",
       "4  2023-08-06T17:34:27Z  E_9NOMn4YZE   \n",
       "\n",
       "                                         video_title  \n",
       "0           Why Russia Isn&#39;t Actually Collapsing  \n",
       "1  Russia&#39;s Geographic Problem: Collapse is i...  \n",
       "2                           Why Russia Will Collapse  \n",
       "3               What Will Happen if Russia Collapses  \n",
       "4                     Ukraine: is Russia Collapsing?  "
      ]
     },
     "execution_count": 27,
     "metadata": {},
     "output_type": "execute_result"
    }
   ],
   "source": [
    "data = pd.DataFrame(contents)\n",
    "data.head()"
   ]
  },
  {
   "cell_type": "code",
   "execution_count": 28,
   "metadata": {},
   "outputs": [],
   "source": [
    "data.to_csv(\"data/search.csv\")"
   ]
  },
  {
   "cell_type": "code",
   "execution_count": null,
   "metadata": {},
   "outputs": [],
   "source": []
  }
 ],
 "metadata": {
  "kernelspec": {
   "display_name": ".venv",
   "language": "python",
   "name": "python3"
  },
  "language_info": {
   "codemirror_mode": {
    "name": "ipython",
    "version": 3
   },
   "file_extension": ".py",
   "mimetype": "text/x-python",
   "name": "python",
   "nbconvert_exporter": "python",
   "pygments_lexer": "ipython3",
   "version": "3.10.4"
  },
  "orig_nbformat": 4
 },
 "nbformat": 4,
 "nbformat_minor": 2
}
