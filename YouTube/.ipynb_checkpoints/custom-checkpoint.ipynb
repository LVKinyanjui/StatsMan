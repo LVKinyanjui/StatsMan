{
 "cells": [
  {
   "cell_type": "code",
   "execution_count": null,
   "id": "ab2da67c-7155-44ec-9d48-ce0bc53ed42a",
   "metadata": {},
   "outputs": [],
   "source": [
    "import re"
   ]
  },
  {
   "cell_type": "code",
   "execution_count": 1,
   "id": "79cacd31-389e-4a39-99a9-823081daf94a",
   "metadata": {
    "tags": []
   },
   "outputs": [],
   "source": [
    "def extract_key_from_json(json_data, target_key):\n",
    "    result = []\n",
    "\n",
    "    def search_nested(json_obj, key):\n",
    "        if isinstance(json_obj, dict):\n",
    "            for k, v in json_obj.items():\n",
    "                if k == key:\n",
    "                    result.append(v)\n",
    "                elif isinstance(v, (dict, list)):\n",
    "                    search_nested(v, key)\n",
    "        elif isinstance(json_obj, list):\n",
    "            for item in json_obj:\n",
    "                search_nested(item, key)\n",
    "\n",
    "    search_nested(json_data, target_key)\n",
    "    return result\n"
   ]
  },
  {
   "cell_type": "code",
   "execution_count": 17,
   "id": "262d5388-8763-474c-8c20-5623ad73d24a",
   "metadata": {
    "tags": []
   },
   "outputs": [],
   "source": [
    "def clean_string(input_string):\n",
    "    # Define the regular expression pattern to match unwanted characters\n",
    "    pattern = r'[^a-zA-Z_,\\s]'\n",
    "    \n",
    "    # Use re.sub() to replace unwanted characters with an empty string\n",
    "    cleaned_string = re.sub(pattern, '', input_string)\n",
    "    \n",
    "    return cleaned_string"
   ]
  },
  {
   "cell_type": "code",
   "execution_count": null,
   "id": "9ca9860a-956b-4793-842a-1cdf74c436ef",
   "metadata": {},
   "outputs": [],
   "source": []
  }
 ],
 "metadata": {
  "kernelspec": {
   "display_name": "Python 3 (ipykernel)",
   "language": "python",
   "name": "python3"
  },
  "language_info": {
   "codemirror_mode": {
    "name": "ipython",
    "version": 3
   },
   "file_extension": ".py",
   "mimetype": "text/x-python",
   "name": "python",
   "nbconvert_exporter": "python",
   "pygments_lexer": "ipython3",
   "version": "3.10.4"
  }
 },
 "nbformat": 4,
 "nbformat_minor": 5
}
