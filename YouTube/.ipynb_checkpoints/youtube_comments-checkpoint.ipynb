{
 "cells": [
  {
   "cell_type": "code",
   "execution_count": 10,
   "id": "b26f176c-3d7a-45d5-80a8-61c3b88e7957",
   "metadata": {
    "tags": []
   },
   "outputs": [],
   "source": [
    "import os\n",
    "from googleapiclient.discovery import build\n",
    "from custom import extract_key_from_json, clean_string\n",
    "\n",
    "import pandas as pd"
   ]
  },
  {
   "cell_type": "markdown",
   "id": "5ed54c7f-e8ca-4793-99de-6860adc4d13e",
   "metadata": {},
   "source": [
    "## Credentials"
   ]
  },
  {
   "cell_type": "code",
   "execution_count": 2,
   "id": "22e1d7b8-763c-403f-821a-a69092f710a2",
   "metadata": {
    "tags": []
   },
   "outputs": [
    {
     "name": "stdin",
     "output_type": "stream",
     "text": [
      "Enter any video ID from the channel of interest:  rsBZ4HG7HWI\n"
     ]
    }
   ],
   "source": [
    "VIDEO_ID = input(\"Enter any video ID from the channel of interest: \")\n",
    "API_KEY = os.getenv('YOUTUBE_API_KEY')\n",
    "CHANNEL_USERNAME = \"@RockstarAcademy\""
   ]
  },
  {
   "cell_type": "code",
   "execution_count": 3,
   "id": "65be7930-ea25-458b-9c5a-fbc4ac163291",
   "metadata": {
    "tags": []
   },
   "outputs": [],
   "source": [
    "# Create a YouTube API client\n",
    "# MUST be initialized\n",
    "youtube = build(\"youtube\", \"v3\", developerKey=API_KEY)"
   ]
  },
  {
   "cell_type": "markdown",
   "id": "e6fa9df3-7fa2-4011-a5a7-585672c7e4a3",
   "metadata": {},
   "source": [
    "## Functions"
   ]
  },
  {
   "cell_type": "code",
   "execution_count": 4,
   "id": "f200f95d-75a5-4cb0-a908-d8e97f1f5958",
   "metadata": {
    "tags": []
   },
   "outputs": [],
   "source": [
    "def get_commentThreads (video_id, max_results=100):\n",
    "    \n",
    "    #Looping over pages\n",
    "    comments = []\n",
    "    next_page_token = None\n",
    "    \n",
    "    while 1:\n",
    "        res = youtube.commentThreads().list(part = 'snippet', \n",
    "                                            videoId = video_id,\n",
    "                                            pageToken = next_page_token,\n",
    "                                            maxResults = max_results\n",
    "                                           ).execute()\n",
    "        comments += res['items']\n",
    "        next_page_token = res.get('nextPageToken')\n",
    "        \n",
    "        # If token is none then we have reached the end so break\n",
    "        if  next_page_token == None:\n",
    "            break\n",
    "            \n",
    "    return comments"
   ]
  },
  {
   "cell_type": "code",
   "execution_count": 5,
   "id": "357d314f-856f-483f-b549-9bb9d3d5aa79",
   "metadata": {
    "tags": []
   },
   "outputs": [],
   "source": [
    "def get_video_details(video_id):\n",
    "    response = youtube.videos().list(\n",
    "        part=\"snippet, statistics\", \n",
    "        id=video_id\n",
    "    ).execute()\n",
    "\n",
    "    video_title = clean_string(extract_key_from_json(response, \"title\")[0])\n",
    "\n",
    "    comment_count = int(extract_key_from_json(response, \"commentCount\")[0])\n",
    "    \n",
    "    return video_title, comment_count"
   ]
  },
  {
   "cell_type": "code",
   "execution_count": 6,
   "id": "4dffb10d-383e-4564-89bf-ad68522aa6ca",
   "metadata": {
    "tags": []
   },
   "outputs": [],
   "source": [
    "def save(video_title, comments):\n",
    "    path = \"./data/\" + video_title + \".csv\"\n",
    "\n",
    "    df = pd.DataFrame()\n",
    "    df['text'] = comments\n",
    "    df.to_csv(path, index=False, encoding=\"utf-8\")"
   ]
  },
  {
   "cell_type": "code",
   "execution_count": null,
   "id": "90e8e3c5-ce73-4bfd-babf-c85f9bd6f43e",
   "metadata": {},
   "outputs": [],
   "source": [
    "if '__name__' == \"__main__\":\n",
    "    video_title, total_comments = get_video_details(VIDEO_ID)\n",
    "    response = get_commentThreads(VIDEO_ID, max_results=total_comments)\n",
    "    comments = extract_key_from_json(response, 'textOriginal')\n",
    "    save(video_title, comments)"
   ]
  }
 ],
 "metadata": {
  "kernelspec": {
   "display_name": "Python 3 (ipykernel)",
   "language": "python",
   "name": "python3"
  },
  "language_info": {
   "codemirror_mode": {
    "name": "ipython",
    "version": 3
   },
   "file_extension": ".py",
   "mimetype": "text/x-python",
   "name": "python",
   "nbconvert_exporter": "python",
   "pygments_lexer": "ipython3",
   "version": "3.10.4"
  }
 },
 "nbformat": 4,
 "nbformat_minor": 5
}
