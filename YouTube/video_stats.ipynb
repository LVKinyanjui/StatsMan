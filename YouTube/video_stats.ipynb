{
 "cells": [
  {
   "cell_type": "code",
   "execution_count": 1,
   "id": "f34e3111-9292-4d5b-a61a-2dd455b05c89",
   "metadata": {
    "tags": []
   },
   "outputs": [],
   "source": [
    "import pandas as pd\n",
    "from tqdm import tqdm\n",
    "from custom import extract_key_from_json"
   ]
  },
  {
   "cell_type": "markdown",
   "id": "19cda15a-e99a-4045-aab2-bd89ab7a3789",
   "metadata": {},
   "source": [
    "## Load Data"
   ]
  },
  {
   "cell_type": "code",
   "execution_count": 2,
   "id": "0d6a0b7c-a2c7-4b62-bf1d-3ecaacad79ab",
   "metadata": {
    "tags": []
   },
   "outputs": [
    {
     "name": "stdin",
     "output_type": "stream",
     "text": [
      "Filename (Should match the channel title):  Fireship\n"
     ]
    }
   ],
   "source": [
    "CHANNEL_TITLE = input(\"Filename (Should match the channel title): \")"
   ]
  },
  {
   "cell_type": "code",
   "execution_count": 3,
   "id": "89a8f2c0-421a-40d0-859a-8221abd773fd",
   "metadata": {
    "tags": []
   },
   "outputs": [],
   "source": [
    "df = pd.read_csv(f\"./data/{CHANNEL_TITLE}.csv\")"
   ]
  },
  {
   "cell_type": "code",
   "execution_count": 4,
   "id": "8c12700d-ce9b-41a7-bd0f-c84274dbcac5",
   "metadata": {
    "tags": []
   },
   "outputs": [
    {
     "data": {
      "text/plain": [
       "(576, 2)"
      ]
     },
     "execution_count": 4,
     "metadata": {},
     "output_type": "execute_result"
    }
   ],
   "source": [
    "df.shape"
   ]
  },
  {
   "cell_type": "markdown",
   "id": "54035337-7652-48dc-8812-591950c796ec",
   "metadata": {},
   "source": [
    "## API Call"
   ]
  },
  {
   "cell_type": "code",
   "execution_count": 5,
   "id": "38c3df7c-427c-468f-8cf6-18735d73ace3",
   "metadata": {
    "tags": []
   },
   "outputs": [],
   "source": [
    "import os\n",
    "from googleapiclient.discovery import build"
   ]
  },
  {
   "cell_type": "code",
   "execution_count": 6,
   "id": "cb01947b-3cfb-4360-9808-172ddea9775a",
   "metadata": {
    "tags": []
   },
   "outputs": [],
   "source": [
    "API_KEY = os.getenv(\"YOUTUBE_API_KEY\")"
   ]
  },
  {
   "cell_type": "code",
   "execution_count": 7,
   "id": "60182da6-b1dc-476b-8b1d-fce197150092",
   "metadata": {
    "tags": []
   },
   "outputs": [],
   "source": [
    "youtube = build(\"youtube\", \"v3\", developerKey=API_KEY)"
   ]
  },
  {
   "cell_type": "markdown",
   "id": "0ea712bc-e7d0-4a35-8011-410d8b1ebfff",
   "metadata": {},
   "source": [
    "### Video Stats"
   ]
  },
  {
   "cell_type": "code",
   "execution_count": 8,
   "id": "fc3ce02f-aa48-47ba-a852-e1e5e25eae3d",
   "metadata": {
    "tags": []
   },
   "outputs": [],
   "source": [
    "def get_stats(VIDEO_ID):\n",
    "    response = youtube.videos().list(\n",
    "        part=\"statistics\",\n",
    "        id=VIDEO_ID\n",
    "    ).execute()\n",
    "    return response"
   ]
  },
  {
   "cell_type": "code",
   "execution_count": 9,
   "id": "c33b3978-9071-40e4-98b1-6f74e6722885",
   "metadata": {
    "tags": []
   },
   "outputs": [],
   "source": [
    "video_ids = df.id"
   ]
  },
  {
   "cell_type": "code",
   "execution_count": 10,
   "id": "d1912bee-a64e-4c1c-be47-829bbe9ffac6",
   "metadata": {
    "tags": []
   },
   "outputs": [],
   "source": [
    "video_stats = []\n",
    "for video_id in tqdm(video_ids):\n",
    "    video_stats.append(get_stats(video_id))"
   ]
  },
  {
   "cell_type": "code",
   "execution_count": 11,
   "id": "bd2d6d56-640a-4381-bb1c-1bac5bd5b0e7",
   "metadata": {
    "tags": []
   },
   "outputs": [
    {
     "data": {
      "text/html": [
       "<div>\n",
       "<style scoped>\n",
       "    .dataframe tbody tr th:only-of-type {\n",
       "        vertical-align: middle;\n",
       "    }\n",
       "\n",
       "    .dataframe tbody tr th {\n",
       "        vertical-align: top;\n",
       "    }\n",
       "\n",
       "    .dataframe thead th {\n",
       "        text-align: right;\n",
       "    }\n",
       "</style>\n",
       "<table border=\"1\" class=\"dataframe\">\n",
       "  <thead>\n",
       "    <tr style=\"text-align: right;\">\n",
       "      <th></th>\n",
       "      <th>viewCount</th>\n",
       "      <th>likeCount</th>\n",
       "      <th>favoriteCount</th>\n",
       "      <th>commentCount</th>\n",
       "    </tr>\n",
       "  </thead>\n",
       "  <tbody>\n",
       "    <tr>\n",
       "      <th>0</th>\n",
       "      <td>461872</td>\n",
       "      <td>32091</td>\n",
       "      <td>0</td>\n",
       "      <td>1393</td>\n",
       "    </tr>\n",
       "    <tr>\n",
       "      <th>1</th>\n",
       "      <td>469860</td>\n",
       "      <td>27688</td>\n",
       "      <td>0</td>\n",
       "      <td>1588</td>\n",
       "    </tr>\n",
       "    <tr>\n",
       "      <th>2</th>\n",
       "      <td>296016</td>\n",
       "      <td>20153</td>\n",
       "      <td>0</td>\n",
       "      <td>613</td>\n",
       "    </tr>\n",
       "    <tr>\n",
       "      <th>3</th>\n",
       "      <td>910811</td>\n",
       "      <td>48753</td>\n",
       "      <td>0</td>\n",
       "      <td>3388</td>\n",
       "    </tr>\n",
       "    <tr>\n",
       "      <th>4</th>\n",
       "      <td>483561</td>\n",
       "      <td>25188</td>\n",
       "      <td>0</td>\n",
       "      <td>1228</td>\n",
       "    </tr>\n",
       "  </tbody>\n",
       "</table>\n",
       "</div>"
      ],
      "text/plain": [
       "  viewCount likeCount favoriteCount commentCount\n",
       "0    461872     32091             0         1393\n",
       "1    469860     27688             0         1588\n",
       "2    296016     20153             0          613\n",
       "3    910811     48753             0         3388\n",
       "4    483561     25188             0         1228"
      ]
     },
     "execution_count": 11,
     "metadata": {},
     "output_type": "execute_result"
    }
   ],
   "source": [
    "stats = pd.DataFrame(extract_key_from_json(video_stats, 'statistics'))\n",
    "stats.head()"
   ]
  },
  {
   "cell_type": "markdown",
   "id": "abe4997e-4f42-4ff5-8530-a27332c590f3",
   "metadata": {},
   "source": [
    "## Merge and Name Dataframe"
   ]
  },
  {
   "cell_type": "code",
   "execution_count": 12,
   "id": "2f9d5e65-be2b-4af1-a90d-24cc1f7febbc",
   "metadata": {
    "tags": []
   },
   "outputs": [],
   "source": [
    "stats_ = pd.concat([df, stats], axis=1)"
   ]
  },
  {
   "cell_type": "code",
   "execution_count": 13,
   "id": "5ae463ac-2c10-49c1-bd9a-a8bafbd0821a",
   "metadata": {
    "tags": []
   },
   "outputs": [],
   "source": [
    "VIDEO_ID = df.id[0]"
   ]
  },
  {
   "cell_type": "code",
   "execution_count": 14,
   "id": "469c8c7f-9c19-464d-a512-bfab128d332d",
   "metadata": {
    "tags": []
   },
   "outputs": [],
   "source": [
    "video_response = youtube.videos().list(\n",
    "    part=\"snippet\",\n",
    "    id=VIDEO_ID\n",
    ").execute()"
   ]
  },
  {
   "cell_type": "code",
   "execution_count": 15,
   "id": "db882ce1-9f5f-43a7-bb61-00f472a2fb3b",
   "metadata": {
    "tags": []
   },
   "outputs": [
    {
     "data": {
      "text/plain": [
       "'Fireship'"
      ]
     },
     "execution_count": 15,
     "metadata": {},
     "output_type": "execute_result"
    }
   ],
   "source": [
    "CHANNEL_TITLE = extract_key_from_json(video_response, 'channelTitle')[0]\n",
    "CHANNEL_TITLE"
   ]
  },
  {
   "cell_type": "markdown",
   "id": "440d8133-0f16-4ba1-9747-2c25c500ac2b",
   "metadata": {},
   "source": [
    "## Save"
   ]
  },
  {
   "cell_type": "code",
   "execution_count": 16,
   "id": "06698e47-489e-452d-a43c-c8f46a01e678",
   "metadata": {
    "tags": []
   },
   "outputs": [],
   "source": [
    "stats_.to_csv(f\"./data/{CHANNEL_TITLE}.csv\", index=False)"
   ]
  },
  {
   "cell_type": "code",
   "execution_count": null,
   "id": "4de11701-c368-483d-ab01-c3c838487afa",
   "metadata": {},
   "outputs": [],
   "source": []
  }
 ],
 "metadata": {
  "kernelspec": {
   "display_name": "Python 3 (ipykernel)",
   "language": "python",
   "name": "python3"
  },
  "language_info": {
   "codemirror_mode": {
    "name": "ipython",
    "version": 3
   },
   "file_extension": ".py",
   "mimetype": "text/x-python",
   "name": "python",
   "nbconvert_exporter": "python",
   "pygments_lexer": "ipython3",
   "version": "3.10.4"
  }
 },
 "nbformat": 4,
 "nbformat_minor": 5
}
