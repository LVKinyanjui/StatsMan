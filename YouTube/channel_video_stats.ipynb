{
 "cells": [
  {
   "cell_type": "code",
   "execution_count": 1,
   "id": "f34e3111-9292-4d5b-a61a-2dd455b05c89",
   "metadata": {
    "tags": []
   },
   "outputs": [],
   "source": [
    "import pandas as pd\n",
    "from tqdm import tqdm\n",
    "from custom import extract_key_from_json"
   ]
  },
  {
   "cell_type": "markdown",
   "id": "19cda15a-e99a-4045-aab2-bd89ab7a3789",
   "metadata": {},
   "source": [
    "## Load Data"
   ]
  },
  {
   "cell_type": "code",
   "execution_count": 2,
   "id": "0d6a0b7c-a2c7-4b62-bf1d-3ecaacad79ab",
   "metadata": {
    "tags": []
   },
   "outputs": [
    {
     "name": "stdin",
     "output_type": "stream",
     "text": [
      "Filename (Should match the channel title):  Dolphine 254\n"
     ]
    }
   ],
   "source": [
    "CHANNEL_TITLE = input(\"Filename (Should match the channel title): \")"
   ]
  },
  {
   "cell_type": "code",
   "execution_count": 3,
   "id": "89a8f2c0-421a-40d0-859a-8221abd773fd",
   "metadata": {
    "tags": []
   },
   "outputs": [],
   "source": [
    "df = pd.read_csv(f\"./data/{CHANNEL_TITLE}.csv\")"
   ]
  },
  {
   "cell_type": "code",
   "execution_count": 4,
   "id": "8c12700d-ce9b-41a7-bd0f-c84274dbcac5",
   "metadata": {
    "tags": []
   },
   "outputs": [
    {
     "data": {
      "text/plain": [
       "(444, 7)"
      ]
     },
     "execution_count": 4,
     "metadata": {},
     "output_type": "execute_result"
    }
   ],
   "source": [
    "df.shape"
   ]
  },
  {
   "cell_type": "markdown",
   "id": "54035337-7652-48dc-8812-591950c796ec",
   "metadata": {},
   "source": [
    "## API Call"
   ]
  },
  {
   "cell_type": "code",
   "execution_count": 5,
   "id": "38c3df7c-427c-468f-8cf6-18735d73ace3",
   "metadata": {
    "tags": []
   },
   "outputs": [],
   "source": [
    "import os\n",
    "from googleapiclient.discovery import build"
   ]
  },
  {
   "cell_type": "code",
   "execution_count": 6,
   "id": "cb01947b-3cfb-4360-9808-172ddea9775a",
   "metadata": {
    "tags": []
   },
   "outputs": [],
   "source": [
    "API_KEY = os.getenv(\"YOUTUBE_API_KEY\")"
   ]
  },
  {
   "cell_type": "code",
   "execution_count": 7,
   "id": "60182da6-b1dc-476b-8b1d-fce197150092",
   "metadata": {
    "tags": []
   },
   "outputs": [],
   "source": [
    "youtube = build(\"youtube\", \"v3\", developerKey=API_KEY)"
   ]
  },
  {
   "cell_type": "markdown",
   "id": "0ea712bc-e7d0-4a35-8011-410d8b1ebfff",
   "metadata": {},
   "source": [
    "### Video Stats"
   ]
  },
  {
   "cell_type": "code",
   "execution_count": 8,
   "id": "fc3ce02f-aa48-47ba-a852-e1e5e25eae3d",
   "metadata": {
    "tags": []
   },
   "outputs": [],
   "source": [
    "def get_stats(VIDEO_ID):\n",
    "    response = youtube.videos().list(\n",
    "        part=\"snippet, statistics, contentDetails\",\n",
    "        id=VIDEO_ID\n",
    "    ).execute()\n",
    "    return response"
   ]
  },
  {
   "cell_type": "code",
   "execution_count": 9,
   "id": "c33b3978-9071-40e4-98b1-6f74e6722885",
   "metadata": {
    "tags": []
   },
   "outputs": [],
   "source": [
    "video_ids = df.id"
   ]
  },
  {
   "cell_type": "code",
   "execution_count": 10,
   "id": "d1912bee-a64e-4c1c-be47-829bbe9ffac6",
   "metadata": {
    "tags": []
   },
   "outputs": [
    {
     "name": "stderr",
     "output_type": "stream",
     "text": [
      "100%|████████████████████████████████████████████████████████████████████████████████| 444/444 [01:13<00:00,  6.07it/s]\n"
     ]
    }
   ],
   "source": [
    "video_stats = []\n",
    "for video_id in tqdm(video_ids):\n",
    "    video_stats.append(get_stats(video_id))"
   ]
  },
  {
   "cell_type": "code",
   "execution_count": 12,
   "id": "bd2d6d56-640a-4381-bb1c-1bac5bd5b0e7",
   "metadata": {
    "tags": []
   },
   "outputs": [
    {
     "data": {
      "text/html": [
       "<div>\n",
       "<style scoped>\n",
       "    .dataframe tbody tr th:only-of-type {\n",
       "        vertical-align: middle;\n",
       "    }\n",
       "\n",
       "    .dataframe tbody tr th {\n",
       "        vertical-align: top;\n",
       "    }\n",
       "\n",
       "    .dataframe thead th {\n",
       "        text-align: right;\n",
       "    }\n",
       "</style>\n",
       "<table border=\"1\" class=\"dataframe\">\n",
       "  <thead>\n",
       "    <tr style=\"text-align: right;\">\n",
       "      <th></th>\n",
       "      <th>viewCount</th>\n",
       "      <th>likeCount</th>\n",
       "      <th>favoriteCount</th>\n",
       "      <th>commentCount</th>\n",
       "      <th>duration</th>\n",
       "      <th>date_published</th>\n",
       "    </tr>\n",
       "  </thead>\n",
       "  <tbody>\n",
       "    <tr>\n",
       "      <th>0</th>\n",
       "      <td>2343</td>\n",
       "      <td>123</td>\n",
       "      <td>0</td>\n",
       "      <td>38</td>\n",
       "      <td>PT10M31S</td>\n",
       "      <td>2023-08-31T17:05:14Z</td>\n",
       "    </tr>\n",
       "    <tr>\n",
       "      <th>1</th>\n",
       "      <td>1233</td>\n",
       "      <td>50</td>\n",
       "      <td>0</td>\n",
       "      <td>11</td>\n",
       "      <td>PT16M32S</td>\n",
       "      <td>2023-08-28T16:42:20Z</td>\n",
       "    </tr>\n",
       "    <tr>\n",
       "      <th>2</th>\n",
       "      <td>6139</td>\n",
       "      <td>243</td>\n",
       "      <td>0</td>\n",
       "      <td>53</td>\n",
       "      <td>PT19M11S</td>\n",
       "      <td>2023-08-26T17:53:13Z</td>\n",
       "    </tr>\n",
       "    <tr>\n",
       "      <th>3</th>\n",
       "      <td>3672</td>\n",
       "      <td>119</td>\n",
       "      <td>0</td>\n",
       "      <td>33</td>\n",
       "      <td>PT16M33S</td>\n",
       "      <td>2023-08-19T16:41:20Z</td>\n",
       "    </tr>\n",
       "    <tr>\n",
       "      <th>4</th>\n",
       "      <td>1796</td>\n",
       "      <td>105</td>\n",
       "      <td>0</td>\n",
       "      <td>36</td>\n",
       "      <td>PT11M29S</td>\n",
       "      <td>2023-08-16T17:02:53Z</td>\n",
       "    </tr>\n",
       "  </tbody>\n",
       "</table>\n",
       "</div>"
      ],
      "text/plain": [
       "  viewCount likeCount favoriteCount commentCount  duration  \\\n",
       "0      2343       123             0           38  PT10M31S   \n",
       "1      1233        50             0           11  PT16M32S   \n",
       "2      6139       243             0           53  PT19M11S   \n",
       "3      3672       119             0           33  PT16M33S   \n",
       "4      1796       105             0           36  PT11M29S   \n",
       "\n",
       "         date_published  \n",
       "0  2023-08-31T17:05:14Z  \n",
       "1  2023-08-28T16:42:20Z  \n",
       "2  2023-08-26T17:53:13Z  \n",
       "3  2023-08-19T16:41:20Z  \n",
       "4  2023-08-16T17:02:53Z  "
      ]
     },
     "execution_count": 12,
     "metadata": {},
     "output_type": "execute_result"
    }
   ],
   "source": [
    "stats = pd.DataFrame(extract_key_from_json(video_stats, 'statistics'))\n",
    "stats['duration'] = extract_key_from_json(video_stats, 'duration')\n",
    "stats['date_published'] = extract_key_from_json(video_stats, \"publishedAt\")\n",
    "\n",
    "stats.head()"
   ]
  },
  {
   "cell_type": "markdown",
   "id": "abe4997e-4f42-4ff5-8530-a27332c590f3",
   "metadata": {},
   "source": [
    "## Merge and Name Dataframe"
   ]
  },
  {
   "cell_type": "code",
   "execution_count": 13,
   "id": "2f9d5e65-be2b-4af1-a90d-24cc1f7febbc",
   "metadata": {
    "tags": []
   },
   "outputs": [],
   "source": [
    "stats_ = pd.concat([df, stats], axis=1)"
   ]
  },
  {
   "cell_type": "code",
   "execution_count": 14,
   "id": "5ae463ac-2c10-49c1-bd9a-a8bafbd0821a",
   "metadata": {
    "tags": []
   },
   "outputs": [],
   "source": [
    "VIDEO_ID = df.id[0]"
   ]
  },
  {
   "cell_type": "code",
   "execution_count": 15,
   "id": "469c8c7f-9c19-464d-a512-bfab128d332d",
   "metadata": {
    "tags": []
   },
   "outputs": [],
   "source": [
    "video_response = youtube.videos().list(\n",
    "    part=\"snippet\",\n",
    "    id=VIDEO_ID\n",
    ").execute()"
   ]
  },
  {
   "cell_type": "code",
   "execution_count": 16,
   "id": "db882ce1-9f5f-43a7-bb61-00f472a2fb3b",
   "metadata": {
    "tags": []
   },
   "outputs": [
    {
     "data": {
      "text/plain": [
       "'Dolphine 254'"
      ]
     },
     "execution_count": 16,
     "metadata": {},
     "output_type": "execute_result"
    }
   ],
   "source": [
    "CHANNEL_TITLE = extract_key_from_json(video_response, 'channelTitle')[0]\n",
    "CHANNEL_TITLE"
   ]
  },
  {
   "cell_type": "markdown",
   "id": "440d8133-0f16-4ba1-9747-2c25c500ac2b",
   "metadata": {},
   "source": [
    "## Save"
   ]
  },
  {
   "cell_type": "code",
   "execution_count": 17,
   "id": "06698e47-489e-452d-a43c-c8f46a01e678",
   "metadata": {
    "tags": []
   },
   "outputs": [],
   "source": [
    "stats_.to_csv(f\"./data/{CHANNEL_TITLE}.csv\", index=False)"
   ]
  },
  {
   "cell_type": "code",
   "execution_count": null,
   "id": "4de11701-c368-483d-ab01-c3c838487afa",
   "metadata": {},
   "outputs": [],
   "source": []
  }
 ],
 "metadata": {
  "kernelspec": {
   "display_name": "Python 3 (ipykernel)",
   "language": "python",
   "name": "python3"
  },
  "language_info": {
   "codemirror_mode": {
    "name": "ipython",
    "version": 3
   },
   "file_extension": ".py",
   "mimetype": "text/x-python",
   "name": "python",
   "nbconvert_exporter": "python",
   "pygments_lexer": "ipython3",
   "version": "3.10.4"
  }
 },
 "nbformat": 4,
 "nbformat_minor": 5
}
