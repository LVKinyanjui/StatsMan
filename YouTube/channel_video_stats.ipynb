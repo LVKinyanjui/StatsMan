{
 "cells": [
  {
   "cell_type": "code",
   "execution_count": 3,
   "id": "f34e3111-9292-4d5b-a61a-2dd455b05c89",
   "metadata": {
    "tags": []
   },
   "outputs": [],
   "source": [
    "import pandas as pd\n",
    "from tqdm import tqdm\n",
    "from custom import extract_key_from_json"
   ]
  },
  {
   "cell_type": "markdown",
   "id": "19cda15a-e99a-4045-aab2-bd89ab7a3789",
   "metadata": {},
   "source": [
    "## Load Data"
   ]
  },
  {
   "cell_type": "code",
   "execution_count": 1,
   "id": "0d6a0b7c-a2c7-4b62-bf1d-3ecaacad79ab",
   "metadata": {
    "tags": []
   },
   "outputs": [
    {
     "name": "stdin",
     "output_type": "stream",
     "text": [
      "Filename (Should match the channel title):  Jonas Čeika - CCK Philosophy\n"
     ]
    }
   ],
   "source": [
    "CHANNEL_TITLE = input(\"Filename (Should match the channel title): \")"
   ]
  },
  {
   "cell_type": "code",
   "execution_count": 4,
   "id": "89a8f2c0-421a-40d0-859a-8221abd773fd",
   "metadata": {
    "tags": []
   },
   "outputs": [],
   "source": [
    "df = pd.read_csv(f\"./data/{CHANNEL_TITLE}.csv\")"
   ]
  },
  {
   "cell_type": "code",
   "execution_count": 5,
   "id": "8c12700d-ce9b-41a7-bd0f-c84274dbcac5",
   "metadata": {
    "tags": []
   },
   "outputs": [
    {
     "data": {
      "text/plain": [
       "(53, 6)"
      ]
     },
     "execution_count": 5,
     "metadata": {},
     "output_type": "execute_result"
    }
   ],
   "source": [
    "df.shape"
   ]
  },
  {
   "cell_type": "markdown",
   "id": "54035337-7652-48dc-8812-591950c796ec",
   "metadata": {},
   "source": [
    "## API Call"
   ]
  },
  {
   "cell_type": "code",
   "execution_count": 6,
   "id": "38c3df7c-427c-468f-8cf6-18735d73ace3",
   "metadata": {
    "tags": []
   },
   "outputs": [],
   "source": [
    "import os\n",
    "from googleapiclient.discovery import build"
   ]
  },
  {
   "cell_type": "code",
   "execution_count": 7,
   "id": "cb01947b-3cfb-4360-9808-172ddea9775a",
   "metadata": {
    "tags": []
   },
   "outputs": [],
   "source": [
    "API_KEY = os.getenv(\"YOUTUBE_API_KEY\")"
   ]
  },
  {
   "cell_type": "code",
   "execution_count": 8,
   "id": "60182da6-b1dc-476b-8b1d-fce197150092",
   "metadata": {
    "tags": []
   },
   "outputs": [],
   "source": [
    "youtube = build(\"youtube\", \"v3\", developerKey=API_KEY)"
   ]
  },
  {
   "cell_type": "markdown",
   "id": "0ea712bc-e7d0-4a35-8011-410d8b1ebfff",
   "metadata": {},
   "source": [
    "### Video Stats"
   ]
  },
  {
   "cell_type": "code",
   "execution_count": 9,
   "id": "fc3ce02f-aa48-47ba-a852-e1e5e25eae3d",
   "metadata": {
    "tags": []
   },
   "outputs": [],
   "source": [
    "def get_stats(VIDEO_ID):\n",
    "    response = youtube.videos().list(\n",
    "        part=\"statistics, contentDetails\",\n",
    "        id=VIDEO_ID\n",
    "    ).execute()\n",
    "    return response"
   ]
  },
  {
   "cell_type": "code",
   "execution_count": 10,
   "id": "c33b3978-9071-40e4-98b1-6f74e6722885",
   "metadata": {
    "tags": []
   },
   "outputs": [],
   "source": [
    "video_ids = df.id"
   ]
  },
  {
   "cell_type": "code",
   "execution_count": 11,
   "id": "d1912bee-a64e-4c1c-be47-829bbe9ffac6",
   "metadata": {
    "tags": []
   },
   "outputs": [
    {
     "name": "stderr",
     "output_type": "stream",
     "text": [
      "100%|██████████████████████████████████████████████████████████████████████████████████| 53/53 [00:11<00:00,  4.65it/s]\n"
     ]
    }
   ],
   "source": [
    "video_stats = []\n",
    "for video_id in tqdm(video_ids):\n",
    "    video_stats.append(get_stats(video_id))"
   ]
  },
  {
   "cell_type": "code",
   "execution_count": null,
   "id": "cdab0f3a-36dd-4b91-83a0-a7414b915e76",
   "metadata": {
    "tags": []
   },
   "outputs": [],
   "source": [
    "extract_key_from_json(video_stats, 'duration')"
   ]
  },
  {
   "cell_type": "code",
   "execution_count": 22,
   "id": "bd2d6d56-640a-4381-bb1c-1bac5bd5b0e7",
   "metadata": {
    "tags": []
   },
   "outputs": [
    {
     "data": {
      "text/html": [
       "<div>\n",
       "<style scoped>\n",
       "    .dataframe tbody tr th:only-of-type {\n",
       "        vertical-align: middle;\n",
       "    }\n",
       "\n",
       "    .dataframe tbody tr th {\n",
       "        vertical-align: top;\n",
       "    }\n",
       "\n",
       "    .dataframe thead th {\n",
       "        text-align: right;\n",
       "    }\n",
       "</style>\n",
       "<table border=\"1\" class=\"dataframe\">\n",
       "  <thead>\n",
       "    <tr style=\"text-align: right;\">\n",
       "      <th></th>\n",
       "      <th>viewCount</th>\n",
       "      <th>likeCount</th>\n",
       "      <th>favoriteCount</th>\n",
       "      <th>commentCount</th>\n",
       "      <th>duration</th>\n",
       "    </tr>\n",
       "  </thead>\n",
       "  <tbody>\n",
       "    <tr>\n",
       "      <th>0</th>\n",
       "      <td>87895</td>\n",
       "      <td>7171</td>\n",
       "      <td>0</td>\n",
       "      <td>671</td>\n",
       "      <td>PT38M26S</td>\n",
       "    </tr>\n",
       "    <tr>\n",
       "      <th>1</th>\n",
       "      <td>82875</td>\n",
       "      <td>3924</td>\n",
       "      <td>0</td>\n",
       "      <td>582</td>\n",
       "      <td>PT1H16M44S</td>\n",
       "    </tr>\n",
       "    <tr>\n",
       "      <th>2</th>\n",
       "      <td>33005</td>\n",
       "      <td>1628</td>\n",
       "      <td>0</td>\n",
       "      <td>123</td>\n",
       "      <td>PT33M53S</td>\n",
       "    </tr>\n",
       "    <tr>\n",
       "      <th>3</th>\n",
       "      <td>23113</td>\n",
       "      <td>1807</td>\n",
       "      <td>0</td>\n",
       "      <td>112</td>\n",
       "      <td>PT21M3S</td>\n",
       "    </tr>\n",
       "    <tr>\n",
       "      <th>4</th>\n",
       "      <td>40876</td>\n",
       "      <td>3331</td>\n",
       "      <td>0</td>\n",
       "      <td>287</td>\n",
       "      <td>PT8M43S</td>\n",
       "    </tr>\n",
       "  </tbody>\n",
       "</table>\n",
       "</div>"
      ],
      "text/plain": [
       "  viewCount likeCount favoriteCount commentCount    duration\n",
       "0     87895      7171             0          671    PT38M26S\n",
       "1     82875      3924             0          582  PT1H16M44S\n",
       "2     33005      1628             0          123    PT33M53S\n",
       "3     23113      1807             0          112     PT21M3S\n",
       "4     40876      3331             0          287     PT8M43S"
      ]
     },
     "execution_count": 22,
     "metadata": {},
     "output_type": "execute_result"
    }
   ],
   "source": [
    "stats = pd.DataFrame(extract_key_from_json(video_stats, 'statistics'))\n",
    "stats['duration'] = extract_key_from_json(video_stats, 'duration')\n",
    "\n",
    "stats.head()"
   ]
  },
  {
   "cell_type": "markdown",
   "id": "abe4997e-4f42-4ff5-8530-a27332c590f3",
   "metadata": {},
   "source": [
    "## Merge and Name Dataframe"
   ]
  },
  {
   "cell_type": "code",
   "execution_count": 23,
   "id": "2f9d5e65-be2b-4af1-a90d-24cc1f7febbc",
   "metadata": {
    "tags": []
   },
   "outputs": [],
   "source": [
    "stats_ = pd.concat([df, stats], axis=1)"
   ]
  },
  {
   "cell_type": "code",
   "execution_count": 24,
   "id": "5ae463ac-2c10-49c1-bd9a-a8bafbd0821a",
   "metadata": {
    "tags": []
   },
   "outputs": [],
   "source": [
    "VIDEO_ID = df.id[0]"
   ]
  },
  {
   "cell_type": "code",
   "execution_count": 25,
   "id": "469c8c7f-9c19-464d-a512-bfab128d332d",
   "metadata": {
    "tags": []
   },
   "outputs": [],
   "source": [
    "video_response = youtube.videos().list(\n",
    "    part=\"snippet\",\n",
    "    id=VIDEO_ID\n",
    ").execute()"
   ]
  },
  {
   "cell_type": "code",
   "execution_count": 26,
   "id": "db882ce1-9f5f-43a7-bb61-00f472a2fb3b",
   "metadata": {
    "tags": []
   },
   "outputs": [
    {
     "data": {
      "text/plain": [
       "'Jonas Čeika - CCK Philosophy'"
      ]
     },
     "execution_count": 26,
     "metadata": {},
     "output_type": "execute_result"
    }
   ],
   "source": [
    "CHANNEL_TITLE = extract_key_from_json(video_response, 'channelTitle')[0]\n",
    "CHANNEL_TITLE"
   ]
  },
  {
   "cell_type": "markdown",
   "id": "440d8133-0f16-4ba1-9747-2c25c500ac2b",
   "metadata": {},
   "source": [
    "## Save"
   ]
  },
  {
   "cell_type": "code",
   "execution_count": 27,
   "id": "06698e47-489e-452d-a43c-c8f46a01e678",
   "metadata": {
    "tags": []
   },
   "outputs": [],
   "source": [
    "stats_.to_csv(f\"./data/{CHANNEL_TITLE}.csv\", index=False)"
   ]
  },
  {
   "cell_type": "code",
   "execution_count": null,
   "id": "4de11701-c368-483d-ab01-c3c838487afa",
   "metadata": {},
   "outputs": [],
   "source": []
  }
 ],
 "metadata": {
  "kernelspec": {
   "display_name": "Python 3 (ipykernel)",
   "language": "python",
   "name": "python3"
  },
  "language_info": {
   "codemirror_mode": {
    "name": "ipython",
    "version": 3
   },
   "file_extension": ".py",
   "mimetype": "text/x-python",
   "name": "python",
   "nbconvert_exporter": "python",
   "pygments_lexer": "ipython3",
   "version": "3.10.4"
  }
 },
 "nbformat": 4,
 "nbformat_minor": 5
}
