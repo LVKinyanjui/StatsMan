{
 "cells": [
  {
   "cell_type": "markdown",
   "id": "bd7705f1-1452-4934-b2f6-245343492191",
   "metadata": {},
   "source": [
    "This is an attempt to unravel the complexity that is the Meta `Graph API`. The objective is to:\n",
    "- Query useful information on a certain user (me, or anyone else).\n",
    "- Discover which permissions are needed for what requests."
   ]
  },
  {
   "cell_type": "code",
   "execution_count": 2,
   "id": "6a9216bb-fd05-4056-8b1d-7a7bc1246cb1",
   "metadata": {},
   "outputs": [],
   "source": [
    "import requests"
   ]
  },
  {
   "cell_type": "markdown",
   "id": "00e039f3-9b36-4670-8dde-82dd7fba08c2",
   "metadata": {},
   "source": [
    "<h2 align=center> Myself (/me) </h2>"
   ]
  },
  {
   "cell_type": "code",
   "execution_count": 3,
   "id": "74c3f57c-b16a-42a1-ad21-a8fcb06aeb70",
   "metadata": {
    "tags": []
   },
   "outputs": [],
   "source": [
    "endpoint = \"https://graph.facebook.com/v17.0/me?fields=id%2Cname%2Cposts&access_token=EAAJeZCkpSJg8BO6DQFrzretkNZBCKqpH3ObDOBwxlI7a1Otl7lCoAtavTTHuOZAToGGn7ZCsWox3cMJhzPYRtZCIpJkbmWiNNnpwpYUjJoArjhZCdQF1YTA7Sy80b84YMMenBYmU12sNnsnEuijrKMX4sI6xpd1bTbAp13tS4E7VTDxLt1t7vOIrKPlyeUl9z1Sf1NhLlRLVxyDZCnX2sNyLZCbpUKU5WZB8DNDga7qfxCOZCFik1vzmykmXXYJeK2beCP2QZDZD\""
   ]
  },
  {
   "cell_type": "code",
   "execution_count": 4,
   "id": "e1a1cb72-ecf5-4e88-a4db-84c44a603fe3",
   "metadata": {
    "tags": []
   },
   "outputs": [],
   "source": [
    "response = requests.get(endpoint)"
   ]
  },
  {
   "cell_type": "code",
   "execution_count": 5,
   "id": "f092b236-bee2-40b5-92f4-17e4bddf3c28",
   "metadata": {
    "tags": []
   },
   "outputs": [
    {
     "data": {
      "text/plain": [
       "<Response [200]>"
      ]
     },
     "execution_count": 5,
     "metadata": {},
     "output_type": "execute_result"
    }
   ],
   "source": [
    "response"
   ]
  },
  {
   "cell_type": "code",
   "execution_count": 11,
   "id": "497e4ec1-3e32-4787-9d4f-8a61d21080e4",
   "metadata": {
    "tags": []
   },
   "outputs": [
    {
     "name": "stdout",
     "output_type": "stream",
     "text": [
      "Success\n"
     ]
    }
   ],
   "source": [
    "if response.status_code == 200:\n",
    "    text = response.json()\n",
    "    print(\"Success\")"
   ]
  },
  {
   "cell_type": "code",
   "execution_count": 12,
   "id": "3ca3a2b0-d723-403c-8baf-d345a81812eb",
   "metadata": {
    "tags": []
   },
   "outputs": [
    {
     "data": {
      "text/plain": [
       "{'id': '244275205113447', 'name': 'Harley Manor'}"
      ]
     },
     "execution_count": 12,
     "metadata": {},
     "output_type": "execute_result"
    }
   ],
   "source": [
    "text"
   ]
  },
  {
   "cell_type": "markdown",
   "id": "ef7ab840-b30c-4cbf-a4cc-e392dd33a38d",
   "metadata": {},
   "source": [
    "<h3 align=center> Conclusion 1 </h3>\n",
    "We have succesfully made a HTTP request to the `\\me` endpoint (my own account). This has been aided greatly from experimenting with the <a href=https://developers.facebook.com/micro_site/url/?click_from_context_menu=true&country=KE&destination=https%3A%2F%2Fdevelopers.facebook.com%2Ftools%2Fexplorer&event_type=click&last_nav_impression_id=1FtKls5nrUjkD7lt5&max_percent_page_viewed=93&max_viewport_height_px=597&max_viewport_width_px=1148&orig_http_referrer=https%3A%2F%2Fdevelopers.facebook.com%2Fdocs%2Fgraph-api%2Fget-started&orig_request_uri=https%3A%2F%2Fdevelopers.facebook.com%2Fajax%2Fdocs%2Fnav%2F%3Fpath1%3Dgraph-api%26path2%3Dget-started&region=emea&scrolled=true&session_id=1kZO4Mzd6Ahwi4ZqU&site=developers> Graph Explorer Tool </a>."
   ]
  },
  {
   "cell_type": "markdown",
   "id": "f8d3b9e7-0b01-4b5a-8b0a-39cc1308bcaf",
   "metadata": {},
   "source": [
    "<h2 align=center> Other Users </h2>"
   ]
  },
  {
   "cell_type": "code",
   "execution_count": null,
   "id": "fa7f7786-65dd-4511-b270-4d3832fdc75a",
   "metadata": {},
   "outputs": [],
   "source": []
  }
 ],
 "metadata": {
  "kernelspec": {
   "display_name": "Python 3 (ipykernel)",
   "language": "python",
   "name": "python3"
  },
  "language_info": {
   "codemirror_mode": {
    "name": "ipython",
    "version": 3
   },
   "file_extension": ".py",
   "mimetype": "text/x-python",
   "name": "python",
   "nbconvert_exporter": "python",
   "pygments_lexer": "ipython3",
   "version": "3.10.4"
  }
 },
 "nbformat": 4,
 "nbformat_minor": 5
}
