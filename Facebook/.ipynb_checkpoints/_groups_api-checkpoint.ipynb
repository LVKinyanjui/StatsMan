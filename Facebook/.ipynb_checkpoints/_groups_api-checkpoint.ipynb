{
 "cells": [
  {
   "cell_type": "markdown",
   "id": "f7b75997-c7b9-47a1-a68c-db31dee47c6e",
   "metadata": {},
   "source": [
    "Generally, we will analyse how to ue the `groups API` to fetch data from groups that the `me` user is a member of.\n",
    "\n",
    "Specifically, I want to gather useful price and stock information for mountain bikes advertised on [this facebook page](https://www.facebook.com/exukbikesandproducts)\n",
    "\n",
    "Using Meta APIs has proven a dauting task thus far. I expect no less of a challenge going forward"
   ]
  },
  {
   "cell_type": "code",
   "execution_count": 17,
   "id": "851d3b27-d2c4-45a5-b17d-a15f542fda1e",
   "metadata": {
    "tags": []
   },
   "outputs": [],
   "source": [
    "import requests\n",
    "import pandas as pd"
   ]
  },
  {
   "cell_type": "markdown",
   "id": "52e36e4f-b109-48a4-8b89-ee4b103e8d37",
   "metadata": {},
   "source": [
    "## Helper Functions"
   ]
  },
  {
   "cell_type": "code",
   "execution_count": 8,
   "id": "3fca2e40-b7f2-4188-8ca4-3f70e1f03cbe",
   "metadata": {
    "tags": []
   },
   "outputs": [],
   "source": [
    "def extract_key_from_json(json_data, target_key):\n",
    "    \"\"\"\n",
    "    Simplify the task of getting keys from a deeply nested json object\n",
    "    \"\"\"\n",
    "    result = []\n",
    "\n",
    "    def search_nested(json_obj, key):\n",
    "        if isinstance(json_obj, dict):\n",
    "            for k, v in json_obj.items():\n",
    "                if k == key:\n",
    "                    result.append(v)\n",
    "                elif isinstance(v, (dict, list)):\n",
    "                    search_nested(v, key)\n",
    "        elif isinstance(json_obj, list):\n",
    "            for item in json_obj:\n",
    "                search_nested(item, key)\n",
    "\n",
    "    search_nested(json_data, target_key)\n",
    "    return result\n"
   ]
  },
  {
   "cell_type": "markdown",
   "id": "22c26ab0-f7fd-4fdb-9d70-1933110f67a3",
   "metadata": {},
   "source": [
    "## Facebook Groups API\n",
    "We can find the getting started section [here](https://developers.facebook.com/docs/groups-api/get-started)"
   ]
  },
  {
   "cell_type": "markdown",
   "id": "417b0350-ce1b-410c-9346-65c222ad4667",
   "metadata": {},
   "source": [
    "### Procedure\n",
    "1. Get the ids of all the groups a user (in our case, me) is a member of. \n",
    "\n",
    "    This requires that i already have joined a group whose information I want."
   ]
  },
  {
   "cell_type": "code",
   "execution_count": 2,
   "id": "654143ff-548f-4253-a937-11ba7ec23723",
   "metadata": {
    "tags": []
   },
   "outputs": [],
   "source": [
    "endpoint = \"https://graph.facebook.com/v17.0/me/groups?access_token=EAAJeZCkpSJg8BO9D9ZA7WxRB6kOeKQdJgMeheqbjzlw5ZB4gHTiU5na9QWjLlYQZBtLgexuVPhtutvleD3p7iEXgB7fuBbct5MJBgMZCORZBVtILSrLfbbSLS6Sal9q0VNLji0VSmegZCAg4JdUMZBJ1XwLAtL4el9Uos5wanYrByOVwDzUtUEptTQTKzZCU5i5wNZCfhNcaeTAjZBGDBy88q0DRZBBjt7YbJ7nh3rik5WZAHK9l0fvqaRGAGEqZCKX1pmeWToJ1QZD\""
   ]
  },
  {
   "cell_type": "code",
   "execution_count": 3,
   "id": "5cf810df-ab07-41dc-9dc5-91c0749bd04c",
   "metadata": {
    "tags": []
   },
   "outputs": [],
   "source": [
    "response = requests.get(endpoint)"
   ]
  },
  {
   "cell_type": "code",
   "execution_count": 14,
   "id": "de62ffb7-2fd8-44b7-a423-19f7f0975119",
   "metadata": {
    "tags": []
   },
   "outputs": [],
   "source": [
    "if response.status_code == 200:\n",
    "    my_groups = response.json()"
   ]
  },
  {
   "cell_type": "code",
   "execution_count": 15,
   "id": "e2865e35-41e8-43ef-8fb2-2e3795ab28d9",
   "metadata": {
    "tags": []
   },
   "outputs": [
    {
     "data": {
      "text/plain": [
       "{'data': [{'name': 'Visa & Immigrations Group', 'id': '747630942269302'},\n",
       "  {'name': 'Bead Talk -A Jewelry Making Community! Sponsored By Mindel Bead Co.',\n",
       "   'id': '1864166667175322'},\n",
       "  {'name': 'COFFEE COFFEE COFFEE!!!', 'id': '2204925119'}],\n",
       " 'paging': {'cursors': {'before': 'QVFIUmI1NGM5Yl9ha0ljY0FEYS1YaVM0Ul8wTTQ3cE5leEpHUXN4V09zUFJ3RUo2MHp5MVBWa0dkemU4OHJiVjRIUm1VTWJEMFBEbmY1bGhLMmQ4U19SWG5R',\n",
       "   'after': 'QVFIUlQ5UVY4S2NLYUcwM09KSTZAvMDByazRHcllqYUs1Ml9SRnNrX05SOWhmdHFaSEMwYTJGckJNMnlldTA4bkdxT1FNc2NVby1lR3c4S3piTDQzb1FjRkd3'}}}"
      ]
     },
     "execution_count": 15,
     "metadata": {},
     "output_type": "execute_result"
    }
   ],
   "source": [
    "my_groups"
   ]
  },
  {
   "cell_type": "code",
   "execution_count": 16,
   "id": "5f93c4b1-d911-4a0c-8162-8fec3ba0008b",
   "metadata": {
    "tags": []
   },
   "outputs": [
    {
     "data": {
      "text/plain": [
       "['Visa & Immigrations Group',\n",
       " 'Bead Talk -A Jewelry Making Community! Sponsored By Mindel Bead Co.',\n",
       " 'COFFEE COFFEE COFFEE!!!']"
      ]
     },
     "execution_count": 16,
     "metadata": {},
     "output_type": "execute_result"
    }
   ],
   "source": [
    "extract_key_from_json(my_groups, \"name\")"
   ]
  },
  {
   "cell_type": "markdown",
   "id": "a3df93b1-c970-441d-989b-770cb4f3eeee",
   "metadata": {},
   "source": [
    "#### Results\n",
    "Displaying a list of all the groups neatly as a `pandas` dataframe"
   ]
  },
  {
   "cell_type": "code",
   "execution_count": 20,
   "id": "6c3175d5-01e0-411f-bbc8-bf194705e928",
   "metadata": {
    "tags": []
   },
   "outputs": [
    {
     "data": {
      "text/html": [
       "<div>\n",
       "<style scoped>\n",
       "    .dataframe tbody tr th:only-of-type {\n",
       "        vertical-align: middle;\n",
       "    }\n",
       "\n",
       "    .dataframe tbody tr th {\n",
       "        vertical-align: top;\n",
       "    }\n",
       "\n",
       "    .dataframe thead th {\n",
       "        text-align: right;\n",
       "    }\n",
       "</style>\n",
       "<table border=\"1\" class=\"dataframe\">\n",
       "  <thead>\n",
       "    <tr style=\"text-align: right;\">\n",
       "      <th></th>\n",
       "      <th>name</th>\n",
       "      <th>id</th>\n",
       "    </tr>\n",
       "  </thead>\n",
       "  <tbody>\n",
       "    <tr>\n",
       "      <th>0</th>\n",
       "      <td>Visa &amp; Immigrations Group</td>\n",
       "      <td>747630942269302</td>\n",
       "    </tr>\n",
       "    <tr>\n",
       "      <th>1</th>\n",
       "      <td>Bead Talk -A Jewelry Making Community! Sponsor...</td>\n",
       "      <td>1864166667175322</td>\n",
       "    </tr>\n",
       "    <tr>\n",
       "      <th>2</th>\n",
       "      <td>COFFEE COFFEE COFFEE!!!</td>\n",
       "      <td>2204925119</td>\n",
       "    </tr>\n",
       "  </tbody>\n",
       "</table>\n",
       "</div>"
      ],
      "text/plain": [
       "                                                name                id\n",
       "0                          Visa & Immigrations Group   747630942269302\n",
       "1  Bead Talk -A Jewelry Making Community! Sponsor...  1864166667175322\n",
       "2                            COFFEE COFFEE COFFEE!!!        2204925119"
      ]
     },
     "execution_count": 20,
     "metadata": {},
     "output_type": "execute_result"
    }
   ],
   "source": [
    "results = pd.DataFrame(my_groups[\"data\"])\n",
    "results"
   ]
  },
  {
   "cell_type": "markdown",
   "id": "930e5c6b-e890-4b89-841a-6caec52a551a",
   "metadata": {},
   "source": [
    "### Conclusion\n",
    "We have succesfully obtained a response the API with the list of groups the `me` user is a part of."
   ]
  },
  {
   "cell_type": "code",
   "execution_count": null,
   "id": "e28ef7a2-4247-4e79-b689-1dacd6952fb6",
   "metadata": {},
   "outputs": [],
   "source": []
  }
 ],
 "metadata": {
  "kernelspec": {
   "display_name": "Python 3 (ipykernel)",
   "language": "python",
   "name": "python3"
  },
  "language_info": {
   "codemirror_mode": {
    "name": "ipython",
    "version": 3
   },
   "file_extension": ".py",
   "mimetype": "text/x-python",
   "name": "python",
   "nbconvert_exporter": "python",
   "pygments_lexer": "ipython3",
   "version": "3.10.4"
  }
 },
 "nbformat": 4,
 "nbformat_minor": 5
}
