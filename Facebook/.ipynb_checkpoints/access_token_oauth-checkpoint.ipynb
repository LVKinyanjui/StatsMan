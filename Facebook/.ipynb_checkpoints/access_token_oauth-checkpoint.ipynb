{
 "cells": [
  {
   "cell_type": "markdown",
   "id": "de4b57dd-0234-4d08-abc5-d6b82f6e1f67",
   "metadata": {},
   "source": [
    "This deals with the intricacies of getting the access token programmatically. We arerequred to use `oauth` flow."
   ]
  },
  {
   "cell_type": "code",
   "execution_count": null,
   "id": "6c61c867-08d3-471c-8fbe-0aa2c80ca4d9",
   "metadata": {},
   "outputs": [],
   "source": [
    "import requests"
   ]
  },
  {
   "cell_type": "code",
   "execution_count": null,
   "id": "f47dbd85-a13d-4d56-b2aa-7f93af8b5fdf",
   "metadata": {},
   "outputs": [],
   "source": [
    "# Replace these with your App ID and App Secret\n",
    "app_id = \"YOUR_APP_ID\"\n",
    "app_secret = \"YOUR_APP_SECRET\""
   ]
  },
  {
   "cell_type": "code",
   "execution_count": null,
   "id": "5c03053d-8ee1-4def-8194-517f177f5a8e",
   "metadata": {},
   "outputs": [],
   "source": [
    "# Replace this with the permissions your app requires\n",
    "permissions = [\"email\", \"user_posts\"]\n",
    "\n",
    "# Step 1: Get the authorization code from the user\n",
    "def get_authorization_code():\n",
    "    redirect_uri = \"https://www.example.com/callback\"  # Replace with your redirect URI\n",
    "    auth_url = f\"https://www.facebook.com/v12.0/dialog/oauth?client_id={app_id}&redirect_uri={redirect_uri}&scope={','.join(permissions)}\"\n",
    "    print(\"Please visit the following URL and grant permission:\")\n",
    "    print(auth_url)\n",
    "    authorization_code = input(\"Enter the authorization code from the redirected URL: \")\n",
    "    return authorization_code\n",
    "\n",
    "# Step 2: Exchange authorization code for access token\n",
    "def get_access_token(authorization_code):\n",
    "    token_url = \"https://graph.facebook.com/v12.0/oauth/access_token\"\n",
    "    params = {\n",
    "        \"client_id\": app_id,\n",
    "        \"client_secret\": app_secret,\n",
    "        \"redirect_uri\": \"https://www.example.com/callback\",  # Replace with your redirect URI\n",
    "        \"code\": authorization_code,\n",
    "    }\n",
    "    response = requests.get(token_url, params=params)\n",
    "    access_token = response.json()[\"access_token\"]\n",
    "    return access_token\n",
    "\n",
    "if __name__ == \"__main__\":\n",
    "    authorization_code = get_authorization_code()\n",
    "    access_token = get_access_token(authorization_code)\n",
    "    print(f\"Access token: {access_token}\")"
   ]
  }
 ],
 "metadata": {
  "kernelspec": {
   "display_name": "Python 3 (ipykernel)",
   "language": "python",
   "name": "python3"
  },
  "language_info": {
   "codemirror_mode": {
    "name": "ipython",
    "version": 3
   },
   "file_extension": ".py",
   "mimetype": "text/x-python",
   "name": "python",
   "nbconvert_exporter": "python",
   "pygments_lexer": "ipython3",
   "version": "3.10.4"
  }
 },
 "nbformat": 4,
 "nbformat_minor": 5
}
