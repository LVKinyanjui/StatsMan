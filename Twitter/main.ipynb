{
 "cells": [
  {
   "cell_type": "code",
   "execution_count": 1,
   "metadata": {},
   "outputs": [
    {
     "name": "stderr",
     "output_type": "stream",
     "text": [
      "/home/jovian/Projects/APIs/Twitter/.venv/lib/python3.10/site-packages/tqdm/auto.py:21: TqdmWarning: IProgress not found. Please update jupyter and ipywidgets. See https://ipywidgets.readthedocs.io/en/stable/user_install.html\n",
      "  from .autonotebook import tqdm as notebook_tqdm\n"
     ]
    }
   ],
   "source": [
    "from tweet_generator import TweetGenerator\n",
    "from twitter_api import TwitterAPI"
   ]
  },
  {
   "cell_type": "code",
   "execution_count": 2,
   "metadata": {},
   "outputs": [],
   "source": [
    "from generation.gemini import Gemini"
   ]
  },
  {
   "cell_type": "markdown",
   "metadata": {},
   "source": [
    "### Post Topic\n",
    "The generation of ideas should be done by agents. The aim is to use the autogen framework to generate and criticize ideas on their merit before writing anything about them."
   ]
  },
  {
   "cell_type": "code",
   "execution_count": 3,
   "metadata": {},
   "outputs": [],
   "source": [
    "user_topic = \"\"\"\n",
    "    You are to generate a story on how clumsily interpreting p-values \n",
    "    may have led to ridiculous outcomes when doing statistical research.\n",
    "\"\"\""
   ]
  },
  {
   "cell_type": "code",
   "execution_count": 4,
   "metadata": {},
   "outputs": [],
   "source": [
    "prompt = f\"\"\"\n",
    "    You are to imagine yourself as an avid twitter (or X user)\n",
    "    You create interesting and captivating tweets for your audience\n",
    "    You throw in some humour, irony and sarcasm where appropriate\n",
    "\n",
    "    You begin the first 100 or so words of your tweet with a HOOK\n",
    "    something that teases the audience with what you wish to share\n",
    "    Then you tell your story to reflect your HOOK or initial introduction\n",
    "\n",
    "    DO NOT use the words HOOK or STORY in your actual response\n",
    "    JUst write out the story\n",
    "    \n",
    "    You are to apply the aforementioned instructions to the following topic\n",
    "\n",
    "    {user_topic}\n",
    "\"\"\""
   ]
  },
  {
   "cell_type": "code",
   "execution_count": 5,
   "metadata": {},
   "outputs": [
    {
     "data": {
      "text/plain": [
       "['P-values, indicating the likelihood of extreme results assuming a true null hypothesis, can be misinterpreted. A low p-value (less than',\n",
       " '0.05) is often seen as statistical significance, allowing rejection of the null hypothesis. However, small sample sizes or study design',\n",
       " 'issues can cause false low p-values, as seen in studies claiming chocolate aids weight loss or TV enhances intelligence. Both studies had',\n",
       " \"small sample sizes and non-replicable results, indicating misleading conclusions drawn from misinterpreted p-values. It's crucial to\",\n",
       " 'consider sample size, study design, and other factors before drawing conclusions from p-values.']"
      ]
     },
     "execution_count": 5,
     "metadata": {},
     "output_type": "execute_result"
    }
   ],
   "source": [
    "generator = TweetGenerator(model_type='gemini')\n",
    "tweets = generator.generate_tweets(prompt)\n",
    "tweets"
   ]
  },
  {
   "cell_type": "code",
   "execution_count": 6,
   "metadata": {},
   "outputs": [],
   "source": [
    "main_tweet = tweets[0]\n",
    "replies = tweets[1:]"
   ]
  },
  {
   "cell_type": "code",
   "execution_count": 7,
   "metadata": {},
   "outputs": [],
   "source": [
    "twitterAPI = TwitterAPI()\n",
    "twitterAPI.tweet_thread(main_tweet, replies)"
   ]
  },
  {
   "cell_type": "code",
   "execution_count": null,
   "metadata": {},
   "outputs": [],
   "source": []
  }
 ],
 "metadata": {
  "kernelspec": {
   "display_name": ".venv",
   "language": "python",
   "name": "python3"
  },
  "language_info": {
   "codemirror_mode": {
    "name": "ipython",
    "version": 3
   },
   "file_extension": ".py",
   "mimetype": "text/x-python",
   "name": "python",
   "nbconvert_exporter": "python",
   "pygments_lexer": "ipython3",
   "version": "3.10.12"
  }
 },
 "nbformat": 4,
 "nbformat_minor": 2
}
