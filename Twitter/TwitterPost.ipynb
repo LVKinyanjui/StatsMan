{
 "cells": [
  {
   "cell_type": "code",
   "execution_count": 1,
   "id": "41764b50",
   "metadata": {},
   "outputs": [],
   "source": [
    "import tweepy\n",
    "import os\n",
    "from dotenv import load_dotenv"
   ]
  },
  {
   "cell_type": "code",
   "execution_count": 2,
   "id": "183a888e",
   "metadata": {},
   "outputs": [
    {
     "data": {
      "text/plain": [
       "True"
      ]
     },
     "execution_count": 2,
     "metadata": {},
     "output_type": "execute_result"
    }
   ],
   "source": [
    "load_dotenv"
   ]
  },
  {
   "cell_type": "code",
   "execution_count": 3,
   "id": "2071290e",
   "metadata": {},
   "outputs": [],
   "source": [
    "consumer_key = os.environ['TWITTER_CONSUMER_KEY']\n",
    "consumer_secret = os.environ['TWITTER_CONSUMER_KEY_SECRET']\n",
    "\n",
    "access_token = os.environ['TWITTER_ACCESS_TOKEN']\n",
    "access_secret = os.environ['TWITTER_ACCESS_TOKEN_SECRET']"
   ]
  },
  {
   "cell_type": "code",
   "execution_count": 4,
   "id": "b40ef3ce",
   "metadata": {},
   "outputs": [],
   "source": [
    "#current version 2 method\n",
    "def twitConnection():\n",
    "    client = tweepy.Client(\n",
    "        consumer_key = consumer_key, consumer_secret=consumer_secret,\n",
    "        access_token=access_token, access_token_secret=access_secret)\n",
    "     \n",
    "    return client\n",
    "\n",
    "#version 1 method\n",
    "def twitConnection_v1():    \n",
    "    auth = tweepy.OAuth1UserHandler(consumer_key, consumer_secret)\n",
    "    auth.set_access_token(access_token, access_secret)\n",
    "    \n",
    "    return tweepy.API(auth)\n",
    "    "
   ]
  },
  {
   "cell_type": "code",
   "execution_count": 5,
   "id": "ab7b04b9",
   "metadata": {},
   "outputs": [],
   "source": [
    "client = twitConnection()\n",
    "client_v1 = twitConnection_v1()"
   ]
  },
  {
   "cell_type": "markdown",
   "id": "1fba70ae",
   "metadata": {},
   "source": [
    "### Text only Tweets"
   ]
  },
  {
   "cell_type": "code",
   "execution_count": 6,
   "id": "24956d7f",
   "metadata": {},
   "outputs": [],
   "source": [
    "#example can be found here for basic post: https://youtu.be/HzmNUTg8xWU\n",
    "#post a msg\n",
    "msg = 'The Software Developer era is slowly coming to a close.'\n",
    "response = client.create_tweet(text = msg)"
   ]
  },
  {
   "cell_type": "markdown",
   "id": "68ca2b35",
   "metadata": {},
   "source": [
    "### Tweets with Media"
   ]
  },
  {
   "cell_type": "markdown",
   "id": "2796954e",
   "metadata": {},
   "source": [
    "#### Media Only"
   ]
  },
  {
   "cell_type": "code",
   "execution_count": 7,
   "id": "8d95397d",
   "metadata": {},
   "outputs": [],
   "source": [
    "#media preperation using version 1\n",
    "media = client_v1.media_upload(filename=r'data/flux_code.png')\n",
    "media_id = media.media_id"
   ]
  },
  {
   "cell_type": "markdown",
   "id": "988b80cb",
   "metadata": {},
   "source": [
    "#### Media and Text"
   ]
  },
  {
   "cell_type": "code",
   "execution_count": 8,
   "id": "335beacc",
   "metadata": {},
   "outputs": [],
   "source": [
    "#post using version 2\n",
    "msg = 'What really is the future of software engineering jobs and the field in general?'\n",
    "response = client.create_tweet(text = msg, media_ids = [media_id])"
   ]
  },
  {
   "cell_type": "code",
   "execution_count": null,
   "id": "49a88fa3",
   "metadata": {},
   "outputs": [],
   "source": []
  }
 ],
 "metadata": {
  "kernelspec": {
   "display_name": "Python 3 (ipykernel)",
   "language": "python",
   "name": "python3"
  },
  "language_info": {
   "codemirror_mode": {
    "name": "ipython",
    "version": 3
   },
   "file_extension": ".py",
   "mimetype": "text/x-python",
   "name": "python",
   "nbconvert_exporter": "python",
   "pygments_lexer": "ipython3",
   "version": "3.10.12"
  }
 },
 "nbformat": 4,
 "nbformat_minor": 5
}
