{
 "cells": [
  {
   "cell_type": "code",
   "execution_count": 8,
   "id": "41764b50",
   "metadata": {},
   "outputs": [],
   "source": [
    "import tweepy\n",
    "import yaml"
   ]
  },
  {
   "cell_type": "code",
   "execution_count": 9,
   "id": "b40ef3ce",
   "metadata": {},
   "outputs": [],
   "source": [
    "#current version 2 method\n",
    "def twitConnection(creds):\n",
    "    #Define Keys\n",
    "    consumer_key = creds['twitter']['consumer_key']\n",
    "    consumer_secret = creds['twitter']['consumer_secret']\n",
    "\n",
    "    # Access:\n",
    "    access_token  = creds['twitter']['access_token']\n",
    "    access_secret = creds['twitter']['access_secret']\n",
    "    \n",
    "    client = tweepy.Client(\n",
    "        consumer_key = consumer_key, consumer_secret=consumer_secret,\n",
    "        access_token=access_token, access_token_secret=access_secret)\n",
    "     \n",
    "    return client\n",
    "\n",
    "#version 1 method\n",
    "def twitConnection_v1(creds):\n",
    "    #Define Keys\n",
    "    consumer_key = creds['twitter']['consumer_key']\n",
    "    consumer_secret = creds['twitter']['consumer_secret']\n",
    "\n",
    "    # Access:\n",
    "    access_token  = creds['twitter']['access_token']\n",
    "    access_secret = creds['twitter']['access_secret']\n",
    "    \n",
    "    auth = tweepy.OAuth1UserHandler(consumer_key, consumer_secret)\n",
    "    auth.set_access_token(access_token, access_secret)\n",
    "    \n",
    "    return tweepy.API(auth)\n",
    "    "
   ]
  },
  {
   "cell_type": "code",
   "execution_count": 10,
   "id": "f2836077",
   "metadata": {},
   "outputs": [],
   "source": [
    "#if you want to know how this works - look at video: https://youtu.be/njMMhJz3X4g\n",
    "#load creds\n",
    "creds = yaml.load(open('social_credentials.yml'), Loader=yaml.FullLoader)"
   ]
  },
  {
   "cell_type": "code",
   "execution_count": 11,
   "id": "ab7b04b9",
   "metadata": {},
   "outputs": [],
   "source": [
    "client = twitConnection(creds)\n",
    "client_v1 = twitConnection_v1(creds)"
   ]
  },
  {
   "cell_type": "code",
   "execution_count": 12,
   "id": "24956d7f",
   "metadata": {},
   "outputs": [],
   "source": [
    "#example can be found here for basic post: https://youtu.be/HzmNUTg8xWU\n",
    "#post a msg\n",
    "msg = 'This is a function test for version 1 posting'\n",
    "response = client.create_tweet(text = msg)"
   ]
  },
  {
   "cell_type": "code",
   "execution_count": 13,
   "id": "548e5865",
   "metadata": {},
   "outputs": [],
   "source": [
    "#identify media\n",
    "myMedia = r'your_file_location'"
   ]
  },
  {
   "cell_type": "code",
   "execution_count": 14,
   "id": "8d95397d",
   "metadata": {},
   "outputs": [],
   "source": [
    "#media preperation using version 1\n",
    "media = client_v1.media_upload(filename=myMedia)\n",
    "media_id = media.media_id"
   ]
  },
  {
   "cell_type": "code",
   "execution_count": 18,
   "id": "335beacc",
   "metadata": {},
   "outputs": [],
   "source": [
    "#post using version 2\n",
    "msg = 'This is a function test for version 2 posting with photo'\n",
    "response = client.create_tweet(text = msg, media_ids = [media_id])"
   ]
  },
  {
   "cell_type": "code",
   "execution_count": null,
   "id": "49a88fa3",
   "metadata": {},
   "outputs": [],
   "source": []
  }
 ],
 "metadata": {
  "kernelspec": {
   "display_name": "Python 3 (ipykernel)",
   "language": "python",
   "name": "python3"
  },
  "language_info": {
   "codemirror_mode": {
    "name": "ipython",
    "version": 3
   },
   "file_extension": ".py",
   "mimetype": "text/x-python",
   "name": "python",
   "nbconvert_exporter": "python",
   "pygments_lexer": "ipython3",
   "version": "3.11.4"
  }
 },
 "nbformat": 4,
 "nbformat_minor": 5
}
