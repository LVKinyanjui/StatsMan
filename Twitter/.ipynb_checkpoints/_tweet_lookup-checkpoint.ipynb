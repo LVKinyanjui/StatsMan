{
 "cells": [
  {
   "cell_type": "code",
   "execution_count": 1,
   "id": "33fdf66c-0d83-427e-8ba7-8bccbe813b09",
   "metadata": {
    "tags": []
   },
   "outputs": [],
   "source": [
    "import requests"
   ]
  },
  {
   "cell_type": "code",
   "execution_count": 3,
   "id": "5f26822e-058a-4b40-b241-51787512b16d",
   "metadata": {
    "tags": []
   },
   "outputs": [],
   "source": [
    "base_url = \"https://api.twitter.com\""
   ]
  },
  {
   "cell_type": "markdown",
   "id": "1ff56ba1-5ece-4dea-9f50-e64f94641dda",
   "metadata": {},
   "source": [
    "## Pull My Tweets"
   ]
  },
  {
   "cell_type": "code",
   "execution_count": 5,
   "id": "43119903-b3c7-4ed1-a0b6-b63f33e45203",
   "metadata": {
    "tags": []
   },
   "outputs": [
    {
     "data": {
      "text/plain": [
       "'https://api.twitter.com/2/users/me'"
      ]
     },
     "execution_count": 5,
     "metadata": {},
     "output_type": "execute_result"
    }
   ],
   "source": [
    "endpoint = '/2/users/me'\n",
    "\n",
    "search_url = base_url + endpoint\n",
    "search_url"
   ]
  },
  {
   "cell_type": "code",
   "execution_count": 6,
   "id": "b63e16ea-7d70-490a-88a3-e177dbab89a6",
   "metadata": {
    "tags": []
   },
   "outputs": [
    {
     "data": {
      "text/plain": [
       "401"
      ]
     },
     "execution_count": 6,
     "metadata": {},
     "output_type": "execute_result"
    }
   ],
   "source": [
    "response = requests.get(search_url)\n",
    "response.status_code"
   ]
  },
  {
   "cell_type": "code",
   "execution_count": null,
   "id": "75497861-3429-40dc-b6ab-dfec8f317df1",
   "metadata": {},
   "outputs": [],
   "source": []
  }
 ],
 "metadata": {
  "kernelspec": {
   "display_name": "Python 3 (ipykernel)",
   "language": "python",
   "name": "python3"
  },
  "language_info": {
   "codemirror_mode": {
    "name": "ipython",
    "version": 3
   },
   "file_extension": ".py",
   "mimetype": "text/x-python",
   "name": "python",
   "nbconvert_exporter": "python",
   "pygments_lexer": "ipython3",
   "version": "3.10.4"
  }
 },
 "nbformat": 4,
 "nbformat_minor": 5
}
