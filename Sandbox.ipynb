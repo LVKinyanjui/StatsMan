{
 "cells": [
  {
   "cell_type": "code",
   "execution_count": null,
   "id": "cbdc218e-8957-4c3b-82bb-1f66e5560261",
   "metadata": {
    "tags": []
   },
   "outputs": [],
   "source": [
    "import os\n",
    "import csv\n",
    "from googleapiclient.discovery import build"
   ]
  },
  {
   "cell_type": "markdown",
   "id": "5362da89-f30f-4dd3-a0be-9a3031edd4ed",
   "metadata": {},
   "source": [
    "## Functions"
   ]
  },
  {
   "cell_type": "code",
   "execution_count": null,
   "id": "cae57d2f-0d27-4673-8da0-a77668b0a52c",
   "metadata": {
    "tags": []
   },
   "outputs": [],
   "source": [
    "def extract_key_from_json(json_data, target_key):\n",
    "    result = []\n",
    "\n",
    "    def search_nested(json_obj, key):\n",
    "        if isinstance(json_obj, dict):\n",
    "            for k, v in json_obj.items():\n",
    "                if k == key:\n",
    "                    result.append(v)\n",
    "                elif isinstance(v, (dict, list)):\n",
    "                    search_nested(v, key)\n",
    "        elif isinstance(json_obj, list):\n",
    "            for item in json_obj:\n",
    "                search_nested(item, key)\n",
    "\n",
    "    search_nested(json_data, target_key)\n",
    "    return result\n"
   ]
  },
  {
   "cell_type": "markdown",
   "id": "4ec9f481-1779-4d9a-9a19-ad180a8b7d98",
   "metadata": {},
   "source": [
    "## API Call"
   ]
  },
  {
   "cell_type": "code",
   "execution_count": 53,
   "id": "8efc86a3-9b00-4f5f-8ace-368ed6bd1632",
   "metadata": {
    "tags": []
   },
   "outputs": [
    {
     "name": "stdin",
     "output_type": "stream",
     "text": [
      "Enter any video ID from the channel of interest:  DxL2HoqLbyA\n"
     ]
    }
   ],
   "source": [
    "VIDEO_ID = input(\"Enter any video ID from the channel of interest: \")\n",
    "API_KEY = os.getenv('YOUTUBE_API_KEY')\n",
    "CHANNEL_USERNAME = \"@RockstarAcademy\""
   ]
  },
  {
   "cell_type": "code",
   "execution_count": 54,
   "id": "57adb8b3-a983-4762-a8c9-2d79f13488fc",
   "metadata": {
    "tags": []
   },
   "outputs": [],
   "source": [
    "# Create a YouTube API client\n",
    "youtube = build(\"youtube\", \"v3\", developerKey=API_KEY)"
   ]
  },
  {
   "cell_type": "code",
   "execution_count": 55,
   "id": "13d27b2a-6d08-4c57-816c-84f090248021",
   "metadata": {
    "tags": []
   },
   "outputs": [],
   "source": [
    "# Get the channel ID using a random video ID from the channel\n",
    "channels_response = youtube.videos().list(\n",
    "    part=\"snippet\",\n",
    "    id=VIDEO_ID\n",
    ").execute()\n",
    "\n",
    "channel_id = extract_key_from_json(channels_response, 'channelId')"
   ]
  },
  {
   "cell_type": "code",
   "execution_count": 59,
   "id": "c5a6c39a-8e88-42ad-99e9-7c90b8693878",
   "metadata": {
    "tags": []
   },
   "outputs": [],
   "source": [
    "# Request the playlist ID of the channel's uploaded videos\n",
    "channels_response = youtube.channels().list(\n",
    "    part=\"snippet,contentDetails\",\n",
    "    id=channel_id\n",
    ").execute()\n",
    "\n",
    "playlist_id = extract_key_from_json(channels_response, 'uploads')[0]\n",
    "channel_username = extract_key_from_json(channels_response, 'customUrl')[0]"
   ]
  },
  {
   "cell_type": "code",
   "execution_count": 61,
   "id": "79e09dd5-d9f1-4558-8b71-e4433546c592",
   "metadata": {
    "tags": []
   },
   "outputs": [],
   "source": [
    "# Retrieve the video titles from the playlist\n",
    "videos = []\n",
    "next_page_token = None\n",
    "\n",
    "while True:\n",
    "    playlist_items_response = youtube.playlistItems().list(\n",
    "        part=\"snippet\",\n",
    "        playlistId=playlist_id,\n",
    "        maxResults=50,\n",
    "        pageToken=next_page_token\n",
    "    ).execute()\n",
    "\n",
    "    for item in playlist_items_response[\"items\"]:\n",
    "        title = item[\"snippet\"][\"title\"]\n",
    "        videos.append(title)\n",
    "\n",
    "    next_page_token = playlist_items_response.get(\"nextPageToken\")\n",
    "\n",
    "    if not next_page_token:\n",
    "        break"
   ]
  },
  {
   "cell_type": "code",
   "execution_count": null,
   "id": "b028757b-c391-497a-80c7-800903dfe047",
   "metadata": {},
   "outputs": [],
   "source": [
    "filename = f\"./data/{channel_username}.csv\"\n",
    "with open(filename, \"w\", encoding='utf-8') as file:\n",
    "    file.write('text' + '\\n')\n",
    "    for video in videos:\n",
    "        file.write(video + \"\\n\")"
   ]
  }
 ],
 "metadata": {
  "kernelspec": {
   "display_name": "Python 3 (ipykernel)",
   "language": "python",
   "name": "python3"
  },
  "language_info": {
   "codemirror_mode": {
    "name": "ipython",
    "version": 3
   },
   "file_extension": ".py",
   "mimetype": "text/x-python",
   "name": "python",
   "nbconvert_exporter": "python",
   "pygments_lexer": "ipython3",
   "version": "3.10.4"
  }
 },
 "nbformat": 4,
 "nbformat_minor": 5
}
